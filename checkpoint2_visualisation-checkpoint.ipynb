{
 "cells": [
  {
   "cell_type": "code",
   "execution_count": 240,
   "metadata": {
    "scrolled": true
   },
   "outputs": [],
   "source": [
    "import pandas as pd\n",
    "import numpy as np\n",
    "import matplotlib.pyplot as plt\n",
    "from matplotlib import cm\n",
    "import seaborn as sns\n",
    "from sklearn.preprocessing import LabelEncoder"
   ]
  },
  {
   "cell_type": "markdown",
   "metadata": {},
   "source": [
    "### importing our dataset"
   ]
  },
  {
   "cell_type": "code",
   "execution_count": 241,
   "metadata": {},
   "outputs": [
    {
     "data": {
      "text/html": [
       "<div>\n",
       "<style scoped>\n",
       "    .dataframe tbody tr th:only-of-type {\n",
       "        vertical-align: middle;\n",
       "    }\n",
       "\n",
       "    .dataframe tbody tr th {\n",
       "        vertical-align: top;\n",
       "    }\n",
       "\n",
       "    .dataframe thead th {\n",
       "        text-align: right;\n",
       "    }\n",
       "</style>\n",
       "<table border=\"1\" class=\"dataframe\">\n",
       "  <thead>\n",
       "    <tr style=\"text-align: right;\">\n",
       "      <th></th>\n",
       "      <th>PassengerId</th>\n",
       "      <th>Survived</th>\n",
       "      <th>Pclass</th>\n",
       "      <th>Name</th>\n",
       "      <th>Sex</th>\n",
       "      <th>Age</th>\n",
       "      <th>SibSp</th>\n",
       "      <th>Parch</th>\n",
       "      <th>Ticket</th>\n",
       "      <th>Fare</th>\n",
       "      <th>Cabin</th>\n",
       "      <th>Embarked</th>\n",
       "    </tr>\n",
       "  </thead>\n",
       "  <tbody>\n",
       "    <tr>\n",
       "      <th>0</th>\n",
       "      <td>343</td>\n",
       "      <td>No</td>\n",
       "      <td>2</td>\n",
       "      <td>Collander, Mr. Erik Gustaf</td>\n",
       "      <td>male</td>\n",
       "      <td>28.0</td>\n",
       "      <td>0</td>\n",
       "      <td>0</td>\n",
       "      <td>248740</td>\n",
       "      <td>13.0000</td>\n",
       "      <td>NaN</td>\n",
       "      <td>S</td>\n",
       "    </tr>\n",
       "    <tr>\n",
       "      <th>1</th>\n",
       "      <td>76</td>\n",
       "      <td>No</td>\n",
       "      <td>3</td>\n",
       "      <td>Moen, Mr. Sigurd Hansen</td>\n",
       "      <td>male</td>\n",
       "      <td>25.0</td>\n",
       "      <td>0</td>\n",
       "      <td>0</td>\n",
       "      <td>348123</td>\n",
       "      <td>7.6500</td>\n",
       "      <td>F G73</td>\n",
       "      <td>S</td>\n",
       "    </tr>\n",
       "    <tr>\n",
       "      <th>2</th>\n",
       "      <td>641</td>\n",
       "      <td>No</td>\n",
       "      <td>3</td>\n",
       "      <td>Jensen, Mr. Hans Peder</td>\n",
       "      <td>male</td>\n",
       "      <td>20.0</td>\n",
       "      <td>0</td>\n",
       "      <td>0</td>\n",
       "      <td>350050</td>\n",
       "      <td>7.8542</td>\n",
       "      <td>NaN</td>\n",
       "      <td>S</td>\n",
       "    </tr>\n",
       "    <tr>\n",
       "      <th>3</th>\n",
       "      <td>568</td>\n",
       "      <td>No</td>\n",
       "      <td>3</td>\n",
       "      <td>Palsson, Mrs. Nils (Alma Cornelia Berglund)</td>\n",
       "      <td>female</td>\n",
       "      <td>29.0</td>\n",
       "      <td>0</td>\n",
       "      <td>4</td>\n",
       "      <td>349909</td>\n",
       "      <td>21.0750</td>\n",
       "      <td>NaN</td>\n",
       "      <td>S</td>\n",
       "    </tr>\n",
       "    <tr>\n",
       "      <th>4</th>\n",
       "      <td>672</td>\n",
       "      <td>No</td>\n",
       "      <td>1</td>\n",
       "      <td>Davidson, Mr. Thornton</td>\n",
       "      <td>male</td>\n",
       "      <td>31.0</td>\n",
       "      <td>1</td>\n",
       "      <td>0</td>\n",
       "      <td>F.C. 12750</td>\n",
       "      <td>52.0000</td>\n",
       "      <td>B71</td>\n",
       "      <td>S</td>\n",
       "    </tr>\n",
       "    <tr>\n",
       "      <th>...</th>\n",
       "      <td>...</td>\n",
       "      <td>...</td>\n",
       "      <td>...</td>\n",
       "      <td>...</td>\n",
       "      <td>...</td>\n",
       "      <td>...</td>\n",
       "      <td>...</td>\n",
       "      <td>...</td>\n",
       "      <td>...</td>\n",
       "      <td>...</td>\n",
       "      <td>...</td>\n",
       "      <td>...</td>\n",
       "    </tr>\n",
       "    <tr>\n",
       "      <th>886</th>\n",
       "      <td>10</td>\n",
       "      <td>Yes</td>\n",
       "      <td>2</td>\n",
       "      <td>Nasser, Mrs. Nicholas (Adele Achem)</td>\n",
       "      <td>female</td>\n",
       "      <td>14.0</td>\n",
       "      <td>1</td>\n",
       "      <td>0</td>\n",
       "      <td>237736</td>\n",
       "      <td>30.0708</td>\n",
       "      <td>NaN</td>\n",
       "      <td>C</td>\n",
       "    </tr>\n",
       "    <tr>\n",
       "      <th>887</th>\n",
       "      <td>61</td>\n",
       "      <td>No</td>\n",
       "      <td>3</td>\n",
       "      <td>Sirayanian, Mr. Orsen</td>\n",
       "      <td>male</td>\n",
       "      <td>22.0</td>\n",
       "      <td>0</td>\n",
       "      <td>0</td>\n",
       "      <td>2669</td>\n",
       "      <td>7.2292</td>\n",
       "      <td>NaN</td>\n",
       "      <td>C</td>\n",
       "    </tr>\n",
       "    <tr>\n",
       "      <th>888</th>\n",
       "      <td>535</td>\n",
       "      <td>No</td>\n",
       "      <td>3</td>\n",
       "      <td>Cacic, Miss. Marija</td>\n",
       "      <td>female</td>\n",
       "      <td>30.0</td>\n",
       "      <td>0</td>\n",
       "      <td>0</td>\n",
       "      <td>315084</td>\n",
       "      <td>8.6625</td>\n",
       "      <td>NaN</td>\n",
       "      <td>S</td>\n",
       "    </tr>\n",
       "    <tr>\n",
       "      <th>889</th>\n",
       "      <td>102</td>\n",
       "      <td>No</td>\n",
       "      <td>3</td>\n",
       "      <td>Petroff, Mr. Pastcho (\"Pentcho\")</td>\n",
       "      <td>male</td>\n",
       "      <td>NaN</td>\n",
       "      <td>0</td>\n",
       "      <td>0</td>\n",
       "      <td>349215</td>\n",
       "      <td>7.8958</td>\n",
       "      <td>NaN</td>\n",
       "      <td>S</td>\n",
       "    </tr>\n",
       "    <tr>\n",
       "      <th>890</th>\n",
       "      <td>428</td>\n",
       "      <td>Yes</td>\n",
       "      <td>2</td>\n",
       "      <td>Phillips, Miss. Kate Florence (\"Mrs Kate Louis...</td>\n",
       "      <td>female</td>\n",
       "      <td>19.0</td>\n",
       "      <td>0</td>\n",
       "      <td>0</td>\n",
       "      <td>250655</td>\n",
       "      <td>26.0000</td>\n",
       "      <td>NaN</td>\n",
       "      <td>S</td>\n",
       "    </tr>\n",
       "  </tbody>\n",
       "</table>\n",
       "<p>891 rows × 12 columns</p>\n",
       "</div>"
      ],
      "text/plain": [
       "     PassengerId Survived  Pclass  \\\n",
       "0            343       No       2   \n",
       "1             76       No       3   \n",
       "2            641       No       3   \n",
       "3            568       No       3   \n",
       "4            672       No       1   \n",
       "..           ...      ...     ...   \n",
       "886           10      Yes       2   \n",
       "887           61       No       3   \n",
       "888          535       No       3   \n",
       "889          102       No       3   \n",
       "890          428      Yes       2   \n",
       "\n",
       "                                                  Name     Sex   Age  SibSp  \\\n",
       "0                           Collander, Mr. Erik Gustaf    male  28.0      0   \n",
       "1                              Moen, Mr. Sigurd Hansen    male  25.0      0   \n",
       "2                               Jensen, Mr. Hans Peder    male  20.0      0   \n",
       "3          Palsson, Mrs. Nils (Alma Cornelia Berglund)  female  29.0      0   \n",
       "4                               Davidson, Mr. Thornton    male  31.0      1   \n",
       "..                                                 ...     ...   ...    ...   \n",
       "886                Nasser, Mrs. Nicholas (Adele Achem)  female  14.0      1   \n",
       "887                              Sirayanian, Mr. Orsen    male  22.0      0   \n",
       "888                                Cacic, Miss. Marija  female  30.0      0   \n",
       "889                   Petroff, Mr. Pastcho (\"Pentcho\")    male   NaN      0   \n",
       "890  Phillips, Miss. Kate Florence (\"Mrs Kate Louis...  female  19.0      0   \n",
       "\n",
       "     Parch      Ticket     Fare  Cabin Embarked  \n",
       "0        0      248740  13.0000    NaN        S  \n",
       "1        0      348123   7.6500  F G73        S  \n",
       "2        0      350050   7.8542    NaN        S  \n",
       "3        4      349909  21.0750    NaN        S  \n",
       "4        0  F.C. 12750  52.0000    B71        S  \n",
       "..     ...         ...      ...    ...      ...  \n",
       "886      0      237736  30.0708    NaN        C  \n",
       "887      0        2669   7.2292    NaN        C  \n",
       "888      0      315084   8.6625    NaN        S  \n",
       "889      0      349215   7.8958    NaN        S  \n",
       "890      0      250655  26.0000    NaN        S  \n",
       "\n",
       "[891 rows x 12 columns]"
      ]
     },
     "execution_count": 241,
     "metadata": {},
     "output_type": "execute_result"
    }
   ],
   "source": [
    "data = pd.read_csv(r\"C:\\Users\\DARDOURI\\.ipynb_checkpoints\\titanic-passengers.csv\",sep=\";\")\n",
    "data\n",
    "# if you goan erro dowload the file and set its location"
   ]
  },
  {
   "cell_type": "markdown",
   "metadata": {},
   "source": [
    "### getting some information about the dataset"
   ]
  },
  {
   "cell_type": "code",
   "execution_count": 242,
   "metadata": {},
   "outputs": [
    {
     "name": "stdout",
     "output_type": "stream",
     "text": [
      "<class 'pandas.core.frame.DataFrame'>\n",
      "RangeIndex: 891 entries, 0 to 890\n",
      "Data columns (total 12 columns):\n",
      " #   Column       Non-Null Count  Dtype  \n",
      "---  ------       --------------  -----  \n",
      " 0   PassengerId  891 non-null    int64  \n",
      " 1   Survived     891 non-null    object \n",
      " 2   Pclass       891 non-null    int64  \n",
      " 3   Name         891 non-null    object \n",
      " 4   Sex          891 non-null    object \n",
      " 5   Age          714 non-null    float64\n",
      " 6   SibSp        891 non-null    int64  \n",
      " 7   Parch        891 non-null    int64  \n",
      " 8   Ticket       891 non-null    object \n",
      " 9   Fare         891 non-null    float64\n",
      " 10  Cabin        204 non-null    object \n",
      " 11  Embarked     889 non-null    object \n",
      "dtypes: float64(2), int64(4), object(6)\n",
      "memory usage: 83.7+ KB\n"
     ]
    }
   ],
   "source": [
    "data.info()"
   ]
  },
  {
   "cell_type": "code",
   "execution_count": 243,
   "metadata": {},
   "outputs": [
    {
     "data": {
      "text/html": [
       "<div>\n",
       "<style scoped>\n",
       "    .dataframe tbody tr th:only-of-type {\n",
       "        vertical-align: middle;\n",
       "    }\n",
       "\n",
       "    .dataframe tbody tr th {\n",
       "        vertical-align: top;\n",
       "    }\n",
       "\n",
       "    .dataframe thead th {\n",
       "        text-align: right;\n",
       "    }\n",
       "</style>\n",
       "<table border=\"1\" class=\"dataframe\">\n",
       "  <thead>\n",
       "    <tr style=\"text-align: right;\">\n",
       "      <th></th>\n",
       "      <th>PassengerId</th>\n",
       "      <th>Pclass</th>\n",
       "      <th>Age</th>\n",
       "      <th>SibSp</th>\n",
       "      <th>Parch</th>\n",
       "      <th>Fare</th>\n",
       "    </tr>\n",
       "  </thead>\n",
       "  <tbody>\n",
       "    <tr>\n",
       "      <th>count</th>\n",
       "      <td>891.000000</td>\n",
       "      <td>891.000000</td>\n",
       "      <td>714.000000</td>\n",
       "      <td>891.000000</td>\n",
       "      <td>891.000000</td>\n",
       "      <td>891.000000</td>\n",
       "    </tr>\n",
       "    <tr>\n",
       "      <th>mean</th>\n",
       "      <td>446.000000</td>\n",
       "      <td>2.308642</td>\n",
       "      <td>29.699118</td>\n",
       "      <td>0.523008</td>\n",
       "      <td>0.381594</td>\n",
       "      <td>32.204208</td>\n",
       "    </tr>\n",
       "    <tr>\n",
       "      <th>std</th>\n",
       "      <td>257.353842</td>\n",
       "      <td>0.836071</td>\n",
       "      <td>14.526497</td>\n",
       "      <td>1.102743</td>\n",
       "      <td>0.806057</td>\n",
       "      <td>49.693429</td>\n",
       "    </tr>\n",
       "    <tr>\n",
       "      <th>min</th>\n",
       "      <td>1.000000</td>\n",
       "      <td>1.000000</td>\n",
       "      <td>0.420000</td>\n",
       "      <td>0.000000</td>\n",
       "      <td>0.000000</td>\n",
       "      <td>0.000000</td>\n",
       "    </tr>\n",
       "    <tr>\n",
       "      <th>25%</th>\n",
       "      <td>223.500000</td>\n",
       "      <td>2.000000</td>\n",
       "      <td>20.125000</td>\n",
       "      <td>0.000000</td>\n",
       "      <td>0.000000</td>\n",
       "      <td>7.910400</td>\n",
       "    </tr>\n",
       "    <tr>\n",
       "      <th>50%</th>\n",
       "      <td>446.000000</td>\n",
       "      <td>3.000000</td>\n",
       "      <td>28.000000</td>\n",
       "      <td>0.000000</td>\n",
       "      <td>0.000000</td>\n",
       "      <td>14.454200</td>\n",
       "    </tr>\n",
       "    <tr>\n",
       "      <th>75%</th>\n",
       "      <td>668.500000</td>\n",
       "      <td>3.000000</td>\n",
       "      <td>38.000000</td>\n",
       "      <td>1.000000</td>\n",
       "      <td>0.000000</td>\n",
       "      <td>31.000000</td>\n",
       "    </tr>\n",
       "    <tr>\n",
       "      <th>max</th>\n",
       "      <td>891.000000</td>\n",
       "      <td>3.000000</td>\n",
       "      <td>80.000000</td>\n",
       "      <td>8.000000</td>\n",
       "      <td>6.000000</td>\n",
       "      <td>512.329200</td>\n",
       "    </tr>\n",
       "  </tbody>\n",
       "</table>\n",
       "</div>"
      ],
      "text/plain": [
       "       PassengerId      Pclass         Age       SibSp       Parch        Fare\n",
       "count   891.000000  891.000000  714.000000  891.000000  891.000000  891.000000\n",
       "mean    446.000000    2.308642   29.699118    0.523008    0.381594   32.204208\n",
       "std     257.353842    0.836071   14.526497    1.102743    0.806057   49.693429\n",
       "min       1.000000    1.000000    0.420000    0.000000    0.000000    0.000000\n",
       "25%     223.500000    2.000000   20.125000    0.000000    0.000000    7.910400\n",
       "50%     446.000000    3.000000   28.000000    0.000000    0.000000   14.454200\n",
       "75%     668.500000    3.000000   38.000000    1.000000    0.000000   31.000000\n",
       "max     891.000000    3.000000   80.000000    8.000000    6.000000  512.329200"
      ]
     },
     "execution_count": 243,
     "metadata": {},
     "output_type": "execute_result"
    }
   ],
   "source": [
    "data.describe()"
   ]
  },
  {
   "cell_type": "markdown",
   "metadata": {},
   "source": [
    "### checking for \"NaN\" values"
   ]
  },
  {
   "cell_type": "code",
   "execution_count": 244,
   "metadata": {},
   "outputs": [
    {
     "data": {
      "text/plain": [
       "PassengerId      0\n",
       "Survived         0\n",
       "Pclass           0\n",
       "Name             0\n",
       "Sex              0\n",
       "Age            177\n",
       "SibSp            0\n",
       "Parch            0\n",
       "Ticket           0\n",
       "Fare             0\n",
       "Cabin          687\n",
       "Embarked         2\n",
       "dtype: int64"
      ]
     },
     "execution_count": 244,
     "metadata": {},
     "output_type": "execute_result"
    }
   ],
   "source": [
    "data.isnull().sum()"
   ]
  },
  {
   "cell_type": "code",
   "execution_count": 245,
   "metadata": {},
   "outputs": [
    {
     "data": {
      "text/plain": [
       "866"
      ]
     },
     "execution_count": 245,
     "metadata": {},
     "output_type": "execute_result"
    }
   ],
   "source": [
    "na_counts = data.isnull().sum().sum()\n",
    "na_counts"
   ]
  },
  {
   "cell_type": "markdown",
   "metadata": {},
   "source": [
    "we see that the \"Cabin\" column has too many \"NaN\" thus we will delete it\n",
    "<br>\n",
    "we will also delete the \"Name\" columns by the way"
   ]
  },
  {
   "cell_type": "code",
   "execution_count": 246,
   "metadata": {},
   "outputs": [],
   "source": [
    "data0 = data.drop([\"Cabin\",\"Name\"],axis=1)"
   ]
  },
  {
   "cell_type": "markdown",
   "metadata": {},
   "source": [
    "### here we are filling the \"NaN\" values of the \"Age\" column with the mean since we've got enough informations to do a quiet good approximation without affecting the quality of the data"
   ]
  },
  {
   "cell_type": "code",
   "execution_count": 247,
   "metadata": {
    "scrolled": true
   },
   "outputs": [
    {
     "data": {
      "text/plain": [
       "0"
      ]
     },
     "execution_count": 247,
     "metadata": {},
     "output_type": "execute_result"
    }
   ],
   "source": [
    "data1 = data0.fillna(data[\"Age\"].mean())\n",
    "data1[\"Age\"].isnull().sum()"
   ]
  },
  {
   "cell_type": "markdown",
   "metadata": {},
   "source": [
    "### LabelEncoding the \"survived\" and \"sex\" column"
   ]
  },
  {
   "cell_type": "code",
   "execution_count": 248,
   "metadata": {},
   "outputs": [],
   "source": [
    "data1[\"Survived\"] = LabelEncoder().fit_transform(data1[\"Survived\"])\n",
    "data1[\"Sex\"] = LabelEncoder().fit_transform(data1[\"Sex\"])"
   ]
  },
  {
   "cell_type": "markdown",
   "metadata": {},
   "source": [
    "### Dropping the \"Ticket\" column  and the \"PassengerId\" column"
   ]
  },
  {
   "cell_type": "code",
   "execution_count": 249,
   "metadata": {},
   "outputs": [],
   "source": [
    "data1.drop(\"Ticket\", axis = 1 , inplace = True ) \n",
    "data1.drop(\"PassengerId\" , axis = 1 , inplace = True)"
   ]
  },
  {
   "cell_type": "markdown",
   "metadata": {},
   "source": [
    "### checking for \"Embarked\" columns unique values ."
   ]
  },
  {
   "cell_type": "code",
   "execution_count": 250,
   "metadata": {},
   "outputs": [
    {
     "data": {
      "text/plain": [
       "S                    644\n",
       "C                    168\n",
       "Q                     77\n",
       "29.69911764705882      2\n",
       "Name: Embarked, dtype: int64"
      ]
     },
     "execution_count": 250,
     "metadata": {},
     "output_type": "execute_result"
    }
   ],
   "source": [
    "pd.value_counts(data1[\"Embarked\"])"
   ]
  },
  {
   "cell_type": "markdown",
   "metadata": {},
   "source": [
    "we remark that there is two undesirable element.\n",
    "<br>\n",
    "we will drop then after \"one hot encoding\" the \"Embarked\" label"
   ]
  },
  {
   "cell_type": "markdown",
   "metadata": {},
   "source": [
    "### using one hot encoding to encode the  \"Embarked \" column since it gots 3 unique value with the same level of preority"
   ]
  },
  {
   "cell_type": "code",
   "execution_count": 251,
   "metadata": {},
   "outputs": [],
   "source": [
    "#encoding\n",
    "one_hot = pd.get_dummies(data1[\"Embarked\"], dtype = int)\n",
    "\n",
    "#setting columns labels\n",
    "one_hot.columns = ['a','C', 'Q', 'S']\n",
    "\n",
    "#dropping the 'a' \n",
    "one_hot.drop('a',axis = 1 , inplace = True)\n",
    "\n",
    "#dropping the \"Embarked\" column\n",
    "data1.drop(\"Embarked\", axis = 1 , inplace =True )\n",
    "\n",
    "#joining\n",
    "data_final = data1.join(one_hot)"
   ]
  },
  {
   "cell_type": "markdown",
   "metadata": {},
   "source": [
    "### data_final"
   ]
  },
  {
   "cell_type": "code",
   "execution_count": 252,
   "metadata": {
    "scrolled": false
   },
   "outputs": [
    {
     "data": {
      "text/html": [
       "<div>\n",
       "<style scoped>\n",
       "    .dataframe tbody tr th:only-of-type {\n",
       "        vertical-align: middle;\n",
       "    }\n",
       "\n",
       "    .dataframe tbody tr th {\n",
       "        vertical-align: top;\n",
       "    }\n",
       "\n",
       "    .dataframe thead th {\n",
       "        text-align: right;\n",
       "    }\n",
       "</style>\n",
       "<table border=\"1\" class=\"dataframe\">\n",
       "  <thead>\n",
       "    <tr style=\"text-align: right;\">\n",
       "      <th></th>\n",
       "      <th>Survived</th>\n",
       "      <th>Pclass</th>\n",
       "      <th>Sex</th>\n",
       "      <th>Age</th>\n",
       "      <th>SibSp</th>\n",
       "      <th>Parch</th>\n",
       "      <th>Fare</th>\n",
       "      <th>C</th>\n",
       "      <th>Q</th>\n",
       "      <th>S</th>\n",
       "    </tr>\n",
       "  </thead>\n",
       "  <tbody>\n",
       "    <tr>\n",
       "      <th>0</th>\n",
       "      <td>0</td>\n",
       "      <td>2</td>\n",
       "      <td>1</td>\n",
       "      <td>28.000000</td>\n",
       "      <td>0</td>\n",
       "      <td>0</td>\n",
       "      <td>13.0000</td>\n",
       "      <td>0</td>\n",
       "      <td>0</td>\n",
       "      <td>1</td>\n",
       "    </tr>\n",
       "    <tr>\n",
       "      <th>1</th>\n",
       "      <td>0</td>\n",
       "      <td>3</td>\n",
       "      <td>1</td>\n",
       "      <td>25.000000</td>\n",
       "      <td>0</td>\n",
       "      <td>0</td>\n",
       "      <td>7.6500</td>\n",
       "      <td>0</td>\n",
       "      <td>0</td>\n",
       "      <td>1</td>\n",
       "    </tr>\n",
       "    <tr>\n",
       "      <th>2</th>\n",
       "      <td>0</td>\n",
       "      <td>3</td>\n",
       "      <td>1</td>\n",
       "      <td>20.000000</td>\n",
       "      <td>0</td>\n",
       "      <td>0</td>\n",
       "      <td>7.8542</td>\n",
       "      <td>0</td>\n",
       "      <td>0</td>\n",
       "      <td>1</td>\n",
       "    </tr>\n",
       "    <tr>\n",
       "      <th>3</th>\n",
       "      <td>0</td>\n",
       "      <td>3</td>\n",
       "      <td>0</td>\n",
       "      <td>29.000000</td>\n",
       "      <td>0</td>\n",
       "      <td>4</td>\n",
       "      <td>21.0750</td>\n",
       "      <td>0</td>\n",
       "      <td>0</td>\n",
       "      <td>1</td>\n",
       "    </tr>\n",
       "    <tr>\n",
       "      <th>4</th>\n",
       "      <td>0</td>\n",
       "      <td>1</td>\n",
       "      <td>1</td>\n",
       "      <td>31.000000</td>\n",
       "      <td>1</td>\n",
       "      <td>0</td>\n",
       "      <td>52.0000</td>\n",
       "      <td>0</td>\n",
       "      <td>0</td>\n",
       "      <td>1</td>\n",
       "    </tr>\n",
       "    <tr>\n",
       "      <th>...</th>\n",
       "      <td>...</td>\n",
       "      <td>...</td>\n",
       "      <td>...</td>\n",
       "      <td>...</td>\n",
       "      <td>...</td>\n",
       "      <td>...</td>\n",
       "      <td>...</td>\n",
       "      <td>...</td>\n",
       "      <td>...</td>\n",
       "      <td>...</td>\n",
       "    </tr>\n",
       "    <tr>\n",
       "      <th>886</th>\n",
       "      <td>1</td>\n",
       "      <td>2</td>\n",
       "      <td>0</td>\n",
       "      <td>14.000000</td>\n",
       "      <td>1</td>\n",
       "      <td>0</td>\n",
       "      <td>30.0708</td>\n",
       "      <td>1</td>\n",
       "      <td>0</td>\n",
       "      <td>0</td>\n",
       "    </tr>\n",
       "    <tr>\n",
       "      <th>887</th>\n",
       "      <td>0</td>\n",
       "      <td>3</td>\n",
       "      <td>1</td>\n",
       "      <td>22.000000</td>\n",
       "      <td>0</td>\n",
       "      <td>0</td>\n",
       "      <td>7.2292</td>\n",
       "      <td>1</td>\n",
       "      <td>0</td>\n",
       "      <td>0</td>\n",
       "    </tr>\n",
       "    <tr>\n",
       "      <th>888</th>\n",
       "      <td>0</td>\n",
       "      <td>3</td>\n",
       "      <td>0</td>\n",
       "      <td>30.000000</td>\n",
       "      <td>0</td>\n",
       "      <td>0</td>\n",
       "      <td>8.6625</td>\n",
       "      <td>0</td>\n",
       "      <td>0</td>\n",
       "      <td>1</td>\n",
       "    </tr>\n",
       "    <tr>\n",
       "      <th>889</th>\n",
       "      <td>0</td>\n",
       "      <td>3</td>\n",
       "      <td>1</td>\n",
       "      <td>29.699118</td>\n",
       "      <td>0</td>\n",
       "      <td>0</td>\n",
       "      <td>7.8958</td>\n",
       "      <td>0</td>\n",
       "      <td>0</td>\n",
       "      <td>1</td>\n",
       "    </tr>\n",
       "    <tr>\n",
       "      <th>890</th>\n",
       "      <td>1</td>\n",
       "      <td>2</td>\n",
       "      <td>0</td>\n",
       "      <td>19.000000</td>\n",
       "      <td>0</td>\n",
       "      <td>0</td>\n",
       "      <td>26.0000</td>\n",
       "      <td>0</td>\n",
       "      <td>0</td>\n",
       "      <td>1</td>\n",
       "    </tr>\n",
       "  </tbody>\n",
       "</table>\n",
       "<p>891 rows × 10 columns</p>\n",
       "</div>"
      ],
      "text/plain": [
       "     Survived  Pclass  Sex        Age  SibSp  Parch     Fare  C  Q  S\n",
       "0           0       2    1  28.000000      0      0  13.0000  0  0  1\n",
       "1           0       3    1  25.000000      0      0   7.6500  0  0  1\n",
       "2           0       3    1  20.000000      0      0   7.8542  0  0  1\n",
       "3           0       3    0  29.000000      0      4  21.0750  0  0  1\n",
       "4           0       1    1  31.000000      1      0  52.0000  0  0  1\n",
       "..        ...     ...  ...        ...    ...    ...      ... .. .. ..\n",
       "886         1       2    0  14.000000      1      0  30.0708  1  0  0\n",
       "887         0       3    1  22.000000      0      0   7.2292  1  0  0\n",
       "888         0       3    0  30.000000      0      0   8.6625  0  0  1\n",
       "889         0       3    1  29.699118      0      0   7.8958  0  0  1\n",
       "890         1       2    0  19.000000      0      0  26.0000  0  0  1\n",
       "\n",
       "[891 rows x 10 columns]"
      ]
     },
     "execution_count": 252,
     "metadata": {},
     "output_type": "execute_result"
    }
   ],
   "source": [
    "\n",
    "data_final\n"
   ]
  },
  {
   "cell_type": "code",
   "execution_count": 253,
   "metadata": {},
   "outputs": [
    {
     "data": {
      "text/html": [
       "<div>\n",
       "<style scoped>\n",
       "    .dataframe tbody tr th:only-of-type {\n",
       "        vertical-align: middle;\n",
       "    }\n",
       "\n",
       "    .dataframe tbody tr th {\n",
       "        vertical-align: top;\n",
       "    }\n",
       "\n",
       "    .dataframe thead th {\n",
       "        text-align: right;\n",
       "    }\n",
       "</style>\n",
       "<table border=\"1\" class=\"dataframe\">\n",
       "  <thead>\n",
       "    <tr style=\"text-align: right;\">\n",
       "      <th></th>\n",
       "      <th>Survived</th>\n",
       "      <th>Pclass</th>\n",
       "      <th>Sex</th>\n",
       "      <th>Age</th>\n",
       "      <th>SibSp</th>\n",
       "      <th>Parch</th>\n",
       "      <th>Fare</th>\n",
       "      <th>C</th>\n",
       "      <th>Q</th>\n",
       "      <th>S</th>\n",
       "    </tr>\n",
       "  </thead>\n",
       "  <tbody>\n",
       "    <tr>\n",
       "      <th>0</th>\n",
       "      <td>0</td>\n",
       "      <td>2</td>\n",
       "      <td>1</td>\n",
       "      <td>28.0</td>\n",
       "      <td>0</td>\n",
       "      <td>0</td>\n",
       "      <td>13.0000</td>\n",
       "      <td>0</td>\n",
       "      <td>0</td>\n",
       "      <td>1</td>\n",
       "    </tr>\n",
       "    <tr>\n",
       "      <th>1</th>\n",
       "      <td>0</td>\n",
       "      <td>3</td>\n",
       "      <td>1</td>\n",
       "      <td>25.0</td>\n",
       "      <td>0</td>\n",
       "      <td>0</td>\n",
       "      <td>7.6500</td>\n",
       "      <td>0</td>\n",
       "      <td>0</td>\n",
       "      <td>1</td>\n",
       "    </tr>\n",
       "    <tr>\n",
       "      <th>2</th>\n",
       "      <td>0</td>\n",
       "      <td>3</td>\n",
       "      <td>1</td>\n",
       "      <td>20.0</td>\n",
       "      <td>0</td>\n",
       "      <td>0</td>\n",
       "      <td>7.8542</td>\n",
       "      <td>0</td>\n",
       "      <td>0</td>\n",
       "      <td>1</td>\n",
       "    </tr>\n",
       "    <tr>\n",
       "      <th>3</th>\n",
       "      <td>0</td>\n",
       "      <td>3</td>\n",
       "      <td>0</td>\n",
       "      <td>29.0</td>\n",
       "      <td>0</td>\n",
       "      <td>4</td>\n",
       "      <td>21.0750</td>\n",
       "      <td>0</td>\n",
       "      <td>0</td>\n",
       "      <td>1</td>\n",
       "    </tr>\n",
       "    <tr>\n",
       "      <th>4</th>\n",
       "      <td>0</td>\n",
       "      <td>1</td>\n",
       "      <td>1</td>\n",
       "      <td>31.0</td>\n",
       "      <td>1</td>\n",
       "      <td>0</td>\n",
       "      <td>52.0000</td>\n",
       "      <td>0</td>\n",
       "      <td>0</td>\n",
       "      <td>1</td>\n",
       "    </tr>\n",
       "    <tr>\n",
       "      <th>5</th>\n",
       "      <td>0</td>\n",
       "      <td>3</td>\n",
       "      <td>1</td>\n",
       "      <td>37.0</td>\n",
       "      <td>2</td>\n",
       "      <td>0</td>\n",
       "      <td>7.9250</td>\n",
       "      <td>0</td>\n",
       "      <td>0</td>\n",
       "      <td>1</td>\n",
       "    </tr>\n",
       "    <tr>\n",
       "      <th>6</th>\n",
       "      <td>0</td>\n",
       "      <td>3</td>\n",
       "      <td>1</td>\n",
       "      <td>19.0</td>\n",
       "      <td>0</td>\n",
       "      <td>0</td>\n",
       "      <td>14.5000</td>\n",
       "      <td>0</td>\n",
       "      <td>0</td>\n",
       "      <td>1</td>\n",
       "    </tr>\n",
       "    <tr>\n",
       "      <th>7</th>\n",
       "      <td>1</td>\n",
       "      <td>3</td>\n",
       "      <td>0</td>\n",
       "      <td>1.0</td>\n",
       "      <td>0</td>\n",
       "      <td>2</td>\n",
       "      <td>15.7417</td>\n",
       "      <td>1</td>\n",
       "      <td>0</td>\n",
       "      <td>0</td>\n",
       "    </tr>\n",
       "    <tr>\n",
       "      <th>8</th>\n",
       "      <td>0</td>\n",
       "      <td>3</td>\n",
       "      <td>1</td>\n",
       "      <td>20.5</td>\n",
       "      <td>0</td>\n",
       "      <td>0</td>\n",
       "      <td>7.2500</td>\n",
       "      <td>0</td>\n",
       "      <td>0</td>\n",
       "      <td>1</td>\n",
       "    </tr>\n",
       "    <tr>\n",
       "      <th>9</th>\n",
       "      <td>1</td>\n",
       "      <td>2</td>\n",
       "      <td>0</td>\n",
       "      <td>42.0</td>\n",
       "      <td>1</td>\n",
       "      <td>0</td>\n",
       "      <td>26.0000</td>\n",
       "      <td>0</td>\n",
       "      <td>0</td>\n",
       "      <td>1</td>\n",
       "    </tr>\n",
       "  </tbody>\n",
       "</table>\n",
       "</div>"
      ],
      "text/plain": [
       "   Survived  Pclass  Sex   Age  SibSp  Parch     Fare  C  Q  S\n",
       "0         0       2    1  28.0      0      0  13.0000  0  0  1\n",
       "1         0       3    1  25.0      0      0   7.6500  0  0  1\n",
       "2         0       3    1  20.0      0      0   7.8542  0  0  1\n",
       "3         0       3    0  29.0      0      4  21.0750  0  0  1\n",
       "4         0       1    1  31.0      1      0  52.0000  0  0  1\n",
       "5         0       3    1  37.0      2      0   7.9250  0  0  1\n",
       "6         0       3    1  19.0      0      0  14.5000  0  0  1\n",
       "7         1       3    0   1.0      0      2  15.7417  1  0  0\n",
       "8         0       3    1  20.5      0      0   7.2500  0  0  1\n",
       "9         1       2    0  42.0      1      0  26.0000  0  0  1"
      ]
     },
     "execution_count": 253,
     "metadata": {},
     "output_type": "execute_result"
    }
   ],
   "source": [
    "data_final.head(10)"
   ]
  },
  {
   "cell_type": "code",
   "execution_count": 254,
   "metadata": {},
   "outputs": [
    {
     "name": "stdout",
     "output_type": "stream",
     "text": [
      "<class 'pandas.core.frame.DataFrame'>\n",
      "RangeIndex: 891 entries, 0 to 890\n",
      "Data columns (total 10 columns):\n",
      " #   Column    Non-Null Count  Dtype  \n",
      "---  ------    --------------  -----  \n",
      " 0   Survived  891 non-null    int32  \n",
      " 1   Pclass    891 non-null    int64  \n",
      " 2   Sex       891 non-null    int32  \n",
      " 3   Age       891 non-null    float64\n",
      " 4   SibSp     891 non-null    int64  \n",
      " 5   Parch     891 non-null    int64  \n",
      " 6   Fare      891 non-null    float64\n",
      " 7   C         891 non-null    int32  \n",
      " 8   Q         891 non-null    int32  \n",
      " 9   S         891 non-null    int32  \n",
      "dtypes: float64(2), int32(5), int64(3)\n",
      "memory usage: 52.3 KB\n",
      "None\n"
     ]
    }
   ],
   "source": [
    "print(data_final.info())"
   ]
  },
  {
   "cell_type": "code",
   "execution_count": 255,
   "metadata": {},
   "outputs": [
    {
     "data": {
      "text/html": [
       "<div>\n",
       "<style scoped>\n",
       "    .dataframe tbody tr th:only-of-type {\n",
       "        vertical-align: middle;\n",
       "    }\n",
       "\n",
       "    .dataframe tbody tr th {\n",
       "        vertical-align: top;\n",
       "    }\n",
       "\n",
       "    .dataframe thead th {\n",
       "        text-align: right;\n",
       "    }\n",
       "</style>\n",
       "<table border=\"1\" class=\"dataframe\">\n",
       "  <thead>\n",
       "    <tr style=\"text-align: right;\">\n",
       "      <th></th>\n",
       "      <th>Survived</th>\n",
       "      <th>Pclass</th>\n",
       "      <th>Sex</th>\n",
       "      <th>Age</th>\n",
       "      <th>SibSp</th>\n",
       "      <th>Parch</th>\n",
       "      <th>Fare</th>\n",
       "      <th>C</th>\n",
       "      <th>Q</th>\n",
       "      <th>S</th>\n",
       "    </tr>\n",
       "  </thead>\n",
       "  <tbody>\n",
       "    <tr>\n",
       "      <th>count</th>\n",
       "      <td>891.000000</td>\n",
       "      <td>891.000000</td>\n",
       "      <td>891.000000</td>\n",
       "      <td>891.000000</td>\n",
       "      <td>891.000000</td>\n",
       "      <td>891.000000</td>\n",
       "      <td>891.000000</td>\n",
       "      <td>891.000000</td>\n",
       "      <td>891.000000</td>\n",
       "      <td>891.000000</td>\n",
       "    </tr>\n",
       "    <tr>\n",
       "      <th>mean</th>\n",
       "      <td>0.383838</td>\n",
       "      <td>2.308642</td>\n",
       "      <td>0.647587</td>\n",
       "      <td>29.699118</td>\n",
       "      <td>0.523008</td>\n",
       "      <td>0.381594</td>\n",
       "      <td>32.204208</td>\n",
       "      <td>0.188552</td>\n",
       "      <td>0.086420</td>\n",
       "      <td>0.722783</td>\n",
       "    </tr>\n",
       "    <tr>\n",
       "      <th>std</th>\n",
       "      <td>0.486592</td>\n",
       "      <td>0.836071</td>\n",
       "      <td>0.477990</td>\n",
       "      <td>13.002015</td>\n",
       "      <td>1.102743</td>\n",
       "      <td>0.806057</td>\n",
       "      <td>49.693429</td>\n",
       "      <td>0.391372</td>\n",
       "      <td>0.281141</td>\n",
       "      <td>0.447876</td>\n",
       "    </tr>\n",
       "    <tr>\n",
       "      <th>min</th>\n",
       "      <td>0.000000</td>\n",
       "      <td>1.000000</td>\n",
       "      <td>0.000000</td>\n",
       "      <td>0.420000</td>\n",
       "      <td>0.000000</td>\n",
       "      <td>0.000000</td>\n",
       "      <td>0.000000</td>\n",
       "      <td>0.000000</td>\n",
       "      <td>0.000000</td>\n",
       "      <td>0.000000</td>\n",
       "    </tr>\n",
       "    <tr>\n",
       "      <th>25%</th>\n",
       "      <td>0.000000</td>\n",
       "      <td>2.000000</td>\n",
       "      <td>0.000000</td>\n",
       "      <td>22.000000</td>\n",
       "      <td>0.000000</td>\n",
       "      <td>0.000000</td>\n",
       "      <td>7.910400</td>\n",
       "      <td>0.000000</td>\n",
       "      <td>0.000000</td>\n",
       "      <td>0.000000</td>\n",
       "    </tr>\n",
       "    <tr>\n",
       "      <th>50%</th>\n",
       "      <td>0.000000</td>\n",
       "      <td>3.000000</td>\n",
       "      <td>1.000000</td>\n",
       "      <td>29.699118</td>\n",
       "      <td>0.000000</td>\n",
       "      <td>0.000000</td>\n",
       "      <td>14.454200</td>\n",
       "      <td>0.000000</td>\n",
       "      <td>0.000000</td>\n",
       "      <td>1.000000</td>\n",
       "    </tr>\n",
       "    <tr>\n",
       "      <th>75%</th>\n",
       "      <td>1.000000</td>\n",
       "      <td>3.000000</td>\n",
       "      <td>1.000000</td>\n",
       "      <td>35.000000</td>\n",
       "      <td>1.000000</td>\n",
       "      <td>0.000000</td>\n",
       "      <td>31.000000</td>\n",
       "      <td>0.000000</td>\n",
       "      <td>0.000000</td>\n",
       "      <td>1.000000</td>\n",
       "    </tr>\n",
       "    <tr>\n",
       "      <th>max</th>\n",
       "      <td>1.000000</td>\n",
       "      <td>3.000000</td>\n",
       "      <td>1.000000</td>\n",
       "      <td>80.000000</td>\n",
       "      <td>8.000000</td>\n",
       "      <td>6.000000</td>\n",
       "      <td>512.329200</td>\n",
       "      <td>1.000000</td>\n",
       "      <td>1.000000</td>\n",
       "      <td>1.000000</td>\n",
       "    </tr>\n",
       "  </tbody>\n",
       "</table>\n",
       "</div>"
      ],
      "text/plain": [
       "         Survived      Pclass         Sex         Age       SibSp       Parch  \\\n",
       "count  891.000000  891.000000  891.000000  891.000000  891.000000  891.000000   \n",
       "mean     0.383838    2.308642    0.647587   29.699118    0.523008    0.381594   \n",
       "std      0.486592    0.836071    0.477990   13.002015    1.102743    0.806057   \n",
       "min      0.000000    1.000000    0.000000    0.420000    0.000000    0.000000   \n",
       "25%      0.000000    2.000000    0.000000   22.000000    0.000000    0.000000   \n",
       "50%      0.000000    3.000000    1.000000   29.699118    0.000000    0.000000   \n",
       "75%      1.000000    3.000000    1.000000   35.000000    1.000000    0.000000   \n",
       "max      1.000000    3.000000    1.000000   80.000000    8.000000    6.000000   \n",
       "\n",
       "             Fare           C           Q           S  \n",
       "count  891.000000  891.000000  891.000000  891.000000  \n",
       "mean    32.204208    0.188552    0.086420    0.722783  \n",
       "std     49.693429    0.391372    0.281141    0.447876  \n",
       "min      0.000000    0.000000    0.000000    0.000000  \n",
       "25%      7.910400    0.000000    0.000000    0.000000  \n",
       "50%     14.454200    0.000000    0.000000    1.000000  \n",
       "75%     31.000000    0.000000    0.000000    1.000000  \n",
       "max    512.329200    1.000000    1.000000    1.000000  "
      ]
     },
     "execution_count": 255,
     "metadata": {},
     "output_type": "execute_result"
    }
   ],
   "source": [
    "data_final.describe()"
   ]
  },
  {
   "cell_type": "markdown",
   "metadata": {},
   "source": [
    "### setting a style to our plots"
   ]
  },
  {
   "cell_type": "code",
   "execution_count": 256,
   "metadata": {},
   "outputs": [],
   "source": [
    "plt.style.use(\"fivethirtyeight\")\n",
    "\n",
    "# use \"plt.style.available\" to check for all the style available in Matplotlib"
   ]
  },
  {
   "cell_type": "markdown",
   "metadata": {},
   "source": [
    "### here we are using an index to shift the \"female\" from  0 to 0.4 and \"male\" from 1 to 0.6 when plotting "
   ]
  },
  {
   "cell_type": "code",
   "execution_count": 257,
   "metadata": {},
   "outputs": [],
   "source": [
    "index = np.array((),dtype =float)\n",
    "\n",
    "for i in data_final[\"Sex\"]:   \n",
    "    if i==0:\n",
    "        i+=0.4\n",
    "        index = np.append(index,i)\n",
    "    else:\n",
    "        i-=0.4\n",
    "        index = np.append(index,i)\n"
   ]
  },
  {
   "cell_type": "markdown",
   "metadata": {},
   "source": [
    "### we are affecting a color \"red\" for whom  survived and a \" blue \" one otherwise ."
   ]
  },
  {
   "cell_type": "code",
   "execution_count": 258,
   "metadata": {},
   "outputs": [],
   "source": [
    "color = np.array(())\n",
    "\n",
    "for i in data_final[\"Survived\"]:\n",
    "    if i==0:\n",
    "        color = np.append(color,'#0b03ff')\n",
    "    else:\n",
    "        color = np.append(color,'#ff0303')"
   ]
  },
  {
   "cell_type": "markdown",
   "metadata": {},
   "source": [
    "### this dictionary will be used later for customizing the legend of the plot"
   ]
  },
  {
   "cell_type": "code",
   "execution_count": 259,
   "metadata": {},
   "outputs": [],
   "source": [
    "cdic = {\"#0b03ff\":\"dead\",\"#ff0303\":\"alive\"}"
   ]
  },
  {
   "cell_type": "markdown",
   "metadata": {},
   "source": [
    "### defining the y axis for our plot "
   ]
  },
  {
   "cell_type": "code",
   "execution_count": 260,
   "metadata": {},
   "outputs": [],
   "source": [
    "scat_y = data_final[\"Age\"].to_numpy()"
   ]
  },
  {
   "cell_type": "markdown",
   "metadata": {},
   "source": [
    "### plotting"
   ]
  },
  {
   "cell_type": "code",
   "execution_count": 261,
   "metadata": {},
   "outputs": [
    {
     "data": {
      "image/png": "[encoded data removed]",
      "text/plain": [
       "<Figure size 504x504 with 1 Axes>"
      ]
     },
     "metadata": {},
     "output_type": "display_data"
    }
   ],
   "source": [
    "#creating our figure and axes\n",
    "fig1 , ax1 = plt.subplots(nrows = 1 , ncols = 1 , figsize=(7,7))\n",
    "\n",
    "# here if g is red we are shifting again  from 0.4 to 0.2 and from 0.6 to 0.8 (as you can see from the plot) \n",
    "for g in np.unique(color):# np.unique give us the unique values in an array\n",
    "    if g == '#ff0303':\n",
    "        for i in range(len(data_final[\"Sex\"])):\n",
    "            if data_final[\"Sex\"][i] == 0:\n",
    "                index[i] =0.2\n",
    "            else:\n",
    "                index[i]=0.8\n",
    "               \n",
    "            \n",
    "    \n",
    "    # here we are  ploting whom who survived seperately for whom who did not that give us a clearer vue\n",
    "    ix = np.where(color==g)# return an narray that contains all the indexs from the \"color narray\" in wich the color\n",
    "                           # is equal to g (in our case blue or red)\n",
    "        \n",
    "     \n",
    "    #plotting + customizing\n",
    "    ax1.scatter(index[ix],scat_y[ix], c = color[ix]\n",
    "                  ,alpha = 0.75 , s = 50 ,edgecolor = 'k',\n",
    "                  linewidth = 0.6, label =cdic[g])# here we are getting our label from the dictionary defined above\n",
    "    \n",
    "# adding the grey line at the center     \n",
    "ax1.axvline(0.5 , color ='k', alpha = 0.5)\n",
    "\n",
    "\n",
    "# setting title/x-axis range/x_label/y_label\n",
    "ax1.set_title(\"survivals\" , fontsize = 30)\n",
    "ax1.set_xlim(0,1)\n",
    "ax1.set_xlabel(\"Sex\", fontsize = 20)\n",
    "ax1.set_ylabel(\"Age\", fontsize = 20)\n",
    "\n",
    "\n",
    "#adding some text\n",
    "ax1.text(x = 0.08,y = 0.8, s = \"female\",transform=ax1.transAxes,\n",
    "         rotation = 30, fontsize = 25)\n",
    "ax1.text(x = 0.75,y = 0.8, s = \" male  \",transform=ax1.transAxes,\n",
    "         rotation = -30, fontsize = 25)\n",
    "\n",
    "\n",
    "# adding legend\n",
    "ax1.legend(loc = (0,0.94),fontsize = 20)\n",
    "plt.tight_layout()"
   ]
  },
  {
   "cell_type": "markdown",
   "metadata": {},
   "source": [
    "# analysis"
   ]
  },
  {
   "cell_type": "markdown",
   "metadata": {},
   "source": [
    "### we remark that\n",
    "+ the variances of age  for dead male  is less (< ) than the females\n",
    "    + the number of deads for old males is greater than the old females(age>60)\n",
    "    + the number of deads for males between 13 and 50 is significally greater than females\n",
    "+  the variances of age  for alive  female is less(<)  than the females (especially for  65>age>40)\n",
    "    + the number of alive males and females is approximately the same for age between 1 and 30\n",
    "    + for age >30 the number of survived females become larger than males as we move forward on age\n",
    "### conclusion\n",
    "--> female favorite the chance to survive especially the older ones ones"
   ]
  },
  {
   "cell_type": "markdown",
   "metadata": {},
   "source": [
    "### here we are gathering the number of survivors and dead in each Pclass "
   ]
  },
  {
   "cell_type": "code",
   "execution_count": 262,
   "metadata": {},
   "outputs": [],
   "source": [
    "#thise variables represent the number of alive/dead people by classes\n",
    "first_class_alive,second_class_alive,third_class_alive = 0,0,0\n",
    "first_class_dead,second_class_dead,third_class_dead= 0,0,0\n",
    "\n",
    "for i in range(len(data_final[\"Survived\"])):\n",
    "    if data_final[\"Survived\"][i]==1:\n",
    "        if data_final[\"Pclass\"][i]==1:\n",
    "            first_class_alive+=1\n",
    "        elif data_final[\"Pclass\"][i]==2:\n",
    "            second_class_alive +=1\n",
    "        elif data_final[\"Pclass\"][i]==3:\n",
    "            third_class_alive+=1\n",
    "    else:\n",
    "        if data_final[\"Pclass\"][i]==1:\n",
    "            first_class_dead+=1\n",
    "        elif data_final[\"Pclass\"][i]==2:\n",
    "            second_class_dead +=1\n",
    "        elif data_final[\"Pclass\"][i]==3:\n",
    "            third_class_dead+=1"
   ]
  },
  {
   "cell_type": "markdown",
   "metadata": {},
   "source": [
    "### defining the X and Y for the plot"
   ]
  },
  {
   "cell_type": "code",
   "execution_count": 263,
   "metadata": {},
   "outputs": [],
   "source": [
    "pclass_alive = np.array((first_class_alive, second_class_alive,third_class_alive)) \n",
    "pclass_dead = np.array((first_class_dead, second_class_dead,third_class_dead))\n",
    "pclass_label = np.array((\"first class\",\"second class\",\"third class\")) "
   ]
  },
  {
   "cell_type": "markdown",
   "metadata": {},
   "source": [
    "## plotting"
   ]
  },
  {
   "cell_type": "code",
   "execution_count": 264,
   "metadata": {
    "scrolled": false
   },
   "outputs": [
    {
     "data": {
      "text/plain": [
       "<matplotlib.legend.Legend at 0x18660b0b488>"
      ]
     },
     "execution_count": 264,
     "metadata": {},
     "output_type": "execute_result"
    },
    {
     "data": {
      "image/png": "[encoded data removed]",
      "text/plain": [
       "<Figure size 720x576 with 1 Axes>"
      ]
     },
     "metadata": {},
     "output_type": "display_data"
    }
   ],
   "source": [
    "#creating a new figutre with its axes\n",
    "fig11 ,ax11 = plt.subplots(nrows = 1 ,ncols = 1 , figsize=(10,8))\n",
    "\n",
    "index = np.arange(0,3,1)\n",
    "width = 0.5\n",
    "# plotting the bars\n",
    "ax11.bar(index-0.2,pclass_alive,color = np.array(('y','r','b'),dtype = str),\n",
    "         edgecolor=\"k\" ,width= width)\n",
    "ax11.bar(index +0.2,pclass_dead,color = np.array(('#e3f542','#f74a4a','#4b6af2'),dtype = str),\n",
    "         edgecolor=\"k\" ,width= width)\n",
    "#setting labels/title\n",
    "ax11.set_xlabel(\"Pclasses\", fontsize = 25)\n",
    "ax11.set_ylabel(\"Survivals\" , fontsize = 25)           \n",
    "ax11.set_title(\"f(Pclass)= Survival\", fontsize = 30)\n",
    "ax11.set_ylim(0,460)\n",
    "\n",
    "#adding some text(percentage)\n",
    "\n",
    "ax11.text(x = 0.1 ,y=0.4, s =\"  {}%\\nsurvived\".format( round(   (    (    (first_class_alive)  /  (first_class_alive + first_class_dead) )*   (10**3)  )   /    (10)     )), transform=ax11.transAxes )\n",
    "ax11.text(x = 0.45 ,y=0.3, s =\"   {}%\\nsurvived\".format( round(   (((second_class_alive)/(second_class_alive + second_class_dead) )*(10**3)  )/(10))), transform=ax11.transAxes )\n",
    "ax11.text(x = 0.73 ,y=0.55, s =\"   {}%\\nsurvived\".format( round(     ((   (third_class_alive)  /(third_class_alive + third_class_dead) )*(10**3)  )/(10)      )  ),transform=ax11.transAxes )\n",
    "plt.xticks(index,pclass_label)\n",
    "#plotting the legend (document about legend's handles and labels to understand more)\n",
    "\n",
    "cdic1 = {\"first class_alive\":'y',\"first class_dead\":'#e3f542',\"second class_alive\":'r' ,\"second class_dead\":'#f74a4a',\n",
    "         \"third class_alive\":'b',\"third class_dead\":'#4b6af2'}\n",
    "labels = list(cdic1.keys())\n",
    "handles = [plt.Rectangle((0.9,0.9),1, 1, color =cdic1[label])for label in labels]\n",
    "ax11.legend(handles,labels , fontsize = 18,ncol = 3)"
   ]
  },
  {
   "cell_type": "markdown",
   "metadata": {},
   "source": [
    "# analysis"
   ]
  },
  {
   "cell_type": "markdown",
   "metadata": {},
   "source": [
    "### we remark that\n",
    " + the percentage (% ) of survivors of the first class is greater than(>) the seoncd class which is greater than (>)the third class\n",
    "### we easily conclude that\n",
    " + the pclass feaures favorite the rate of surving"
   ]
  },
  {
   "cell_type": "markdown",
   "metadata": {},
   "source": [
    "## gathering the number of survivors and deads who got  0,1 or more than 1 sibling"
   ]
  },
  {
   "cell_type": "code",
   "execution_count": 265,
   "metadata": {},
   "outputs": [],
   "source": [
    "# \"b\" for more than 1 sibling\n",
    "b0_alive,b1_alive,b_alive = 0,0,0\n",
    "b0_dead,b1_dead,b_dead = 0,0,0\n",
    "\n",
    "for i in range(len(data_final[\"Sex\"])):\n",
    "    if data_final[\"Survived\"][i]==1:\n",
    "        if data_final[\"SibSp\"][i]==0:\n",
    "            b0_alive+=1\n",
    "        elif data_final[\"SibSp\"][i]==1:\n",
    "            b1_alive+=1\n",
    "        else:\n",
    "            b_alive+=1\n",
    "    else:\n",
    "        if data_final[\"SibSp\"][i]==0:\n",
    "            b0_dead+=1\n",
    "        elif data_final[\"SibSp\"][i]==1:\n",
    "            b1_dead+=1\n",
    "        else:\n",
    "            b_dead+=1"
   ]
  },
  {
   "cell_type": "markdown",
   "metadata": {},
   "source": [
    "### again these will be used for the legend of plot later"
   ]
  },
  {
   "cell_type": "code",
   "execution_count": 266,
   "metadata": {},
   "outputs": [],
   "source": [
    "cdic1 = {\"0 siblings\":'#9d9fa8',\"1 sibling\":'#4c5b9e',\">1 sibling\":'#1b2e82'}\n",
    "label0 = list(cdic1.keys())\n",
    "handles0 = [plt.Rectangle((0.9,0.9),1,1,color = cdic1[label])for label in label0]"
   ]
  },
  {
   "cell_type": "markdown",
   "metadata": {},
   "source": [
    "### defining the Xs and Ys for the plot"
   ]
  },
  {
   "cell_type": "code",
   "execution_count": 267,
   "metadata": {},
   "outputs": [],
   "source": [
    "#bar labels\n",
    "sibling_label = np.array((\"0 siblings\",\"1 sibling\", \">1 sibling\"))\n",
    "\n",
    "\n",
    "#this narray contains the number of survivors  who got 0,1 or more than 1 sibling\n",
    "alive = np.array((b0_alive,b1_alive,b_alive)) \n",
    "\n",
    "\n",
    "#this narray contains the number of deads  who got 0,1 or more than 1 sibling\n",
    "dead = np.array((b0_dead,b1_dead,b_dead))\n",
    "\n",
    "\n",
    "#here i'm extracting the number of passenger who got 0,1 or more than 1 sibling using  pd.value_counts() function\n",
    "par_count = pd.value_counts(data_final[\"SibSp\"])\n",
    "sib_count = np.array([par_count[0],par_count[1],sum(par_count[2:])])\n",
    "\n",
    "#this is equal to 3 obvisouly will \n",
    "indexx = np.arange(len(sibling_label))\n",
    "\n",
    "\n",
    "#the width variable is used to squeeze the width of the bars laters so that they could fit next to each others in one plot\n",
    "width = 0.4\n"
   ]
  },
  {
   "cell_type": "markdown",
   "metadata": {},
   "source": [
    "## plotting"
   ]
  },
  {
   "cell_type": "code",
   "execution_count": 268,
   "metadata": {},
   "outputs": [
    {
     "data": {
      "text/plain": [
       "<matplotlib.legend.Legend at 0x186622f7488>"
      ]
     },
     "execution_count": 268,
     "metadata": {},
     "output_type": "execute_result"
    },
    {
     "data": {
      "image/png": "[encoded data removed]",
      "text/plain": [
       "<Figure size 792x864 with 2 Axes>"
      ]
     },
     "metadata": {},
     "output_type": "display_data"
    }
   ],
   "source": [
    "#creating a new figutre with its axes\n",
    "fig2 ,(ax20,ax21) = plt.subplots(nrows=2 , ncols =1  ,figsize = (11,12),\n",
    "                                 sharex = True)\n",
    "\n",
    "#plotting the bars in the first axes\n",
    "ax20.bar(sibling_label,sib_count,edgecolor ='k',\n",
    "         color = np.array(('#9d9fa8','#4c5b9e','#1b2e82')))\n",
    "\n",
    "#plotting the bars in the second axes\n",
    "ax21.bar(indexx-0.25,alive,width =width,edgecolor ='k',label = \"alive\",\n",
    "         color ='#0b03ff')\n",
    "ax21.bar(indexx+0.15,dead,width=width,edgecolor ='k',label = \"dead\",\n",
    "         color ='#ff0303')\n",
    "\n",
    "\n",
    "#setting labels/title and legend to the first axes\n",
    "ax20.set_ylabel(\"number of passengers\" ,fontsize = 20)\n",
    "ax20.set_title(\"f(siblings) = passengers\", fontsize = 25)\n",
    "ax20.legend(handles0,label0,fontsize = 18)\n",
    "\n",
    "\n",
    "\n",
    "#setting labels/title and legend to the second axes\n",
    "ax21.set_ylabel(\"alive/dead\", fontsize = 20)\n",
    "ax21.set_xlabel('number of siblings',fontsize = 30)\n",
    "ax21.set_title(\"f(siblings) = survival\" , fontsize = 25 )\n",
    "ax21.legend(fontsize = 20)"
   ]
  },
  {
   "cell_type": "markdown",
   "metadata": {},
   "source": [
    "# analysis"
   ]
  },
  {
   "cell_type": "markdown",
   "metadata": {},
   "source": [
    "### this plot give us a nice visualization of the impact of the \"SibSp\" feature on the \"surviving \" of an individuel.<br>we could've calculate the percentage of \"survivors\"  for each pair of bar and compare between them"
   ]
  },
  {
   "cell_type": "code",
   "execution_count": 269,
   "metadata": {},
   "outputs": [
    {
     "name": "stdout",
     "output_type": "stream",
     "text": [
      "None\n"
     ]
    },
    {
     "data": {
      "image/png": "[encoded data removed]",
      "text/plain": [
       "<Figure size 864x720 with 2 Axes>"
      ]
     },
     "metadata": {},
     "output_type": "display_data"
    }
   ],
   "source": [
    "def plot_correlation_map( df ):\n",
    "\n",
    "    corr = df.corr()\n",
    "\n",
    "    s , ax = plt.subplots( figsize =( 12 , 10 ) )\n",
    "\n",
    "    cmap = sns.diverging_palette( 220 , 10 , as_cmap = True )\n",
    "\n",
    "    s = sns.heatmap(\n",
    "\n",
    "        corr, \n",
    "\n",
    "        cmap = cmap,\n",
    "\n",
    "        square=True, \n",
    "\n",
    "        cbar_kws={ 'shrink' : .9 }, \n",
    "\n",
    "        ax=ax, \n",
    "\n",
    "        annot = True, \n",
    "\n",
    "        annot_kws = { 'fontsize' : 12}\n",
    "\n",
    "        )\n",
    "    \n",
    "print(plot_correlation_map(data_final))\n",
    "\n",
    "                       \n",
    "\n"
   ]
  },
  {
   "cell_type": "markdown",
   "metadata": {},
   "source": [
    "#### this function produces a square matrix that describe the correlation between each two pairs (x,y) of our features .\n",
    "+ we not that the matrix is symetric along the diagonal so we can restrict our study to the first half.\n",
    "\n",
    "<p>1- first of all the all diagonal values is 1 wich is obvious because cor(x,x) = 1.</p>\n",
    "<p>2- we see that the majority of correlations are negative  and between -0 and -0,2 ;so we could affirm that the they vary in  opposite direction, but as we push on the upper left  and bottom right edges the correlation decrease even more to reach values such that {-0,54,-0.34,-0.5,-0,78} --> wich indicate that those pairs approach  more of beeing <b style = \"font-size:15px\"> linearly related.</b></p>\n",
    "<p>3-finally some pairs at the corner and the center are positively  correlated with values not exceeding 0.5 wiich is considered as a \"weak\" correlation.</p>\n",
    "<p>thus we can infere that</p>\n",
    "<ul>\n",
    "<li>the \"Fare\" feauture and the \"Pclasse\" feautures are strongly negatively correlated( they are more likely to fit on a line)</li>\n",
    "<li>the age is relatively weakly correlated with evey other feauture except the \"Pclass\" in wich the correlation value is \"-0.33\"</li>\n",
    "    <li>the \"C\"/\"S\"  and \"Q\"/\"S\" features pairs are also negatively strongly correlated ;so  if we are willing to do a linear regression to predict the \"S\" target ;most likely we are going to use the \"C\" and \"Q\"\n",
    "    re</li>\n",
    "    <li>\"sex\" and \"survived\" are correlated  with a value of -0.54</li>\n",
    "    <li>\"SibSp\" and \"parch\" are postively correlated with a value of \"0.41\" but this is still considered as a medium correlation  and not too good for \"linear regression\"</li>\n",
    "</ul>"
   ]
  },
  {
   "cell_type": "markdown",
   "metadata": {},
   "source": [
    "### groupby question"
   ]
  },
  {
   "cell_type": "code",
   "execution_count": 270,
   "metadata": {
    "scrolled": true
   },
   "outputs": [
    {
     "data": {
      "text/html": [
       "<div>\n",
       "<style scoped>\n",
       "    .dataframe tbody tr th:only-of-type {\n",
       "        vertical-align: middle;\n",
       "    }\n",
       "\n",
       "    .dataframe tbody tr th {\n",
       "        vertical-align: top;\n",
       "    }\n",
       "\n",
       "    .dataframe thead th {\n",
       "        text-align: right;\n",
       "    }\n",
       "</style>\n",
       "<table border=\"1\" class=\"dataframe\">\n",
       "  <thead>\n",
       "    <tr style=\"text-align: right;\">\n",
       "      <th></th>\n",
       "      <th>Survived</th>\n",
       "    </tr>\n",
       "    <tr>\n",
       "      <th>Pclass</th>\n",
       "      <th></th>\n",
       "    </tr>\n",
       "  </thead>\n",
       "  <tbody>\n",
       "    <tr>\n",
       "      <th>1</th>\n",
       "      <td>0.629630</td>\n",
       "    </tr>\n",
       "    <tr>\n",
       "      <th>2</th>\n",
       "      <td>0.472826</td>\n",
       "    </tr>\n",
       "    <tr>\n",
       "      <th>3</th>\n",
       "      <td>0.242363</td>\n",
       "    </tr>\n",
       "  </tbody>\n",
       "</table>\n",
       "</div>"
      ],
      "text/plain": [
       "        Survived\n",
       "Pclass          \n",
       "1       0.629630\n",
       "2       0.472826\n",
       "3       0.242363"
      ]
     },
     "execution_count": 270,
     "metadata": {},
     "output_type": "execute_result"
    }
   ],
   "source": [
    "groupby_data = data_final[['Survived','Pclass']].groupby(['Pclass'],as_index = True).mean()\n",
    "groupby_data"
   ]
  },
  {
   "cell_type": "markdown",
   "metadata": {},
   "source": [
    "## create  a new column"
   ]
  },
  {
   "cell_type": "code",
   "execution_count": 271,
   "metadata": {},
   "outputs": [
    {
     "name": "stdout",
     "output_type": "stream",
     "text": [
      "<class 'pandas.core.frame.DataFrame'>\n",
      "RangeIndex: 891 entries, 0 to 890\n",
      "Data columns (total 11 columns):\n",
      " #   Column    Non-Null Count  Dtype  \n",
      "---  ------    --------------  -----  \n",
      " 0   Survived  891 non-null    int32  \n",
      " 1   Pclass    891 non-null    int64  \n",
      " 2   Sex       891 non-null    int32  \n",
      " 3   Age       891 non-null    float64\n",
      " 4   SibSp     891 non-null    int64  \n",
      " 5   Parch     891 non-null    int64  \n",
      " 6   Fare      891 non-null    float64\n",
      " 7   C         891 non-null    int32  \n",
      " 8   Q         891 non-null    int32  \n",
      " 9   S         891 non-null    int32  \n",
      " 10  Title     891 non-null    object \n",
      "dtypes: float64(2), int32(5), int64(3), object(1)\n",
      "memory usage: 59.3+ KB\n"
     ]
    }
   ],
   "source": [
    "data_final[\"Title\"] = data[\"Name\"]  \n",
    "data_final.info()        "
   ]
  },
  {
   "cell_type": "markdown",
   "metadata": {},
   "source": [
    "## Title_Dictionary"
   ]
  },
  {
   "cell_type": "code",
   "execution_count": 272,
   "metadata": {},
   "outputs": [],
   "source": [
    "# Title_Dictionary = {\n",
    "\n",
    "#                     \"Capt\":       \"Officer\",\n",
    "\n",
    "#                     \"Col\":        \"Officer\",\n",
    "\n",
    "#                     \"Major\":      \"Officer\",\n",
    "\n",
    "#                       \"Dr\":         \"Officer\",\n",
    "\n",
    "#                     \"Rev\":        \"Officer”,\n",
    "\n",
    "#                     \"Jonkheer\":   \"Royalty\",\n",
    "\n",
    "#                     \"Don\":        \"Royalty\",\n",
    "\n",
    "#                     \"Sir\" :       \"Royalty\",\n",
    "\n",
    "#                    \"Lady\" :      \"Royalty\"\n",
    "\n",
    "#                   \"the Countess\": \"Royalty\",\n",
    "\n",
    "#                     \"Dona\":       \"Royalty”,\n",
    "\n",
    "#                     \"Mme\":        \"Miss\",\n",
    "\n",
    "#                     \"Mlle\":       \"Miss\",\n",
    "\n",
    "#                     \"Miss\" :      \"Miss\",\n",
    "\n",
    "#                     \"Ms\":         \"Mrs\",\n",
    "\n",
    "#                     \"Mr\" :        \"Mrs\",\n",
    "\n",
    "#                     \"Mrs\" :       \"Mrs\n",
    "\n",
    "#                     \"Master\" :    \"Master\"\n",
    "\n",
    "#                     }"
   ]
  },
  {
   "cell_type": "markdown",
   "metadata": {},
   "source": [
    "## here from the \"Title\" column we  are grouping the \"Names\"  using the Dictionary above\n",
    "### the str.contains(str) return a boolean array with a values of \"True\"  if the str is found and \"False\" otherwise"
   ]
  },
  {
   "cell_type": "code",
   "execution_count": 273,
   "metadata": {},
   "outputs": [
    {
     "data": {
      "text/plain": [
       "0       True\n",
       "1      False\n",
       "2      False\n",
       "3      False\n",
       "4      False\n",
       "       ...  \n",
       "886    False\n",
       "887    False\n",
       "888    False\n",
       "889    False\n",
       "890    False\n",
       "Name: Title, Length: 891, dtype: bool"
      ]
     },
     "execution_count": 273,
     "metadata": {},
     "output_type": "execute_result"
    }
   ],
   "source": [
    "off0 = data_final[\"Title\"].str.contains(\"Capt\")\n",
    "off1 = data_final[\"Title\"].str.contains(\"Col\")\n",
    "off2 = data_final[\"Title\"].str.contains(\"Major\")\n",
    "off3 = data_final[\"Title\"].str.contains(\"Dr\")\n",
    "off4 = data_final[\"Title\"].str.contains(\"Rev\")\n",
    "\n",
    "\n",
    "\n",
    "roy0 = data_final[\"Title\"].str.contains(\"Dona\")\n",
    "roy1 = data_final[\"Title\"].str.contains(\"the Countess\")\n",
    "roy2 = data_final[\"Title\"].str.contains(\"Lady\")\n",
    "roy3 = data_final[\"Title\"].str.contains(\"Sir\")\n",
    "roy4 = data_final[\"Title\"].str.contains(\"Don\")\n",
    "roy5 = data_final[\"Title\"].str.contains(\"Jonkheer\")\n",
    "\n",
    "\n",
    "mrs0 = data_final[\"Title\"].str.contains(\"Mme\")\n",
    "mrs1 = data_final[\"Title\"].str.contains(\"Mlle\")\n",
    "mrs2 = data_final[\"Title\"].str.contains(\"Miss\")\n",
    "mrs3 = data_final[\"Title\"].str.contains(\"Ms\")\n",
    "mrs4 = data_final[\"Title\"].str.contains(\"Mr\")\n",
    "mrs5 = data_final[\"Title\"].str.contains(\"Mrs\")\n",
    "\n",
    "#exemple\n",
    "off1"
   ]
  },
  {
   "cell_type": "markdown",
   "metadata": {},
   "source": [
    "### the index_ array will be used later for groupping the  \"Names\""
   ]
  },
  {
   "cell_type": "code",
   "execution_count": 274,
   "metadata": {},
   "outputs": [],
   "source": [
    "scope = len(data_final[\"Title\"])\n",
    "index_ = np.zeros(scope)"
   ]
  },
  {
   "cell_type": "markdown",
   "metadata": {},
   "source": [
    "### we are iterating over the \"Title\" column and we are affecting a number of <br>\n",
    "<lu>\n",
    "    <li> 1 --> for the \"Officer\"</li>\n",
    "    <li> 2 --> for the \"Royalty\" </li>\n",
    "    <li>3 --> for the \"Miss\"</li>\n",
    "    <li>4 --> for the \"Mrs</li>\n",
    "</lu>\n",
    "(we don't need to affect anything for \"Master\" because it will be the last one and we need just to convert all the remaining \"Names\" to it"
   ]
  },
  {
   "cell_type": "code",
   "execution_count": 275,
   "metadata": {},
   "outputs": [],
   "source": [
    "for x in range(scope) :\n",
    "    \n",
    "    # remember the offs arrays have a value of \"True\" at every index that we wont to convert\n",
    "    if off0[x] or off1[x] or off2[x] or off3[x] or off4[x] == True:\n",
    "        index_[x] = 1\n",
    "    elif roy0[x] or roy1[x] or roy2[x] or roy3[x] or roy4[x] or roy5[x] == True:\n",
    "        index_[x] = 2\n",
    "    elif mrs0[x] or mrs1[x] or mrs2[x] or mrs3[x] or mrs4[x] or mrs5[x] == True:\n",
    "        index_[x] = 3\n",
    "    else: \n",
    "        index_[x] = 4\n"
   ]
  },
  {
   "cell_type": "markdown",
   "metadata": {},
   "source": [
    "###  finally we are replacing all the \"Names\" with the desired values"
   ]
  },
  {
   "cell_type": "code",
   "execution_count": 276,
   "metadata": {},
   "outputs": [],
   "source": [
    "for i in range(scope):\n",
    "   if index_[i] ==1:\n",
    "       data_final[\"Title\"].replace(to_replace=data_final[\"Title\"][i],value =\"Officer\" ,inplace = True)\n",
    "   elif index_[i] == 2:\n",
    "       data_final[\"Title\"].replace(to_replace=data_final[\"Title\"][i],value = \"Royalty\",inplace = True)\n",
    "   elif index_[i] == 3:\n",
    "       data_final[\"Title\"].replace(to_replace=data_final[\"Title\"][i],value =\"Mrs\",inplace = True)\n",
    "   else:\n",
    "       data_final[\"Title\"].replace(to_replace=data_final[\"Title\"][i],value = \"Master\",inplace = True)"
   ]
  },
  {
   "cell_type": "code",
   "execution_count": 277,
   "metadata": {},
   "outputs": [
    {
     "data": {
      "text/plain": [
       "0      Officer\n",
       "1          Mrs\n",
       "2          Mrs\n",
       "3          Mrs\n",
       "4          Mrs\n",
       "        ...   \n",
       "886        Mrs\n",
       "887    Royalty\n",
       "888        Mrs\n",
       "889        Mrs\n",
       "890        Mrs\n",
       "Name: Title, Length: 891, dtype: object"
      ]
     },
     "execution_count": 277,
     "metadata": {},
     "output_type": "execute_result"
    }
   ],
   "source": [
    "data_final[\"Title\"]"
   ]
  },
  {
   "cell_type": "markdown",
   "metadata": {},
   "source": [
    "### Visualizing the correlation between the  converted \"Names\" and the other \"features\""
   ]
  },
  {
   "cell_type": "code",
   "execution_count": 278,
   "metadata": {},
   "outputs": [
    {
     "data": {
      "text/plain": [
       "Text(0.5, 0.93, 'corr(Title,Features)')"
      ]
     },
     "execution_count": 278,
     "metadata": {},
     "output_type": "execute_result"
    },
    {
     "data": {
      "image/png": "[encoded data removed]",
      "text/plain": [
       "<Figure size 1080x1080 with 9 Axes>"
      ]
     },
     "metadata": {},
     "output_type": "display_data"
    }
   ],
   "source": [
    "fig3 , ax = plt.subplots(nrows = 3 , ncols = 3 , figsize = (15,15) )\n",
    "\n",
    "\n",
    "ax[0,0].scatter(data_final[\"Title\"],data_final[\"Sex\"] , color = '#1ff20c')\n",
    "ax[0,0].set(title = \"corr(Title,Sex)\" , ylabel = \"Sex\")\n",
    "\n",
    "ax[0,1].scatter(data_final[\"Title\"],data_final[\"Age\"] , color ='#ed8a11')\n",
    "ax[0,1].set(title = \"corr(Title,Age)\" , ylabel = \"Age\")\n",
    "\n",
    "ax[0,2].scatter(data_final[\"Title\"],data_final[\"Fare\"] , color = '#eb1052')\n",
    "ax[0,2].set(title = \"corr(Title,Fare)\" , ylabel = \"Fare \")\n",
    "\n",
    "ax[1,0].scatter(data_final[\"Title\"],data_final[\"C\"] , color = '#10ebce')\n",
    "ax[1,0].set(title = \"corr(Title,C)\" , ylabel = \"C \")\n",
    "\n",
    "ax[1,1].scatter(data_final[\"Title\"],data_final[\"Q\"], color ='#0cc0f2' )\n",
    "ax[1,1].set(title = \"corr(Title,Q) = \" , ylabel = \"Q\")\n",
    "\n",
    "ax[1,2].scatter(data_final[\"Title\"],data_final[\"S\"] , color= '#2f0cf2')\n",
    "ax[1,2].set(title = \"corr(Title,S)\" , ylabel = \"S\")\n",
    "\n",
    "ax[2,0].scatter(data_final[\"Title\"],data_final[\"Pclass\"] ,color ='y')\n",
    "ax[2,0].set(title = \"corr(Title,Pclass)\" , ylabel = \"Pclass\")\n",
    "\n",
    "ax[2,1].scatter(data_final[\"Title\"],data_final[\"SibSp\"] , color = '#9d10cc')\n",
    "ax[2,1].set(title = \"corr(Title,SibSp)\" , ylabel = \"SibSp \")\n",
    "\n",
    "ax[2,2].scatter(data_final[\"Title\"],data_final[\"Parch\"], color = '#d10db4')\n",
    "ax[2,2].set(title = \"corr(Title,Parch\" , ylabel = \" Parch\")\n",
    "\n",
    "fig3.suptitle(\"corr(Title,Features)\" , fontsize= 30, y =0.93 , color = \"#acada8\")"
   ]
  },
  {
   "cell_type": "markdown",
   "metadata": {},
   "source": [
    "# Final part"
   ]
  },
  {
   "cell_type": "markdown",
   "metadata": {},
   "source": [
    "### creating the \"FamilySize\" column using the \"Sibsp\"  and \"Parch\" columns"
   ]
  },
  {
   "cell_type": "code",
   "execution_count": 279,
   "metadata": {},
   "outputs": [
    {
     "data": {
      "text/plain": [
       "0      0\n",
       "1      0\n",
       "2      0\n",
       "3      4\n",
       "4      1\n",
       "      ..\n",
       "886    1\n",
       "887    0\n",
       "888    0\n",
       "889    0\n",
       "890    0\n",
       "Name: FamilySize, Length: 891, dtype: int64"
      ]
     },
     "execution_count": 279,
     "metadata": {},
     "output_type": "execute_result"
    }
   ],
   "source": [
    "data_final[\"FamilySize\"]= data_final[\"SibSp\"] + data_final[\"Parch\"]\n",
    "data_final[\"FamilySize\"]"
   ]
  },
  {
   "cell_type": "code",
   "execution_count": 280,
   "metadata": {
    "scrolled": false
   },
   "outputs": [
    {
     "data": {
      "text/plain": [
       "0     537\n",
       "1     161\n",
       "2     102\n",
       "3      29\n",
       "5      22\n",
       "4      15\n",
       "6      12\n",
       "10      7\n",
       "7       6\n",
       "Name: FamilySize, dtype: int64"
      ]
     },
     "execution_count": 280,
     "metadata": {},
     "output_type": "execute_result"
    }
   ],
   "source": [
    "pd.value_counts(data_final[\"FamilySize\"])"
   ]
  },
  {
   "cell_type": "markdown",
   "metadata": {},
   "source": [
    "### defining some variables  for our plot"
   ]
  },
  {
   "cell_type": "code",
   "execution_count": 281,
   "metadata": {},
   "outputs": [],
   "source": [
    "#bar label\n",
    "family_label = np.array((\"0 family member\",\"1 family member\",\"2 family member\",\">2 family member\"))\n",
    "\n",
    "#this narray contains the number of survivors  who got 0,1,2 or more than 2 family member\n",
    "family_alive = np.array((f0_alive,f1_alive,f2_alive,f_alive))\n",
    "\n",
    "#this narray contains the number of deads  who got 0,1,2 or more than 2 family member\n",
    "family_dead = np.array((f0_dead,f1_dead,f2_dead,f_dead))\n",
    "\n",
    "\n",
    "# this index will be use to shift the bars \n",
    "indexx_ = np.array((0,1,2,3))\n",
    "\n",
    "#the width variable is used to squeeze the width of the bars laters so that they could fit cleary  in one plot\n",
    "width = 0.4"
   ]
  },
  {
   "cell_type": "code",
   "execution_count": 282,
   "metadata": {
    "scrolled": false
   },
   "outputs": [
    {
     "data": {
      "text/plain": [
       "([<matplotlib.axis.XTick at 0x18661133308>,\n",
       "  <matplotlib.axis.XTick at 0x18661133e88>,\n",
       "  <matplotlib.axis.XTick at 0x18660c9eb08>,\n",
       "  <matplotlib.axis.XTick at 0x1866116a088>],\n",
       " [Text(0, 0, '0 family member'),\n",
       "  Text(0, 0, '1 family member'),\n",
       "  Text(0, 0, '2 family member'),\n",
       "  Text(0, 0, '>2 family member')])"
      ]
     },
     "execution_count": 282,
     "metadata": {},
     "output_type": "execute_result"
    },
    {
     "data": {
      "image/png": "[encoded data removed]",
      "text/plain": [
       "<Figure size 720x576 with 1 Axes>"
      ]
     },
     "metadata": {},
     "output_type": "display_data"
    }
   ],
   "source": [
    "#creating a new figure with its axes\n",
    "figg,axx0 = plt.subplots(nrows = 1 , ncols = 1 ,figsize =(10,8) )\n",
    "\n",
    "#plottinh the bars\n",
    "axx0.bar(indexx_+0.2,family_alive,width = width ,label = \"alive\" )\n",
    "axx0.bar(indexx_-0.2,family_dead ,  width = width , label = \"Dead\")\n",
    "\n",
    "#setting label/legend/title\n",
    "axx0.set_xlabel(\"Family size\")\n",
    "axx0.legend()\n",
    "axx0.set_title(\"f(family size) = survived\")\n",
    "\n",
    "#adding the percentages\n",
    "axx0.text(x = 0.1 ,y=0.76, s =\"  {}%\\nsurvived\".format( round( (f0_alive/(f0_alive + f0_dead))*(10**3))/(10) ), transform=axx0.transAxes )\n",
    "axx0.text(x = 0.34 ,y=0.2, s =\"  {}%\\nsurvived\".format( round( (f1_alive/(f1_alive + f1_dead))*(10**3))/(10) ), transform=axx0.transAxes )\n",
    "axx0.text(x = 0.58 ,y=0.2, s =\"  {}%\\nsurvived\".format( round( (f2_alive/(f2_alive + f2_dead))*(10**3))/(10) ), transform=axx0.transAxes )\n",
    "axx0.text(x = 0.82 ,y=0.6, s =\"  {}%\\nsurvived\".format( round( (f_alive/(f_alive + f_dead))*(10**3))/(10)), transform=axx0.transAxes )\n",
    "\n",
    "#changinf the indexx with the bar labels \n",
    "plt.xticks(indexx_,family_label)"
   ]
  },
  {
   "cell_type": "code",
   "execution_count": 283,
   "metadata": {},
   "outputs": [
    {
     "data": {
      "text/html": [
       "<div>\n",
       "<style scoped>\n",
       "    .dataframe tbody tr th:only-of-type {\n",
       "        vertical-align: middle;\n",
       "    }\n",
       "\n",
       "    .dataframe tbody tr th {\n",
       "        vertical-align: top;\n",
       "    }\n",
       "\n",
       "    .dataframe thead th {\n",
       "        text-align: right;\n",
       "    }\n",
       "</style>\n",
       "<table border=\"1\" class=\"dataframe\">\n",
       "  <thead>\n",
       "    <tr style=\"text-align: right;\">\n",
       "      <th></th>\n",
       "      <th>Survived</th>\n",
       "    </tr>\n",
       "    <tr>\n",
       "      <th>FamilySize</th>\n",
       "      <th></th>\n",
       "    </tr>\n",
       "  </thead>\n",
       "  <tbody>\n",
       "    <tr>\n",
       "      <th>0</th>\n",
       "      <td>0.303538</td>\n",
       "    </tr>\n",
       "    <tr>\n",
       "      <th>1</th>\n",
       "      <td>0.552795</td>\n",
       "    </tr>\n",
       "    <tr>\n",
       "      <th>2</th>\n",
       "      <td>0.578431</td>\n",
       "    </tr>\n",
       "    <tr>\n",
       "      <th>3</th>\n",
       "      <td>0.724138</td>\n",
       "    </tr>\n",
       "    <tr>\n",
       "      <th>4</th>\n",
       "      <td>0.200000</td>\n",
       "    </tr>\n",
       "    <tr>\n",
       "      <th>5</th>\n",
       "      <td>0.136364</td>\n",
       "    </tr>\n",
       "    <tr>\n",
       "      <th>6</th>\n",
       "      <td>0.333333</td>\n",
       "    </tr>\n",
       "    <tr>\n",
       "      <th>7</th>\n",
       "      <td>0.000000</td>\n",
       "    </tr>\n",
       "    <tr>\n",
       "      <th>10</th>\n",
       "      <td>0.000000</td>\n",
       "    </tr>\n",
       "  </tbody>\n",
       "</table>\n",
       "</div>"
      ],
      "text/plain": [
       "            Survived\n",
       "FamilySize          \n",
       "0           0.303538\n",
       "1           0.552795\n",
       "2           0.578431\n",
       "3           0.724138\n",
       "4           0.200000\n",
       "5           0.136364\n",
       "6           0.333333\n",
       "7           0.000000\n",
       "10          0.000000"
      ]
     },
     "execution_count": 283,
     "metadata": {},
     "output_type": "execute_result"
    }
   ],
   "source": [
    "group_data_ = data_final[[\"Survived\",\"FamilySize\"]].groupby(['FamilySize'],as_index = True).mean()\n",
    "group_data_"
   ]
  },
  {
   "cell_type": "markdown",
   "metadata": {},
   "source": [
    "# analysis\n"
   ]
  },
  {
   "cell_type": "markdown",
   "metadata": {},
   "source": [
    "### we remark that\n",
    " + people with 2 family member got the higher percentages where us people with 0 family member got the least\n",
    " + the distribution of the mean is increasing for \"family size\" ( from 0 to 3 ) then it's start to decrease and increase again\n",
    "     + it's randomly distributed"
   ]
  },
  {
   "cell_type": "markdown",
   "metadata": {},
   "source": [
    "# conclusion\n",
    "the family size may not be a good feature to use for classification since there is not clear patter for predection ; in contrast with the\"Pclass\" feature"
   ]
  },
  {
   "cell_type": "code",
   "execution_count": 284,
   "metadata": {},
   "outputs": [],
   "source": [
    "plt.show()"
   ]
  }
 ],
 "metadata": {
  "kernelspec": {
   "display_name": "Python 3",
   "language": "python",
   "name": "python3"
  },
  "language_info": {
   "codemirror_mode": {
    "name": "ipython",
    "version": 3
   },
   "file_extension": ".py",
   "mimetype": "text/x-python",
   "name": "python",
   "nbconvert_exporter": "python",
   "pygments_lexer": "ipython3",
   "version": "3.7.7"
  }
 },
 "nbformat": 4,
 "nbformat_minor": 4
}
