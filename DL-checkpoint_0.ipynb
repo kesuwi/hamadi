{
 "cells": [
  {
   "cell_type": "code",
   "execution_count": 1556,
   "id": "d70ff936",
   "metadata": {},
   "outputs": [],
   "source": [
    "import pandas as pd\n",
    "import numpy as np\n",
    "import matplotlib.pyplot as plt\n",
    "from matplotlib import cm\n",
    "import seaborn as sns\n",
    "from sklearn.model_selection import train_test_split\n",
    "from sklearn.model_selection import cross_val_score\n",
    "\n",
    "from sklearn.linear_model import LinearRegression\n",
    "from sklearn.linear_model import LogisticRegression\n",
    "from sklearn import metrics\n",
    "from sklearn.metrics import mean_squared_error\n",
    "from sklearn.preprocessing import StandardScaler\n",
    "from sklearn.metrics import roc_auc_score\n",
    "from sklearn.metrics import roc_curve\n",
    "from sklearn.tree import DecisionTreeClassifier\n",
    "from sklearn.ensemble import RandomForestClassifier\n",
    "from sklearn.tree import DecisionTreeRegressor\n",
    "from sklearn.tree import plot_tree\n",
    "from sklearn.metrics import plot_confusion_matrix\n"
   ]
  },
  {
   "cell_type": "code",
   "execution_count": 1557,
   "id": "01f03f7b",
   "metadata": {
    "scrolled": false
   },
   "outputs": [
    {
     "data": {
      "text/html": [
       "<div>\n",
       "<style scoped>\n",
       "    .dataframe tbody tr th:only-of-type {\n",
       "        vertical-align: middle;\n",
       "    }\n",
       "\n",
       "    .dataframe tbody tr th {\n",
       "        vertical-align: top;\n",
       "    }\n",
       "\n",
       "    .dataframe thead th {\n",
       "        text-align: right;\n",
       "    }\n",
       "</style>\n",
       "<table border=\"1\" class=\"dataframe\">\n",
       "  <thead>\n",
       "    <tr style=\"text-align: right;\">\n",
       "      <th></th>\n",
       "      <th>age</th>\n",
       "      <th>sex</th>\n",
       "      <th>cp</th>\n",
       "      <th>trestbps</th>\n",
       "      <th>chol</th>\n",
       "      <th>fbs</th>\n",
       "      <th>restecg</th>\n",
       "      <th>thalach</th>\n",
       "      <th>exang</th>\n",
       "      <th>oldpeak</th>\n",
       "      <th>slope</th>\n",
       "      <th>ca</th>\n",
       "      <th>thal</th>\n",
       "      <th>target</th>\n",
       "    </tr>\n",
       "  </thead>\n",
       "  <tbody>\n",
       "    <tr>\n",
       "      <th>0</th>\n",
       "      <td>63</td>\n",
       "      <td>1</td>\n",
       "      <td>3</td>\n",
       "      <td>145</td>\n",
       "      <td>233</td>\n",
       "      <td>1</td>\n",
       "      <td>0</td>\n",
       "      <td>150</td>\n",
       "      <td>0</td>\n",
       "      <td>2.3</td>\n",
       "      <td>0</td>\n",
       "      <td>0</td>\n",
       "      <td>1</td>\n",
       "      <td>1</td>\n",
       "    </tr>\n",
       "    <tr>\n",
       "      <th>1</th>\n",
       "      <td>37</td>\n",
       "      <td>1</td>\n",
       "      <td>2</td>\n",
       "      <td>130</td>\n",
       "      <td>250</td>\n",
       "      <td>0</td>\n",
       "      <td>1</td>\n",
       "      <td>187</td>\n",
       "      <td>0</td>\n",
       "      <td>3.5</td>\n",
       "      <td>0</td>\n",
       "      <td>0</td>\n",
       "      <td>2</td>\n",
       "      <td>1</td>\n",
       "    </tr>\n",
       "    <tr>\n",
       "      <th>2</th>\n",
       "      <td>41</td>\n",
       "      <td>0</td>\n",
       "      <td>1</td>\n",
       "      <td>130</td>\n",
       "      <td>204</td>\n",
       "      <td>0</td>\n",
       "      <td>0</td>\n",
       "      <td>172</td>\n",
       "      <td>0</td>\n",
       "      <td>1.4</td>\n",
       "      <td>2</td>\n",
       "      <td>0</td>\n",
       "      <td>2</td>\n",
       "      <td>1</td>\n",
       "    </tr>\n",
       "    <tr>\n",
       "      <th>3</th>\n",
       "      <td>56</td>\n",
       "      <td>1</td>\n",
       "      <td>1</td>\n",
       "      <td>120</td>\n",
       "      <td>236</td>\n",
       "      <td>0</td>\n",
       "      <td>1</td>\n",
       "      <td>178</td>\n",
       "      <td>0</td>\n",
       "      <td>0.8</td>\n",
       "      <td>2</td>\n",
       "      <td>0</td>\n",
       "      <td>2</td>\n",
       "      <td>1</td>\n",
       "    </tr>\n",
       "    <tr>\n",
       "      <th>4</th>\n",
       "      <td>57</td>\n",
       "      <td>0</td>\n",
       "      <td>0</td>\n",
       "      <td>120</td>\n",
       "      <td>354</td>\n",
       "      <td>0</td>\n",
       "      <td>1</td>\n",
       "      <td>163</td>\n",
       "      <td>1</td>\n",
       "      <td>0.6</td>\n",
       "      <td>2</td>\n",
       "      <td>0</td>\n",
       "      <td>2</td>\n",
       "      <td>1</td>\n",
       "    </tr>\n",
       "    <tr>\n",
       "      <th>...</th>\n",
       "      <td>...</td>\n",
       "      <td>...</td>\n",
       "      <td>...</td>\n",
       "      <td>...</td>\n",
       "      <td>...</td>\n",
       "      <td>...</td>\n",
       "      <td>...</td>\n",
       "      <td>...</td>\n",
       "      <td>...</td>\n",
       "      <td>...</td>\n",
       "      <td>...</td>\n",
       "      <td>...</td>\n",
       "      <td>...</td>\n",
       "      <td>...</td>\n",
       "    </tr>\n",
       "    <tr>\n",
       "      <th>298</th>\n",
       "      <td>57</td>\n",
       "      <td>0</td>\n",
       "      <td>0</td>\n",
       "      <td>140</td>\n",
       "      <td>241</td>\n",
       "      <td>0</td>\n",
       "      <td>1</td>\n",
       "      <td>123</td>\n",
       "      <td>1</td>\n",
       "      <td>0.2</td>\n",
       "      <td>1</td>\n",
       "      <td>0</td>\n",
       "      <td>3</td>\n",
       "      <td>0</td>\n",
       "    </tr>\n",
       "    <tr>\n",
       "      <th>299</th>\n",
       "      <td>45</td>\n",
       "      <td>1</td>\n",
       "      <td>3</td>\n",
       "      <td>110</td>\n",
       "      <td>264</td>\n",
       "      <td>0</td>\n",
       "      <td>1</td>\n",
       "      <td>132</td>\n",
       "      <td>0</td>\n",
       "      <td>1.2</td>\n",
       "      <td>1</td>\n",
       "      <td>0</td>\n",
       "      <td>3</td>\n",
       "      <td>0</td>\n",
       "    </tr>\n",
       "    <tr>\n",
       "      <th>300</th>\n",
       "      <td>68</td>\n",
       "      <td>1</td>\n",
       "      <td>0</td>\n",
       "      <td>144</td>\n",
       "      <td>193</td>\n",
       "      <td>1</td>\n",
       "      <td>1</td>\n",
       "      <td>141</td>\n",
       "      <td>0</td>\n",
       "      <td>3.4</td>\n",
       "      <td>1</td>\n",
       "      <td>2</td>\n",
       "      <td>3</td>\n",
       "      <td>0</td>\n",
       "    </tr>\n",
       "    <tr>\n",
       "      <th>301</th>\n",
       "      <td>57</td>\n",
       "      <td>1</td>\n",
       "      <td>0</td>\n",
       "      <td>130</td>\n",
       "      <td>131</td>\n",
       "      <td>0</td>\n",
       "      <td>1</td>\n",
       "      <td>115</td>\n",
       "      <td>1</td>\n",
       "      <td>1.2</td>\n",
       "      <td>1</td>\n",
       "      <td>1</td>\n",
       "      <td>3</td>\n",
       "      <td>0</td>\n",
       "    </tr>\n",
       "    <tr>\n",
       "      <th>302</th>\n",
       "      <td>57</td>\n",
       "      <td>0</td>\n",
       "      <td>1</td>\n",
       "      <td>130</td>\n",
       "      <td>236</td>\n",
       "      <td>0</td>\n",
       "      <td>0</td>\n",
       "      <td>174</td>\n",
       "      <td>0</td>\n",
       "      <td>0.0</td>\n",
       "      <td>1</td>\n",
       "      <td>1</td>\n",
       "      <td>2</td>\n",
       "      <td>0</td>\n",
       "    </tr>\n",
       "  </tbody>\n",
       "</table>\n",
       "<p>303 rows × 14 columns</p>\n",
       "</div>"
      ],
      "text/plain": [
       "     age  sex  cp  trestbps  chol  fbs  restecg  thalach  exang  oldpeak  \\\n",
       "0     63    1   3       145   233    1        0      150      0      2.3   \n",
       "1     37    1   2       130   250    0        1      187      0      3.5   \n",
       "2     41    0   1       130   204    0        0      172      0      1.4   \n",
       "3     56    1   1       120   236    0        1      178      0      0.8   \n",
       "4     57    0   0       120   354    0        1      163      1      0.6   \n",
       "..   ...  ...  ..       ...   ...  ...      ...      ...    ...      ...   \n",
       "298   57    0   0       140   241    0        1      123      1      0.2   \n",
       "299   45    1   3       110   264    0        1      132      0      1.2   \n",
       "300   68    1   0       144   193    1        1      141      0      3.4   \n",
       "301   57    1   0       130   131    0        1      115      1      1.2   \n",
       "302   57    0   1       130   236    0        0      174      0      0.0   \n",
       "\n",
       "     slope  ca  thal  target  \n",
       "0        0   0     1       1  \n",
       "1        0   0     2       1  \n",
       "2        2   0     2       1  \n",
       "3        2   0     2       1  \n",
       "4        2   0     2       1  \n",
       "..     ...  ..   ...     ...  \n",
       "298      1   0     3       0  \n",
       "299      1   0     3       0  \n",
       "300      1   2     3       0  \n",
       "301      1   1     3       0  \n",
       "302      1   1     2       0  \n",
       "\n",
       "[303 rows x 14 columns]"
      ]
     },
     "execution_count": 1557,
     "metadata": {},
     "output_type": "execute_result"
    }
   ],
   "source": [
    "data = pd.read_csv(r'C:\\Users\\Badi\\OneDrive\\Bureau\\A.I\\heart.csv')\n",
    "data"
   ]
  },
  {
   "cell_type": "code",
   "execution_count": 1558,
   "id": "1d276f96",
   "metadata": {},
   "outputs": [],
   "source": [
    "#### getting some information about the dataset"
   ]
  },
  {
   "cell_type": "code",
   "execution_count": 1559,
   "id": "177f8151",
   "metadata": {},
   "outputs": [
    {
     "name": "stdout",
     "output_type": "stream",
     "text": [
      "<class 'pandas.core.frame.DataFrame'>\n",
      "RangeIndex: 303 entries, 0 to 302\n",
      "Data columns (total 14 columns):\n",
      " #   Column    Non-Null Count  Dtype  \n",
      "---  ------    --------------  -----  \n",
      " 0   age       303 non-null    int64  \n",
      " 1   sex       303 non-null    int64  \n",
      " 2   cp        303 non-null    int64  \n",
      " 3   trestbps  303 non-null    int64  \n",
      " 4   chol      303 non-null    int64  \n",
      " 5   fbs       303 non-null    int64  \n",
      " 6   restecg   303 non-null    int64  \n",
      " 7   thalach   303 non-null    int64  \n",
      " 8   exang     303 non-null    int64  \n",
      " 9   oldpeak   303 non-null    float64\n",
      " 10  slope     303 non-null    int64  \n",
      " 11  ca        303 non-null    int64  \n",
      " 12  thal      303 non-null    int64  \n",
      " 13  target    303 non-null    int64  \n",
      "dtypes: float64(1), int64(13)\n",
      "memory usage: 33.3 KB\n"
     ]
    }
   ],
   "source": [
    "data.info()"
   ]
  },
  {
   "cell_type": "code",
   "execution_count": 1560,
   "id": "e4e7ccca",
   "metadata": {},
   "outputs": [
    {
     "data": {
      "text/html": [
       "<div>\n",
       "<style scoped>\n",
       "    .dataframe tbody tr th:only-of-type {\n",
       "        vertical-align: middle;\n",
       "    }\n",
       "\n",
       "    .dataframe tbody tr th {\n",
       "        vertical-align: top;\n",
       "    }\n",
       "\n",
       "    .dataframe thead th {\n",
       "        text-align: right;\n",
       "    }\n",
       "</style>\n",
       "<table border=\"1\" class=\"dataframe\">\n",
       "  <thead>\n",
       "    <tr style=\"text-align: right;\">\n",
       "      <th></th>\n",
       "      <th>age</th>\n",
       "      <th>sex</th>\n",
       "      <th>cp</th>\n",
       "      <th>trestbps</th>\n",
       "      <th>chol</th>\n",
       "      <th>fbs</th>\n",
       "      <th>restecg</th>\n",
       "      <th>thalach</th>\n",
       "      <th>exang</th>\n",
       "      <th>oldpeak</th>\n",
       "      <th>slope</th>\n",
       "      <th>ca</th>\n",
       "      <th>thal</th>\n",
       "      <th>target</th>\n",
       "    </tr>\n",
       "  </thead>\n",
       "  <tbody>\n",
       "    <tr>\n",
       "      <th>count</th>\n",
       "      <td>303.000000</td>\n",
       "      <td>303.000000</td>\n",
       "      <td>303.000000</td>\n",
       "      <td>303.000000</td>\n",
       "      <td>303.000000</td>\n",
       "      <td>303.000000</td>\n",
       "      <td>303.000000</td>\n",
       "      <td>303.000000</td>\n",
       "      <td>303.000000</td>\n",
       "      <td>303.000000</td>\n",
       "      <td>303.000000</td>\n",
       "      <td>303.000000</td>\n",
       "      <td>303.000000</td>\n",
       "      <td>303.000000</td>\n",
       "    </tr>\n",
       "    <tr>\n",
       "      <th>mean</th>\n",
       "      <td>54.366337</td>\n",
       "      <td>0.683168</td>\n",
       "      <td>0.966997</td>\n",
       "      <td>131.623762</td>\n",
       "      <td>246.264026</td>\n",
       "      <td>0.148515</td>\n",
       "      <td>0.528053</td>\n",
       "      <td>149.646865</td>\n",
       "      <td>0.326733</td>\n",
       "      <td>1.039604</td>\n",
       "      <td>1.399340</td>\n",
       "      <td>0.729373</td>\n",
       "      <td>2.313531</td>\n",
       "      <td>0.544554</td>\n",
       "    </tr>\n",
       "    <tr>\n",
       "      <th>std</th>\n",
       "      <td>9.082101</td>\n",
       "      <td>0.466011</td>\n",
       "      <td>1.032052</td>\n",
       "      <td>17.538143</td>\n",
       "      <td>51.830751</td>\n",
       "      <td>0.356198</td>\n",
       "      <td>0.525860</td>\n",
       "      <td>22.905161</td>\n",
       "      <td>0.469794</td>\n",
       "      <td>1.161075</td>\n",
       "      <td>0.616226</td>\n",
       "      <td>1.022606</td>\n",
       "      <td>0.612277</td>\n",
       "      <td>0.498835</td>\n",
       "    </tr>\n",
       "    <tr>\n",
       "      <th>min</th>\n",
       "      <td>29.000000</td>\n",
       "      <td>0.000000</td>\n",
       "      <td>0.000000</td>\n",
       "      <td>94.000000</td>\n",
       "      <td>126.000000</td>\n",
       "      <td>0.000000</td>\n",
       "      <td>0.000000</td>\n",
       "      <td>71.000000</td>\n",
       "      <td>0.000000</td>\n",
       "      <td>0.000000</td>\n",
       "      <td>0.000000</td>\n",
       "      <td>0.000000</td>\n",
       "      <td>0.000000</td>\n",
       "      <td>0.000000</td>\n",
       "    </tr>\n",
       "    <tr>\n",
       "      <th>25%</th>\n",
       "      <td>47.500000</td>\n",
       "      <td>0.000000</td>\n",
       "      <td>0.000000</td>\n",
       "      <td>120.000000</td>\n",
       "      <td>211.000000</td>\n",
       "      <td>0.000000</td>\n",
       "      <td>0.000000</td>\n",
       "      <td>133.500000</td>\n",
       "      <td>0.000000</td>\n",
       "      <td>0.000000</td>\n",
       "      <td>1.000000</td>\n",
       "      <td>0.000000</td>\n",
       "      <td>2.000000</td>\n",
       "      <td>0.000000</td>\n",
       "    </tr>\n",
       "    <tr>\n",
       "      <th>50%</th>\n",
       "      <td>55.000000</td>\n",
       "      <td>1.000000</td>\n",
       "      <td>1.000000</td>\n",
       "      <td>130.000000</td>\n",
       "      <td>240.000000</td>\n",
       "      <td>0.000000</td>\n",
       "      <td>1.000000</td>\n",
       "      <td>153.000000</td>\n",
       "      <td>0.000000</td>\n",
       "      <td>0.800000</td>\n",
       "      <td>1.000000</td>\n",
       "      <td>0.000000</td>\n",
       "      <td>2.000000</td>\n",
       "      <td>1.000000</td>\n",
       "    </tr>\n",
       "    <tr>\n",
       "      <th>75%</th>\n",
       "      <td>61.000000</td>\n",
       "      <td>1.000000</td>\n",
       "      <td>2.000000</td>\n",
       "      <td>140.000000</td>\n",
       "      <td>274.500000</td>\n",
       "      <td>0.000000</td>\n",
       "      <td>1.000000</td>\n",
       "      <td>166.000000</td>\n",
       "      <td>1.000000</td>\n",
       "      <td>1.600000</td>\n",
       "      <td>2.000000</td>\n",
       "      <td>1.000000</td>\n",
       "      <td>3.000000</td>\n",
       "      <td>1.000000</td>\n",
       "    </tr>\n",
       "    <tr>\n",
       "      <th>max</th>\n",
       "      <td>77.000000</td>\n",
       "      <td>1.000000</td>\n",
       "      <td>3.000000</td>\n",
       "      <td>200.000000</td>\n",
       "      <td>564.000000</td>\n",
       "      <td>1.000000</td>\n",
       "      <td>2.000000</td>\n",
       "      <td>202.000000</td>\n",
       "      <td>1.000000</td>\n",
       "      <td>6.200000</td>\n",
       "      <td>2.000000</td>\n",
       "      <td>4.000000</td>\n",
       "      <td>3.000000</td>\n",
       "      <td>1.000000</td>\n",
       "    </tr>\n",
       "  </tbody>\n",
       "</table>\n",
       "</div>"
      ],
      "text/plain": [
       "              age         sex          cp    trestbps        chol         fbs  \\\n",
       "count  303.000000  303.000000  303.000000  303.000000  303.000000  303.000000   \n",
       "mean    54.366337    0.683168    0.966997  131.623762  246.264026    0.148515   \n",
       "std      9.082101    0.466011    1.032052   17.538143   51.830751    0.356198   \n",
       "min     29.000000    0.000000    0.000000   94.000000  126.000000    0.000000   \n",
       "25%     47.500000    0.000000    0.000000  120.000000  211.000000    0.000000   \n",
       "50%     55.000000    1.000000    1.000000  130.000000  240.000000    0.000000   \n",
       "75%     61.000000    1.000000    2.000000  140.000000  274.500000    0.000000   \n",
       "max     77.000000    1.000000    3.000000  200.000000  564.000000    1.000000   \n",
       "\n",
       "          restecg     thalach       exang     oldpeak       slope          ca  \\\n",
       "count  303.000000  303.000000  303.000000  303.000000  303.000000  303.000000   \n",
       "mean     0.528053  149.646865    0.326733    1.039604    1.399340    0.729373   \n",
       "std      0.525860   22.905161    0.469794    1.161075    0.616226    1.022606   \n",
       "min      0.000000   71.000000    0.000000    0.000000    0.000000    0.000000   \n",
       "25%      0.000000  133.500000    0.000000    0.000000    1.000000    0.000000   \n",
       "50%      1.000000  153.000000    0.000000    0.800000    1.000000    0.000000   \n",
       "75%      1.000000  166.000000    1.000000    1.600000    2.000000    1.000000   \n",
       "max      2.000000  202.000000    1.000000    6.200000    2.000000    4.000000   \n",
       "\n",
       "             thal      target  \n",
       "count  303.000000  303.000000  \n",
       "mean     2.313531    0.544554  \n",
       "std      0.612277    0.498835  \n",
       "min      0.000000    0.000000  \n",
       "25%      2.000000    0.000000  \n",
       "50%      2.000000    1.000000  \n",
       "75%      3.000000    1.000000  \n",
       "max      3.000000    1.000000  "
      ]
     },
     "execution_count": 1560,
     "metadata": {},
     "output_type": "execute_result"
    }
   ],
   "source": [
    "data.describe()"
   ]
  },
  {
   "cell_type": "code",
   "execution_count": 1561,
   "id": "38c0bd45",
   "metadata": {},
   "outputs": [
    {
     "data": {
      "text/plain": [
       "age           int64\n",
       "sex           int64\n",
       "cp            int64\n",
       "trestbps      int64\n",
       "chol          int64\n",
       "fbs           int64\n",
       "restecg       int64\n",
       "thalach       int64\n",
       "exang         int64\n",
       "oldpeak     float64\n",
       "slope         int64\n",
       "ca            int64\n",
       "thal          int64\n",
       "target        int64\n",
       "dtype: object"
      ]
     },
     "execution_count": 1561,
     "metadata": {},
     "output_type": "execute_result"
    }
   ],
   "source": [
    "data.dtypes"
   ]
  },
  {
   "cell_type": "markdown",
   "id": "e98c20e2",
   "metadata": {},
   "source": [
    "##### checking for NaN values"
   ]
  },
  {
   "cell_type": "code",
   "execution_count": 1562,
   "id": "2d44874d",
   "metadata": {
    "scrolled": true
   },
   "outputs": [
    {
     "data": {
      "text/plain": [
       "age         0\n",
       "sex         0\n",
       "cp          0\n",
       "trestbps    0\n",
       "chol        0\n",
       "fbs         0\n",
       "restecg     0\n",
       "thalach     0\n",
       "exang       0\n",
       "oldpeak     0\n",
       "slope       0\n",
       "ca          0\n",
       "thal        0\n",
       "target      0\n",
       "dtype: int64"
      ]
     },
     "execution_count": 1562,
     "metadata": {},
     "output_type": "execute_result"
    }
   ],
   "source": [
    "data.isnull().sum()"
   ]
  },
  {
   "cell_type": "markdown",
   "id": "40097ae3",
   "metadata": {},
   "source": [
    "#### there is no NaN values so we can proceed.\n"
   ]
  },
  {
   "cell_type": "markdown",
   "id": "cc066882",
   "metadata": {},
   "source": [
    "##### here we propose to implemant a decesion tree to classify the target."
   ]
  },
  {
   "cell_type": "code",
   "execution_count": 1563,
   "id": "55eb281c",
   "metadata": {},
   "outputs": [
    {
     "data": {
      "text/html": [
       "<div>\n",
       "<style scoped>\n",
       "    .dataframe tbody tr th:only-of-type {\n",
       "        vertical-align: middle;\n",
       "    }\n",
       "\n",
       "    .dataframe tbody tr th {\n",
       "        vertical-align: top;\n",
       "    }\n",
       "\n",
       "    .dataframe thead th {\n",
       "        text-align: right;\n",
       "    }\n",
       "</style>\n",
       "<table border=\"1\" class=\"dataframe\">\n",
       "  <thead>\n",
       "    <tr style=\"text-align: right;\">\n",
       "      <th></th>\n",
       "      <th>age</th>\n",
       "      <th>sex</th>\n",
       "      <th>cp</th>\n",
       "      <th>trestbps</th>\n",
       "      <th>chol</th>\n",
       "      <th>fbs</th>\n",
       "      <th>restecg</th>\n",
       "      <th>thalach</th>\n",
       "      <th>exang</th>\n",
       "      <th>oldpeak</th>\n",
       "      <th>slope</th>\n",
       "      <th>ca</th>\n",
       "      <th>thal</th>\n",
       "      <th>target</th>\n",
       "    </tr>\n",
       "  </thead>\n",
       "  <tbody>\n",
       "    <tr>\n",
       "      <th>0</th>\n",
       "      <td>63</td>\n",
       "      <td>1</td>\n",
       "      <td>3</td>\n",
       "      <td>145</td>\n",
       "      <td>233</td>\n",
       "      <td>1</td>\n",
       "      <td>0</td>\n",
       "      <td>150</td>\n",
       "      <td>0</td>\n",
       "      <td>2.3</td>\n",
       "      <td>0</td>\n",
       "      <td>0</td>\n",
       "      <td>1</td>\n",
       "      <td>1</td>\n",
       "    </tr>\n",
       "    <tr>\n",
       "      <th>1</th>\n",
       "      <td>37</td>\n",
       "      <td>1</td>\n",
       "      <td>2</td>\n",
       "      <td>130</td>\n",
       "      <td>250</td>\n",
       "      <td>0</td>\n",
       "      <td>1</td>\n",
       "      <td>187</td>\n",
       "      <td>0</td>\n",
       "      <td>3.5</td>\n",
       "      <td>0</td>\n",
       "      <td>0</td>\n",
       "      <td>2</td>\n",
       "      <td>1</td>\n",
       "    </tr>\n",
       "    <tr>\n",
       "      <th>2</th>\n",
       "      <td>41</td>\n",
       "      <td>0</td>\n",
       "      <td>1</td>\n",
       "      <td>130</td>\n",
       "      <td>204</td>\n",
       "      <td>0</td>\n",
       "      <td>0</td>\n",
       "      <td>172</td>\n",
       "      <td>0</td>\n",
       "      <td>1.4</td>\n",
       "      <td>2</td>\n",
       "      <td>0</td>\n",
       "      <td>2</td>\n",
       "      <td>1</td>\n",
       "    </tr>\n",
       "    <tr>\n",
       "      <th>3</th>\n",
       "      <td>56</td>\n",
       "      <td>1</td>\n",
       "      <td>1</td>\n",
       "      <td>120</td>\n",
       "      <td>236</td>\n",
       "      <td>0</td>\n",
       "      <td>1</td>\n",
       "      <td>178</td>\n",
       "      <td>0</td>\n",
       "      <td>0.8</td>\n",
       "      <td>2</td>\n",
       "      <td>0</td>\n",
       "      <td>2</td>\n",
       "      <td>1</td>\n",
       "    </tr>\n",
       "    <tr>\n",
       "      <th>4</th>\n",
       "      <td>57</td>\n",
       "      <td>0</td>\n",
       "      <td>0</td>\n",
       "      <td>120</td>\n",
       "      <td>354</td>\n",
       "      <td>0</td>\n",
       "      <td>1</td>\n",
       "      <td>163</td>\n",
       "      <td>1</td>\n",
       "      <td>0.6</td>\n",
       "      <td>2</td>\n",
       "      <td>0</td>\n",
       "      <td>2</td>\n",
       "      <td>1</td>\n",
       "    </tr>\n",
       "    <tr>\n",
       "      <th>...</th>\n",
       "      <td>...</td>\n",
       "      <td>...</td>\n",
       "      <td>...</td>\n",
       "      <td>...</td>\n",
       "      <td>...</td>\n",
       "      <td>...</td>\n",
       "      <td>...</td>\n",
       "      <td>...</td>\n",
       "      <td>...</td>\n",
       "      <td>...</td>\n",
       "      <td>...</td>\n",
       "      <td>...</td>\n",
       "      <td>...</td>\n",
       "      <td>...</td>\n",
       "    </tr>\n",
       "    <tr>\n",
       "      <th>298</th>\n",
       "      <td>57</td>\n",
       "      <td>0</td>\n",
       "      <td>0</td>\n",
       "      <td>140</td>\n",
       "      <td>241</td>\n",
       "      <td>0</td>\n",
       "      <td>1</td>\n",
       "      <td>123</td>\n",
       "      <td>1</td>\n",
       "      <td>0.2</td>\n",
       "      <td>1</td>\n",
       "      <td>0</td>\n",
       "      <td>3</td>\n",
       "      <td>0</td>\n",
       "    </tr>\n",
       "    <tr>\n",
       "      <th>299</th>\n",
       "      <td>45</td>\n",
       "      <td>1</td>\n",
       "      <td>3</td>\n",
       "      <td>110</td>\n",
       "      <td>264</td>\n",
       "      <td>0</td>\n",
       "      <td>1</td>\n",
       "      <td>132</td>\n",
       "      <td>0</td>\n",
       "      <td>1.2</td>\n",
       "      <td>1</td>\n",
       "      <td>0</td>\n",
       "      <td>3</td>\n",
       "      <td>0</td>\n",
       "    </tr>\n",
       "    <tr>\n",
       "      <th>300</th>\n",
       "      <td>68</td>\n",
       "      <td>1</td>\n",
       "      <td>0</td>\n",
       "      <td>144</td>\n",
       "      <td>193</td>\n",
       "      <td>1</td>\n",
       "      <td>1</td>\n",
       "      <td>141</td>\n",
       "      <td>0</td>\n",
       "      <td>3.4</td>\n",
       "      <td>1</td>\n",
       "      <td>2</td>\n",
       "      <td>3</td>\n",
       "      <td>0</td>\n",
       "    </tr>\n",
       "    <tr>\n",
       "      <th>301</th>\n",
       "      <td>57</td>\n",
       "      <td>1</td>\n",
       "      <td>0</td>\n",
       "      <td>130</td>\n",
       "      <td>131</td>\n",
       "      <td>0</td>\n",
       "      <td>1</td>\n",
       "      <td>115</td>\n",
       "      <td>1</td>\n",
       "      <td>1.2</td>\n",
       "      <td>1</td>\n",
       "      <td>1</td>\n",
       "      <td>3</td>\n",
       "      <td>0</td>\n",
       "    </tr>\n",
       "    <tr>\n",
       "      <th>302</th>\n",
       "      <td>57</td>\n",
       "      <td>0</td>\n",
       "      <td>1</td>\n",
       "      <td>130</td>\n",
       "      <td>236</td>\n",
       "      <td>0</td>\n",
       "      <td>0</td>\n",
       "      <td>174</td>\n",
       "      <td>0</td>\n",
       "      <td>0.0</td>\n",
       "      <td>1</td>\n",
       "      <td>1</td>\n",
       "      <td>2</td>\n",
       "      <td>0</td>\n",
       "    </tr>\n",
       "  </tbody>\n",
       "</table>\n",
       "<p>303 rows × 14 columns</p>\n",
       "</div>"
      ],
      "text/plain": [
       "     age  sex  cp  trestbps  chol  fbs  restecg  thalach  exang  oldpeak  \\\n",
       "0     63    1   3       145   233    1        0      150      0      2.3   \n",
       "1     37    1   2       130   250    0        1      187      0      3.5   \n",
       "2     41    0   1       130   204    0        0      172      0      1.4   \n",
       "3     56    1   1       120   236    0        1      178      0      0.8   \n",
       "4     57    0   0       120   354    0        1      163      1      0.6   \n",
       "..   ...  ...  ..       ...   ...  ...      ...      ...    ...      ...   \n",
       "298   57    0   0       140   241    0        1      123      1      0.2   \n",
       "299   45    1   3       110   264    0        1      132      0      1.2   \n",
       "300   68    1   0       144   193    1        1      141      0      3.4   \n",
       "301   57    1   0       130   131    0        1      115      1      1.2   \n",
       "302   57    0   1       130   236    0        0      174      0      0.0   \n",
       "\n",
       "     slope  ca  thal  target  \n",
       "0        0   0     1       1  \n",
       "1        0   0     2       1  \n",
       "2        2   0     2       1  \n",
       "3        2   0     2       1  \n",
       "4        2   0     2       1  \n",
       "..     ...  ..   ...     ...  \n",
       "298      1   0     3       0  \n",
       "299      1   0     3       0  \n",
       "300      1   2     3       0  \n",
       "301      1   1     3       0  \n",
       "302      1   1     2       0  \n",
       "\n",
       "[303 rows x 14 columns]"
      ]
     },
     "execution_count": 1563,
     "metadata": {},
     "output_type": "execute_result"
    }
   ],
   "source": [
    "data_dt = data.copy()\n",
    "data_dt"
   ]
  },
  {
   "cell_type": "code",
   "execution_count": 1564,
   "id": "b95f1558",
   "metadata": {},
   "outputs": [
    {
     "data": {
      "text/plain": [
       "0      1\n",
       "1      1\n",
       "2      1\n",
       "3      1\n",
       "4      1\n",
       "      ..\n",
       "298    0\n",
       "299    0\n",
       "300    0\n",
       "301    0\n",
       "302    0\n",
       "Name: target, Length: 303, dtype: int64"
      ]
     },
     "execution_count": 1564,
     "metadata": {},
     "output_type": "execute_result"
    }
   ],
   "source": [
    "target = data_dt['target']\n",
    "target"
   ]
  },
  {
   "cell_type": "code",
   "execution_count": 1565,
   "id": "630f56a0",
   "metadata": {},
   "outputs": [
    {
     "data": {
      "text/html": [
       "<div>\n",
       "<style scoped>\n",
       "    .dataframe tbody tr th:only-of-type {\n",
       "        vertical-align: middle;\n",
       "    }\n",
       "\n",
       "    .dataframe tbody tr th {\n",
       "        vertical-align: top;\n",
       "    }\n",
       "\n",
       "    .dataframe thead th {\n",
       "        text-align: right;\n",
       "    }\n",
       "</style>\n",
       "<table border=\"1\" class=\"dataframe\">\n",
       "  <thead>\n",
       "    <tr style=\"text-align: right;\">\n",
       "      <th></th>\n",
       "      <th>age</th>\n",
       "      <th>sex</th>\n",
       "      <th>cp</th>\n",
       "      <th>trestbps</th>\n",
       "      <th>chol</th>\n",
       "      <th>fbs</th>\n",
       "      <th>restecg</th>\n",
       "      <th>thalach</th>\n",
       "      <th>exang</th>\n",
       "      <th>oldpeak</th>\n",
       "      <th>slope</th>\n",
       "      <th>ca</th>\n",
       "      <th>thal</th>\n",
       "    </tr>\n",
       "  </thead>\n",
       "  <tbody>\n",
       "    <tr>\n",
       "      <th>0</th>\n",
       "      <td>63</td>\n",
       "      <td>1</td>\n",
       "      <td>3</td>\n",
       "      <td>145</td>\n",
       "      <td>233</td>\n",
       "      <td>1</td>\n",
       "      <td>0</td>\n",
       "      <td>150</td>\n",
       "      <td>0</td>\n",
       "      <td>2.3</td>\n",
       "      <td>0</td>\n",
       "      <td>0</td>\n",
       "      <td>1</td>\n",
       "    </tr>\n",
       "    <tr>\n",
       "      <th>1</th>\n",
       "      <td>37</td>\n",
       "      <td>1</td>\n",
       "      <td>2</td>\n",
       "      <td>130</td>\n",
       "      <td>250</td>\n",
       "      <td>0</td>\n",
       "      <td>1</td>\n",
       "      <td>187</td>\n",
       "      <td>0</td>\n",
       "      <td>3.5</td>\n",
       "      <td>0</td>\n",
       "      <td>0</td>\n",
       "      <td>2</td>\n",
       "    </tr>\n",
       "    <tr>\n",
       "      <th>2</th>\n",
       "      <td>41</td>\n",
       "      <td>0</td>\n",
       "      <td>1</td>\n",
       "      <td>130</td>\n",
       "      <td>204</td>\n",
       "      <td>0</td>\n",
       "      <td>0</td>\n",
       "      <td>172</td>\n",
       "      <td>0</td>\n",
       "      <td>1.4</td>\n",
       "      <td>2</td>\n",
       "      <td>0</td>\n",
       "      <td>2</td>\n",
       "    </tr>\n",
       "    <tr>\n",
       "      <th>3</th>\n",
       "      <td>56</td>\n",
       "      <td>1</td>\n",
       "      <td>1</td>\n",
       "      <td>120</td>\n",
       "      <td>236</td>\n",
       "      <td>0</td>\n",
       "      <td>1</td>\n",
       "      <td>178</td>\n",
       "      <td>0</td>\n",
       "      <td>0.8</td>\n",
       "      <td>2</td>\n",
       "      <td>0</td>\n",
       "      <td>2</td>\n",
       "    </tr>\n",
       "    <tr>\n",
       "      <th>4</th>\n",
       "      <td>57</td>\n",
       "      <td>0</td>\n",
       "      <td>0</td>\n",
       "      <td>120</td>\n",
       "      <td>354</td>\n",
       "      <td>0</td>\n",
       "      <td>1</td>\n",
       "      <td>163</td>\n",
       "      <td>1</td>\n",
       "      <td>0.6</td>\n",
       "      <td>2</td>\n",
       "      <td>0</td>\n",
       "      <td>2</td>\n",
       "    </tr>\n",
       "    <tr>\n",
       "      <th>...</th>\n",
       "      <td>...</td>\n",
       "      <td>...</td>\n",
       "      <td>...</td>\n",
       "      <td>...</td>\n",
       "      <td>...</td>\n",
       "      <td>...</td>\n",
       "      <td>...</td>\n",
       "      <td>...</td>\n",
       "      <td>...</td>\n",
       "      <td>...</td>\n",
       "      <td>...</td>\n",
       "      <td>...</td>\n",
       "      <td>...</td>\n",
       "    </tr>\n",
       "    <tr>\n",
       "      <th>298</th>\n",
       "      <td>57</td>\n",
       "      <td>0</td>\n",
       "      <td>0</td>\n",
       "      <td>140</td>\n",
       "      <td>241</td>\n",
       "      <td>0</td>\n",
       "      <td>1</td>\n",
       "      <td>123</td>\n",
       "      <td>1</td>\n",
       "      <td>0.2</td>\n",
       "      <td>1</td>\n",
       "      <td>0</td>\n",
       "      <td>3</td>\n",
       "    </tr>\n",
       "    <tr>\n",
       "      <th>299</th>\n",
       "      <td>45</td>\n",
       "      <td>1</td>\n",
       "      <td>3</td>\n",
       "      <td>110</td>\n",
       "      <td>264</td>\n",
       "      <td>0</td>\n",
       "      <td>1</td>\n",
       "      <td>132</td>\n",
       "      <td>0</td>\n",
       "      <td>1.2</td>\n",
       "      <td>1</td>\n",
       "      <td>0</td>\n",
       "      <td>3</td>\n",
       "    </tr>\n",
       "    <tr>\n",
       "      <th>300</th>\n",
       "      <td>68</td>\n",
       "      <td>1</td>\n",
       "      <td>0</td>\n",
       "      <td>144</td>\n",
       "      <td>193</td>\n",
       "      <td>1</td>\n",
       "      <td>1</td>\n",
       "      <td>141</td>\n",
       "      <td>0</td>\n",
       "      <td>3.4</td>\n",
       "      <td>1</td>\n",
       "      <td>2</td>\n",
       "      <td>3</td>\n",
       "    </tr>\n",
       "    <tr>\n",
       "      <th>301</th>\n",
       "      <td>57</td>\n",
       "      <td>1</td>\n",
       "      <td>0</td>\n",
       "      <td>130</td>\n",
       "      <td>131</td>\n",
       "      <td>0</td>\n",
       "      <td>1</td>\n",
       "      <td>115</td>\n",
       "      <td>1</td>\n",
       "      <td>1.2</td>\n",
       "      <td>1</td>\n",
       "      <td>1</td>\n",
       "      <td>3</td>\n",
       "    </tr>\n",
       "    <tr>\n",
       "      <th>302</th>\n",
       "      <td>57</td>\n",
       "      <td>0</td>\n",
       "      <td>1</td>\n",
       "      <td>130</td>\n",
       "      <td>236</td>\n",
       "      <td>0</td>\n",
       "      <td>0</td>\n",
       "      <td>174</td>\n",
       "      <td>0</td>\n",
       "      <td>0.0</td>\n",
       "      <td>1</td>\n",
       "      <td>1</td>\n",
       "      <td>2</td>\n",
       "    </tr>\n",
       "  </tbody>\n",
       "</table>\n",
       "<p>303 rows × 13 columns</p>\n",
       "</div>"
      ],
      "text/plain": [
       "     age  sex  cp  trestbps  chol  fbs  restecg  thalach  exang  oldpeak  \\\n",
       "0     63    1   3       145   233    1        0      150      0      2.3   \n",
       "1     37    1   2       130   250    0        1      187      0      3.5   \n",
       "2     41    0   1       130   204    0        0      172      0      1.4   \n",
       "3     56    1   1       120   236    0        1      178      0      0.8   \n",
       "4     57    0   0       120   354    0        1      163      1      0.6   \n",
       "..   ...  ...  ..       ...   ...  ...      ...      ...    ...      ...   \n",
       "298   57    0   0       140   241    0        1      123      1      0.2   \n",
       "299   45    1   3       110   264    0        1      132      0      1.2   \n",
       "300   68    1   0       144   193    1        1      141      0      3.4   \n",
       "301   57    1   0       130   131    0        1      115      1      1.2   \n",
       "302   57    0   1       130   236    0        0      174      0      0.0   \n",
       "\n",
       "     slope  ca  thal  \n",
       "0        0   0     1  \n",
       "1        0   0     2  \n",
       "2        2   0     2  \n",
       "3        2   0     2  \n",
       "4        2   0     2  \n",
       "..     ...  ..   ...  \n",
       "298      1   0     3  \n",
       "299      1   0     3  \n",
       "300      1   2     3  \n",
       "301      1   1     3  \n",
       "302      1   1     2  \n",
       "\n",
       "[303 rows x 13 columns]"
      ]
     },
     "execution_count": 1565,
     "metadata": {},
     "output_type": "execute_result"
    }
   ],
   "source": [
    "data_dt.drop(['target'],axis = 1,inplace =True)\n",
    "data_dt"
   ]
  },
  {
   "cell_type": "markdown",
   "id": "bd1c4732",
   "metadata": {},
   "source": [
    "<b>here we are changing the dtype of the 'trestbps','chol','thalach' and 'age' to flaot so that sklearn decesion tree\n",
    "algorithm regard them as continous data no discrete(categarical)</b>"
   ]
  },
  {
   "cell_type": "code",
   "execution_count": 1566,
   "id": "89b6ea81",
   "metadata": {
    "scrolled": true
   },
   "outputs": [
    {
     "data": {
      "text/plain": [
       "age         float64\n",
       "sex           int64\n",
       "cp            int64\n",
       "trestbps    float64\n",
       "chol        float64\n",
       "fbs           int64\n",
       "restecg       int64\n",
       "thalach     float64\n",
       "exang         int64\n",
       "oldpeak     float64\n",
       "slope         int64\n",
       "ca            int64\n",
       "thal          int64\n",
       "dtype: object"
      ]
     },
     "execution_count": 1566,
     "metadata": {},
     "output_type": "execute_result"
    }
   ],
   "source": [
    "data_dt = data_dt.astype({'age':'float64',\n",
    "               'trestbps':'float64',\n",
    "               'chol':'float64',\n",
    "               'thalach':'float64',\n",
    "                })\n",
    "data_dt.dtypes"
   ]
  },
  {
   "cell_type": "markdown",
   "id": "fa272942",
   "metadata": {},
   "source": [
    "<b>now we are checking for the unique values of the discrete variables(I know that they are discrete from the describtion of the data set).Subsequently,We will apply 'one label encoding' to each variable with a number of unique value >2:here,we don't want our algorithm(sklearn decision tree algorithm)to treat our categorical data like continous data because that will induce biased results and thus innacurate(from the description of the data set we know that the variables mentionned above have independant value in a sense that each value represent unique category) <\\b>"
   ]
  },
  {
   "cell_type": "code",
   "execution_count": 1567,
   "id": "eff17bfd",
   "metadata": {
    "scrolled": true
   },
   "outputs": [
    {
     "data": {
      "text/plain": [
       "array([3, 2, 1, 0], dtype=int64)"
      ]
     },
     "execution_count": 1567,
     "metadata": {},
     "output_type": "execute_result"
    }
   ],
   "source": [
    "data_dt['cp'].unique()"
   ]
  },
  {
   "cell_type": "code",
   "execution_count": 1568,
   "id": "36f90afc",
   "metadata": {},
   "outputs": [
    {
     "data": {
      "text/plain": [
       "array([1, 0], dtype=int64)"
      ]
     },
     "execution_count": 1568,
     "metadata": {},
     "output_type": "execute_result"
    }
   ],
   "source": [
    "data_dt['fbs'].unique()"
   ]
  },
  {
   "cell_type": "code",
   "execution_count": 1569,
   "id": "798ea07e",
   "metadata": {},
   "outputs": [
    {
     "data": {
      "text/plain": [
       "array([0, 1, 2], dtype=int64)"
      ]
     },
     "execution_count": 1569,
     "metadata": {},
     "output_type": "execute_result"
    }
   ],
   "source": [
    "data_dt['restecg'].unique()"
   ]
  },
  {
   "cell_type": "code",
   "execution_count": 1570,
   "id": "ac83b0b7",
   "metadata": {},
   "outputs": [
    {
     "data": {
      "text/plain": [
       "array([0, 1], dtype=int64)"
      ]
     },
     "execution_count": 1570,
     "metadata": {},
     "output_type": "execute_result"
    }
   ],
   "source": [
    "data_dt['exang'].unique()"
   ]
  },
  {
   "cell_type": "code",
   "execution_count": 1571,
   "id": "7ae62f91",
   "metadata": {},
   "outputs": [
    {
     "data": {
      "text/plain": [
       "array([0, 2, 1], dtype=int64)"
      ]
     },
     "execution_count": 1571,
     "metadata": {},
     "output_type": "execute_result"
    }
   ],
   "source": [
    "data_dt['slope'].unique()"
   ]
  },
  {
   "cell_type": "code",
   "execution_count": 1572,
   "id": "079d0fd3",
   "metadata": {},
   "outputs": [
    {
     "data": {
      "text/plain": [
       "array([0, 2, 1, 3, 4], dtype=int64)"
      ]
     },
     "execution_count": 1572,
     "metadata": {},
     "output_type": "execute_result"
    }
   ],
   "source": [
    "data_dt['ca'].unique()"
   ]
  },
  {
   "cell_type": "code",
   "execution_count": 1573,
   "id": "4ad6904c",
   "metadata": {},
   "outputs": [
    {
     "data": {
      "text/plain": [
       "array([1, 2, 3, 0], dtype=int64)"
      ]
     },
     "execution_count": 1573,
     "metadata": {},
     "output_type": "execute_result"
    }
   ],
   "source": [
    "data_dt['thal'].unique()"
   ]
  },
  {
   "cell_type": "markdown",
   "id": "4108d6e6",
   "metadata": {},
   "source": [
    "### applying one hot encoding"
   ]
  },
  {
   "cell_type": "code",
   "execution_count": 1574,
   "id": "65a7d3ae",
   "metadata": {},
   "outputs": [
    {
     "data": {
      "text/html": [
       "<div>\n",
       "<style scoped>\n",
       "    .dataframe tbody tr th:only-of-type {\n",
       "        vertical-align: middle;\n",
       "    }\n",
       "\n",
       "    .dataframe tbody tr th {\n",
       "        vertical-align: top;\n",
       "    }\n",
       "\n",
       "    .dataframe thead th {\n",
       "        text-align: right;\n",
       "    }\n",
       "</style>\n",
       "<table border=\"1\" class=\"dataframe\">\n",
       "  <thead>\n",
       "    <tr style=\"text-align: right;\">\n",
       "      <th></th>\n",
       "      <th>age</th>\n",
       "      <th>sex</th>\n",
       "      <th>trestbps</th>\n",
       "      <th>chol</th>\n",
       "      <th>fbs</th>\n",
       "      <th>thalach</th>\n",
       "      <th>exang</th>\n",
       "      <th>oldpeak</th>\n",
       "      <th>thal_0</th>\n",
       "      <th>thal_1</th>\n",
       "      <th>...</th>\n",
       "      <th>slope_0</th>\n",
       "      <th>slope_1</th>\n",
       "      <th>slope_2</th>\n",
       "      <th>restecg_0</th>\n",
       "      <th>restecg_1</th>\n",
       "      <th>restecg_2</th>\n",
       "      <th>cp_0</th>\n",
       "      <th>cp_1</th>\n",
       "      <th>cp_2</th>\n",
       "      <th>cp_3</th>\n",
       "    </tr>\n",
       "  </thead>\n",
       "  <tbody>\n",
       "    <tr>\n",
       "      <th>0</th>\n",
       "      <td>63.0</td>\n",
       "      <td>1</td>\n",
       "      <td>145.0</td>\n",
       "      <td>233.0</td>\n",
       "      <td>1</td>\n",
       "      <td>150.0</td>\n",
       "      <td>0</td>\n",
       "      <td>2.3</td>\n",
       "      <td>0</td>\n",
       "      <td>1</td>\n",
       "      <td>...</td>\n",
       "      <td>1</td>\n",
       "      <td>0</td>\n",
       "      <td>0</td>\n",
       "      <td>1</td>\n",
       "      <td>0</td>\n",
       "      <td>0</td>\n",
       "      <td>0</td>\n",
       "      <td>0</td>\n",
       "      <td>0</td>\n",
       "      <td>1</td>\n",
       "    </tr>\n",
       "    <tr>\n",
       "      <th>1</th>\n",
       "      <td>37.0</td>\n",
       "      <td>1</td>\n",
       "      <td>130.0</td>\n",
       "      <td>250.0</td>\n",
       "      <td>0</td>\n",
       "      <td>187.0</td>\n",
       "      <td>0</td>\n",
       "      <td>3.5</td>\n",
       "      <td>0</td>\n",
       "      <td>0</td>\n",
       "      <td>...</td>\n",
       "      <td>1</td>\n",
       "      <td>0</td>\n",
       "      <td>0</td>\n",
       "      <td>0</td>\n",
       "      <td>1</td>\n",
       "      <td>0</td>\n",
       "      <td>0</td>\n",
       "      <td>0</td>\n",
       "      <td>1</td>\n",
       "      <td>0</td>\n",
       "    </tr>\n",
       "    <tr>\n",
       "      <th>2</th>\n",
       "      <td>41.0</td>\n",
       "      <td>0</td>\n",
       "      <td>130.0</td>\n",
       "      <td>204.0</td>\n",
       "      <td>0</td>\n",
       "      <td>172.0</td>\n",
       "      <td>0</td>\n",
       "      <td>1.4</td>\n",
       "      <td>0</td>\n",
       "      <td>0</td>\n",
       "      <td>...</td>\n",
       "      <td>0</td>\n",
       "      <td>0</td>\n",
       "      <td>1</td>\n",
       "      <td>1</td>\n",
       "      <td>0</td>\n",
       "      <td>0</td>\n",
       "      <td>0</td>\n",
       "      <td>1</td>\n",
       "      <td>0</td>\n",
       "      <td>0</td>\n",
       "    </tr>\n",
       "    <tr>\n",
       "      <th>3</th>\n",
       "      <td>56.0</td>\n",
       "      <td>1</td>\n",
       "      <td>120.0</td>\n",
       "      <td>236.0</td>\n",
       "      <td>0</td>\n",
       "      <td>178.0</td>\n",
       "      <td>0</td>\n",
       "      <td>0.8</td>\n",
       "      <td>0</td>\n",
       "      <td>0</td>\n",
       "      <td>...</td>\n",
       "      <td>0</td>\n",
       "      <td>0</td>\n",
       "      <td>1</td>\n",
       "      <td>0</td>\n",
       "      <td>1</td>\n",
       "      <td>0</td>\n",
       "      <td>0</td>\n",
       "      <td>1</td>\n",
       "      <td>0</td>\n",
       "      <td>0</td>\n",
       "    </tr>\n",
       "    <tr>\n",
       "      <th>4</th>\n",
       "      <td>57.0</td>\n",
       "      <td>0</td>\n",
       "      <td>120.0</td>\n",
       "      <td>354.0</td>\n",
       "      <td>0</td>\n",
       "      <td>163.0</td>\n",
       "      <td>1</td>\n",
       "      <td>0.6</td>\n",
       "      <td>0</td>\n",
       "      <td>0</td>\n",
       "      <td>...</td>\n",
       "      <td>0</td>\n",
       "      <td>0</td>\n",
       "      <td>1</td>\n",
       "      <td>0</td>\n",
       "      <td>1</td>\n",
       "      <td>0</td>\n",
       "      <td>1</td>\n",
       "      <td>0</td>\n",
       "      <td>0</td>\n",
       "      <td>0</td>\n",
       "    </tr>\n",
       "    <tr>\n",
       "      <th>...</th>\n",
       "      <td>...</td>\n",
       "      <td>...</td>\n",
       "      <td>...</td>\n",
       "      <td>...</td>\n",
       "      <td>...</td>\n",
       "      <td>...</td>\n",
       "      <td>...</td>\n",
       "      <td>...</td>\n",
       "      <td>...</td>\n",
       "      <td>...</td>\n",
       "      <td>...</td>\n",
       "      <td>...</td>\n",
       "      <td>...</td>\n",
       "      <td>...</td>\n",
       "      <td>...</td>\n",
       "      <td>...</td>\n",
       "      <td>...</td>\n",
       "      <td>...</td>\n",
       "      <td>...</td>\n",
       "      <td>...</td>\n",
       "      <td>...</td>\n",
       "    </tr>\n",
       "    <tr>\n",
       "      <th>298</th>\n",
       "      <td>57.0</td>\n",
       "      <td>0</td>\n",
       "      <td>140.0</td>\n",
       "      <td>241.0</td>\n",
       "      <td>0</td>\n",
       "      <td>123.0</td>\n",
       "      <td>1</td>\n",
       "      <td>0.2</td>\n",
       "      <td>0</td>\n",
       "      <td>0</td>\n",
       "      <td>...</td>\n",
       "      <td>0</td>\n",
       "      <td>1</td>\n",
       "      <td>0</td>\n",
       "      <td>0</td>\n",
       "      <td>1</td>\n",
       "      <td>0</td>\n",
       "      <td>1</td>\n",
       "      <td>0</td>\n",
       "      <td>0</td>\n",
       "      <td>0</td>\n",
       "    </tr>\n",
       "    <tr>\n",
       "      <th>299</th>\n",
       "      <td>45.0</td>\n",
       "      <td>1</td>\n",
       "      <td>110.0</td>\n",
       "      <td>264.0</td>\n",
       "      <td>0</td>\n",
       "      <td>132.0</td>\n",
       "      <td>0</td>\n",
       "      <td>1.2</td>\n",
       "      <td>0</td>\n",
       "      <td>0</td>\n",
       "      <td>...</td>\n",
       "      <td>0</td>\n",
       "      <td>1</td>\n",
       "      <td>0</td>\n",
       "      <td>0</td>\n",
       "      <td>1</td>\n",
       "      <td>0</td>\n",
       "      <td>0</td>\n",
       "      <td>0</td>\n",
       "      <td>0</td>\n",
       "      <td>1</td>\n",
       "    </tr>\n",
       "    <tr>\n",
       "      <th>300</th>\n",
       "      <td>68.0</td>\n",
       "      <td>1</td>\n",
       "      <td>144.0</td>\n",
       "      <td>193.0</td>\n",
       "      <td>1</td>\n",
       "      <td>141.0</td>\n",
       "      <td>0</td>\n",
       "      <td>3.4</td>\n",
       "      <td>0</td>\n",
       "      <td>0</td>\n",
       "      <td>...</td>\n",
       "      <td>0</td>\n",
       "      <td>1</td>\n",
       "      <td>0</td>\n",
       "      <td>0</td>\n",
       "      <td>1</td>\n",
       "      <td>0</td>\n",
       "      <td>1</td>\n",
       "      <td>0</td>\n",
       "      <td>0</td>\n",
       "      <td>0</td>\n",
       "    </tr>\n",
       "    <tr>\n",
       "      <th>301</th>\n",
       "      <td>57.0</td>\n",
       "      <td>1</td>\n",
       "      <td>130.0</td>\n",
       "      <td>131.0</td>\n",
       "      <td>0</td>\n",
       "      <td>115.0</td>\n",
       "      <td>1</td>\n",
       "      <td>1.2</td>\n",
       "      <td>0</td>\n",
       "      <td>0</td>\n",
       "      <td>...</td>\n",
       "      <td>0</td>\n",
       "      <td>1</td>\n",
       "      <td>0</td>\n",
       "      <td>0</td>\n",
       "      <td>1</td>\n",
       "      <td>0</td>\n",
       "      <td>1</td>\n",
       "      <td>0</td>\n",
       "      <td>0</td>\n",
       "      <td>0</td>\n",
       "    </tr>\n",
       "    <tr>\n",
       "      <th>302</th>\n",
       "      <td>57.0</td>\n",
       "      <td>0</td>\n",
       "      <td>130.0</td>\n",
       "      <td>236.0</td>\n",
       "      <td>0</td>\n",
       "      <td>174.0</td>\n",
       "      <td>0</td>\n",
       "      <td>0.0</td>\n",
       "      <td>0</td>\n",
       "      <td>0</td>\n",
       "      <td>...</td>\n",
       "      <td>0</td>\n",
       "      <td>1</td>\n",
       "      <td>0</td>\n",
       "      <td>1</td>\n",
       "      <td>0</td>\n",
       "      <td>0</td>\n",
       "      <td>0</td>\n",
       "      <td>1</td>\n",
       "      <td>0</td>\n",
       "      <td>0</td>\n",
       "    </tr>\n",
       "  </tbody>\n",
       "</table>\n",
       "<p>303 rows × 27 columns</p>\n",
       "</div>"
      ],
      "text/plain": [
       "      age  sex  trestbps   chol  fbs  thalach  exang  oldpeak  thal_0  thal_1  \\\n",
       "0    63.0    1     145.0  233.0    1    150.0      0      2.3       0       1   \n",
       "1    37.0    1     130.0  250.0    0    187.0      0      3.5       0       0   \n",
       "2    41.0    0     130.0  204.0    0    172.0      0      1.4       0       0   \n",
       "3    56.0    1     120.0  236.0    0    178.0      0      0.8       0       0   \n",
       "4    57.0    0     120.0  354.0    0    163.0      1      0.6       0       0   \n",
       "..    ...  ...       ...    ...  ...      ...    ...      ...     ...     ...   \n",
       "298  57.0    0     140.0  241.0    0    123.0      1      0.2       0       0   \n",
       "299  45.0    1     110.0  264.0    0    132.0      0      1.2       0       0   \n",
       "300  68.0    1     144.0  193.0    1    141.0      0      3.4       0       0   \n",
       "301  57.0    1     130.0  131.0    0    115.0      1      1.2       0       0   \n",
       "302  57.0    0     130.0  236.0    0    174.0      0      0.0       0       0   \n",
       "\n",
       "     ...  slope_0  slope_1  slope_2  restecg_0  restecg_1  restecg_2  cp_0  \\\n",
       "0    ...        1        0        0          1          0          0     0   \n",
       "1    ...        1        0        0          0          1          0     0   \n",
       "2    ...        0        0        1          1          0          0     0   \n",
       "3    ...        0        0        1          0          1          0     0   \n",
       "4    ...        0        0        1          0          1          0     1   \n",
       "..   ...      ...      ...      ...        ...        ...        ...   ...   \n",
       "298  ...        0        1        0          0          1          0     1   \n",
       "299  ...        0        1        0          0          1          0     0   \n",
       "300  ...        0        1        0          0          1          0     1   \n",
       "301  ...        0        1        0          0          1          0     1   \n",
       "302  ...        0        1        0          1          0          0     0   \n",
       "\n",
       "     cp_1  cp_2  cp_3  \n",
       "0       0     0     1  \n",
       "1       0     1     0  \n",
       "2       1     0     0  \n",
       "3       1     0     0  \n",
       "4       0     0     0  \n",
       "..    ...   ...   ...  \n",
       "298     0     0     0  \n",
       "299     0     0     1  \n",
       "300     0     0     0  \n",
       "301     0     0     0  \n",
       "302     1     0     0  \n",
       "\n",
       "[303 rows x 27 columns]"
      ]
     },
     "execution_count": 1574,
     "metadata": {},
     "output_type": "execute_result"
    }
   ],
   "source": [
    "data_dt_encoded= pd.get_dummies(data_dt,columns=['thal','ca','slope','restecg','cp'])\n",
    "data_dt_encoded"
   ]
  },
  {
   "cell_type": "code",
   "execution_count": 1575,
   "id": "917590dc",
   "metadata": {},
   "outputs": [
    {
     "name": "stdout",
     "output_type": "stream",
     "text": [
      "<class 'pandas.core.frame.DataFrame'>\n",
      "RangeIndex: 303 entries, 0 to 302\n",
      "Data columns (total 27 columns):\n",
      " #   Column     Non-Null Count  Dtype  \n",
      "---  ------     --------------  -----  \n",
      " 0   age        303 non-null    float64\n",
      " 1   sex        303 non-null    int64  \n",
      " 2   trestbps   303 non-null    float64\n",
      " 3   chol       303 non-null    float64\n",
      " 4   fbs        303 non-null    int64  \n",
      " 5   thalach    303 non-null    float64\n",
      " 6   exang      303 non-null    int64  \n",
      " 7   oldpeak    303 non-null    float64\n",
      " 8   thal_0     303 non-null    uint8  \n",
      " 9   thal_1     303 non-null    uint8  \n",
      " 10  thal_2     303 non-null    uint8  \n",
      " 11  thal_3     303 non-null    uint8  \n",
      " 12  ca_0       303 non-null    uint8  \n",
      " 13  ca_1       303 non-null    uint8  \n",
      " 14  ca_2       303 non-null    uint8  \n",
      " 15  ca_3       303 non-null    uint8  \n",
      " 16  ca_4       303 non-null    uint8  \n",
      " 17  slope_0    303 non-null    uint8  \n",
      " 18  slope_1    303 non-null    uint8  \n",
      " 19  slope_2    303 non-null    uint8  \n",
      " 20  restecg_0  303 non-null    uint8  \n",
      " 21  restecg_1  303 non-null    uint8  \n",
      " 22  restecg_2  303 non-null    uint8  \n",
      " 23  cp_0       303 non-null    uint8  \n",
      " 24  cp_1       303 non-null    uint8  \n",
      " 25  cp_2       303 non-null    uint8  \n",
      " 26  cp_3       303 non-null    uint8  \n",
      "dtypes: float64(5), int64(3), uint8(19)\n",
      "memory usage: 24.7 KB\n"
     ]
    }
   ],
   "source": [
    "data_dt_encoded.info()"
   ]
  },
  {
   "cell_type": "markdown",
   "id": "5fa6bb05",
   "metadata": {},
   "source": [
    "#### splitting our data into training and testing set"
   ]
  },
  {
   "cell_type": "code",
   "execution_count": 1576,
   "id": "fd8dc738",
   "metadata": {},
   "outputs": [],
   "source": [
    "x_train,x_test,y_train,y_test =train_test_split(data_dt_encoded,target,test_size = 0.25,random_state = 56)"
   ]
  },
  {
   "cell_type": "code",
   "execution_count": 1577,
   "id": "0f68dd1d",
   "metadata": {},
   "outputs": [],
   "source": [
    "decision_tree = DecisionTreeClassifier(random_state = 91)\n",
    "decision_tree = decison_tree.fit(x_train,y_train)"
   ]
  },
  {
   "cell_type": "markdown",
   "id": "cee0620c",
   "metadata": {},
   "source": [
    "#### plotting the trained decision tree"
   ]
  },
  {
   "cell_type": "code",
   "execution_count": 1578,
   "id": "cc817849",
   "metadata": {
    "scrolled": false
   },
   "outputs": [
    {
     "data": {
      "text/plain": [
       "[Text(687.3, 831.0600000000001, 'cp_0 <= 0.5\\ngini = 0.494\\nsamples = 227\\nvalue = [101, 126]\\nclass = +'),\n",
       " Text(386.28, 743.58, 'oldpeak <= 1.95\\ngini = 0.352\\nsamples = 127\\nvalue = [29, 98]\\nclass = +'),\n",
       " Text(285.36, 656.1, 'age <= 56.5\\ngini = 0.276\\nsamples = 115\\nvalue = [19, 96]\\nclass = +'),\n",
       " Text(167.04, 568.6200000000001, 'trestbps <= 182.0\\ngini = 0.147\\nsamples = 75\\nvalue = [6, 69]\\nclass = +'),\n",
       " Text(139.2, 481.14000000000004, 'thalach <= 142.5\\ngini = 0.126\\nsamples = 74\\nvalue = [5, 69]\\nclass = +'),\n",
       " Text(55.68, 393.66, 'oldpeak <= 0.4\\ngini = 0.444\\nsamples = 9\\nvalue = [3, 6]\\nclass = +'),\n",
       " Text(27.84, 306.18000000000006, 'gini = 0.0\\nsamples = 4\\nvalue = [0, 4]\\nclass = +'),\n",
       " Text(83.52, 306.18000000000006, 'thalach <= 125.5\\ngini = 0.48\\nsamples = 5\\nvalue = [3, 2]\\nclass = -'),\n",
       " Text(55.68, 218.70000000000005, 'gini = 0.0\\nsamples = 2\\nvalue = [0, 2]\\nclass = +'),\n",
       " Text(111.36, 218.70000000000005, 'gini = 0.0\\nsamples = 3\\nvalue = [3, 0]\\nclass = -'),\n",
       " Text(222.72, 393.66, 'trestbps <= 111.0\\ngini = 0.06\\nsamples = 65\\nvalue = [2, 63]\\nclass = +'),\n",
       " Text(194.88, 306.18000000000006, 'slope_0 <= 0.5\\ngini = 0.26\\nsamples = 13\\nvalue = [2, 11]\\nclass = +'),\n",
       " Text(167.04, 218.70000000000005, 'thalach <= 152.5\\ngini = 0.153\\nsamples = 12\\nvalue = [1, 11]\\nclass = +'),\n",
       " Text(139.2, 131.22000000000003, 'oldpeak <= 0.6\\ngini = 0.5\\nsamples = 2\\nvalue = [1, 1]\\nclass = -'),\n",
       " Text(111.36, 43.74000000000001, 'gini = 0.0\\nsamples = 1\\nvalue = [1, 0]\\nclass = -'),\n",
       " Text(167.04, 43.74000000000001, 'gini = 0.0\\nsamples = 1\\nvalue = [0, 1]\\nclass = +'),\n",
       " Text(194.88, 131.22000000000003, 'gini = 0.0\\nsamples = 10\\nvalue = [0, 10]\\nclass = +'),\n",
       " Text(222.72, 218.70000000000005, 'gini = 0.0\\nsamples = 1\\nvalue = [1, 0]\\nclass = -'),\n",
       " Text(250.56, 306.18000000000006, 'gini = 0.0\\nsamples = 52\\nvalue = [0, 52]\\nclass = +'),\n",
       " Text(194.88, 481.14000000000004, 'gini = 0.0\\nsamples = 1\\nvalue = [1, 0]\\nclass = -'),\n",
       " Text(403.68, 568.6200000000001, 'sex <= 0.5\\ngini = 0.439\\nsamples = 40\\nvalue = [13, 27]\\nclass = +'),\n",
       " Text(306.24, 481.14000000000004, 'age <= 57.5\\ngini = 0.18\\nsamples = 20\\nvalue = [2, 18]\\nclass = +'),\n",
       " Text(278.4, 393.66, 'gini = 0.0\\nsamples = 1\\nvalue = [1, 0]\\nclass = -'),\n",
       " Text(334.08, 393.66, 'age <= 59.0\\ngini = 0.1\\nsamples = 19\\nvalue = [1, 18]\\nclass = +'),\n",
       " Text(306.24, 306.18000000000006, 'ca_2 <= 0.5\\ngini = 0.444\\nsamples = 3\\nvalue = [1, 2]\\nclass = +'),\n",
       " Text(278.4, 218.70000000000005, 'gini = 0.0\\nsamples = 2\\nvalue = [0, 2]\\nclass = +'),\n",
       " Text(334.08, 218.70000000000005, 'gini = 0.0\\nsamples = 1\\nvalue = [1, 0]\\nclass = -'),\n",
       " Text(361.92, 306.18000000000006, 'gini = 0.0\\nsamples = 16\\nvalue = [0, 16]\\nclass = +'),\n",
       " Text(501.12, 481.14000000000004, 'chol <= 243.0\\ngini = 0.495\\nsamples = 20\\nvalue = [11, 9]\\nclass = -'),\n",
       " Text(445.44, 393.66, 'ca_0 <= 0.5\\ngini = 0.397\\nsamples = 11\\nvalue = [3, 8]\\nclass = +'),\n",
       " Text(417.6, 306.18000000000006, 'age <= 60.5\\ngini = 0.5\\nsamples = 6\\nvalue = [3, 3]\\nclass = -'),\n",
       " Text(389.76, 218.70000000000005, 'chol <= 165.0\\ngini = 0.375\\nsamples = 4\\nvalue = [3, 1]\\nclass = -'),\n",
       " Text(361.92, 131.22000000000003, 'gini = 0.0\\nsamples = 1\\nvalue = [0, 1]\\nclass = +'),\n",
       " Text(417.6, 131.22000000000003, 'gini = 0.0\\nsamples = 3\\nvalue = [3, 0]\\nclass = -'),\n",
       " Text(445.44, 218.70000000000005, 'gini = 0.0\\nsamples = 2\\nvalue = [0, 2]\\nclass = +'),\n",
       " Text(473.28, 306.18000000000006, 'gini = 0.0\\nsamples = 5\\nvalue = [0, 5]\\nclass = +'),\n",
       " Text(556.8, 393.66, 'trestbps <= 121.0\\ngini = 0.198\\nsamples = 9\\nvalue = [8, 1]\\nclass = -'),\n",
       " Text(528.96, 306.18000000000006, 'gini = 0.0\\nsamples = 1\\nvalue = [0, 1]\\nclass = +'),\n",
       " Text(584.64, 306.18000000000006, 'gini = 0.0\\nsamples = 8\\nvalue = [8, 0]\\nclass = -'),\n",
       " Text(487.2, 656.1, 'slope_0 <= 0.5\\ngini = 0.278\\nsamples = 12\\nvalue = [10, 2]\\nclass = -'),\n",
       " Text(459.36, 568.6200000000001, 'gini = 0.0\\nsamples = 10\\nvalue = [10, 0]\\nclass = -'),\n",
       " Text(515.04, 568.6200000000001, 'gini = 0.0\\nsamples = 2\\nvalue = [0, 2]\\nclass = +'),\n",
       " Text(988.32, 743.58, 'exang <= 0.5\\ngini = 0.403\\nsamples = 100\\nvalue = [72, 28]\\nclass = -'),\n",
       " Text(807.36, 656.1, 'thal_3 <= 0.5\\ngini = 0.5\\nsamples = 47\\nvalue = [23, 24]\\nclass = +'),\n",
       " Text(696.0, 568.6200000000001, 'thalach <= 115.5\\ngini = 0.4\\nsamples = 29\\nvalue = [8, 21]\\nclass = +'),\n",
       " Text(668.16, 481.14000000000004, 'gini = 0.0\\nsamples = 4\\nvalue = [4, 0]\\nclass = -'),\n",
       " Text(723.84, 481.14000000000004, 'ca_0 <= 0.5\\ngini = 0.269\\nsamples = 25\\nvalue = [4, 21]\\nclass = +'),\n",
       " Text(668.16, 393.66, 'thalach <= 150.0\\ngini = 0.5\\nsamples = 6\\nvalue = [3, 3]\\nclass = -'),\n",
       " Text(640.32, 306.18000000000006, 'gini = 0.0\\nsamples = 2\\nvalue = [0, 2]\\nclass = +'),\n",
       " Text(696.0, 306.18000000000006, 'chol <= 285.5\\ngini = 0.375\\nsamples = 4\\nvalue = [3, 1]\\nclass = -'),\n",
       " Text(668.16, 218.70000000000005, 'gini = 0.0\\nsamples = 3\\nvalue = [3, 0]\\nclass = -'),\n",
       " Text(723.84, 218.70000000000005, 'gini = 0.0\\nsamples = 1\\nvalue = [0, 1]\\nclass = +'),\n",
       " Text(779.52, 393.66, 'chol <= 316.5\\ngini = 0.1\\nsamples = 19\\nvalue = [1, 18]\\nclass = +'),\n",
       " Text(751.68, 306.18000000000006, 'gini = 0.0\\nsamples = 17\\nvalue = [0, 17]\\nclass = +'),\n",
       " Text(807.36, 306.18000000000006, 'trestbps <= 135.0\\ngini = 0.5\\nsamples = 2\\nvalue = [1, 1]\\nclass = -'),\n",
       " Text(779.52, 218.70000000000005, 'gini = 0.0\\nsamples = 1\\nvalue = [1, 0]\\nclass = -'),\n",
       " Text(835.2, 218.70000000000005, 'gini = 0.0\\nsamples = 1\\nvalue = [0, 1]\\nclass = +'),\n",
       " Text(918.72, 568.6200000000001, 'trestbps <= 114.0\\ngini = 0.278\\nsamples = 18\\nvalue = [15, 3]\\nclass = -'),\n",
       " Text(863.04, 481.14000000000004, 'age <= 55.0\\ngini = 0.444\\nsamples = 3\\nvalue = [1, 2]\\nclass = +'),\n",
       " Text(835.2, 393.66, 'gini = 0.0\\nsamples = 2\\nvalue = [0, 2]\\nclass = +'),\n",
       " Text(890.88, 393.66, 'gini = 0.0\\nsamples = 1\\nvalue = [1, 0]\\nclass = -'),\n",
       " Text(974.4, 481.14000000000004, 'age <= 64.0\\ngini = 0.124\\nsamples = 15\\nvalue = [14, 1]\\nclass = -'),\n",
       " Text(946.56, 393.66, 'gini = 0.0\\nsamples = 14\\nvalue = [14, 0]\\nclass = -'),\n",
       " Text(1002.24, 393.66, 'gini = 0.0\\nsamples = 1\\nvalue = [0, 1]\\nclass = +'),\n",
       " Text(1169.28, 656.1, 'oldpeak <= 0.75\\ngini = 0.14\\nsamples = 53\\nvalue = [49, 4]\\nclass = -'),\n",
       " Text(1141.44, 568.6200000000001, 'oldpeak <= 0.15\\ngini = 0.426\\nsamples = 13\\nvalue = [9, 4]\\nclass = -'),\n",
       " Text(1085.76, 481.14000000000004, 'thalach <= 121.5\\ngini = 0.198\\nsamples = 9\\nvalue = [8, 1]\\nclass = -'),\n",
       " Text(1057.92, 393.66, 'ca_0 <= 0.5\\ngini = 0.5\\nsamples = 2\\nvalue = [1, 1]\\nclass = -'),\n",
       " Text(1030.08, 306.18000000000006, 'gini = 0.0\\nsamples = 1\\nvalue = [1, 0]\\nclass = -'),\n",
       " Text(1085.76, 306.18000000000006, 'gini = 0.0\\nsamples = 1\\nvalue = [0, 1]\\nclass = +'),\n",
       " Text(1113.6, 393.66, 'gini = 0.0\\nsamples = 7\\nvalue = [7, 0]\\nclass = -'),\n",
       " Text(1197.12, 481.14000000000004, 'trestbps <= 144.0\\ngini = 0.375\\nsamples = 4\\nvalue = [1, 3]\\nclass = +'),\n",
       " Text(1169.28, 393.66, 'gini = 0.0\\nsamples = 3\\nvalue = [0, 3]\\nclass = +'),\n",
       " Text(1224.96, 393.66, 'gini = 0.0\\nsamples = 1\\nvalue = [1, 0]\\nclass = -'),\n",
       " Text(1197.12, 568.6200000000001, 'gini = 0.0\\nsamples = 40\\nvalue = [40, 0]\\nclass = -')]"
      ]
     },
     "execution_count": 1578,
     "metadata": {},
     "output_type": "execute_result"
    },
    {
     "data": {
      "image/png": "[encoded data removed]",
      "text/plain": [
       "<Figure size 1440x1080 with 1 Axes>"
      ]
     },
     "metadata": {},
     "output_type": "display_data"
    }
   ],
   "source": [
    "plt.figure(figsize = (20,15))\n",
    "plot_tree(decision_tree,filled = True,rounded = True,class_names=[\"-\",\"+\"],feature_names = data_dt_encoded.columns)"
   ]
  },
  {
   "cell_type": "code",
   "execution_count": 1579,
   "id": "933ffd3b",
   "metadata": {
    "scrolled": false
   },
   "outputs": [
    {
     "data": {
      "text/plain": [
       "<sklearn.metrics._plot.confusion_matrix.ConfusionMatrixDisplay at 0x22f651e4700>"
      ]
     },
     "execution_count": 1579,
     "metadata": {},
     "output_type": "execute_result"
    },
    {
     "data": {
      "image/png": "[encoded data removed]",
      "text/plain": [
       "<Figure size 432x288 with 2 Axes>"
      ]
     },
     "metadata": {},
     "output_type": "display_data"
    }
   ],
   "source": [
    "plot_confusion_matrix(decision_tree,x_test,y_test,display_labels=[\"target No\",\"target Yes\"])"
   ]
  },
  {
   "cell_type": "code",
   "execution_count": 1580,
   "id": "0111592c",
   "metadata": {
    "scrolled": false
   },
   "outputs": [
    {
     "name": "stdout",
     "output_type": "stream",
     "text": [
      "              precision    recall  f1-score   support\n",
      "\n",
      "           0       0.66      0.62      0.64        37\n",
      "           1       0.66      0.69      0.68        39\n",
      "\n",
      "    accuracy                           0.66        76\n",
      "   macro avg       0.66      0.66      0.66        76\n",
      "weighted avg       0.66      0.66      0.66        76\n",
      "\n"
     ]
    }
   ],
   "source": [
    "pre = decision_tree.predict(x_test)\n",
    "scr = metrics.classification_report(y_test.to_numpy(),pre)\n",
    "print(scr)"
   ]
  },
  {
   "cell_type": "markdown",
   "id": "5d460167",
   "metadata": {},
   "source": [
    "<b>the accuracy of the decision tree on the testing set is relatively small <\\b>"
   ]
  },
  {
   "cell_type": "code",
   "execution_count": 1581,
   "id": "5d49a812",
   "metadata": {
    "scrolled": true
   },
   "outputs": [
    {
     "name": "stdout",
     "output_type": "stream",
     "text": [
      "              precision    recall  f1-score   support\n",
      "\n",
      "           0       1.00      1.00      1.00       101\n",
      "           1       1.00      1.00      1.00       126\n",
      "\n",
      "    accuracy                           1.00       227\n",
      "   macro avg       1.00      1.00      1.00       227\n",
      "weighted avg       1.00      1.00      1.00       227\n",
      "\n"
     ]
    }
   ],
   "source": [
    "pre = decision_tree.predict(x_train)\n",
    "scr = metrics.classification_report(y_train.to_numpy(),pre)\n",
    "print(scr)"
   ]
  },
  {
   "cell_type": "markdown",
   "id": "ae7be0aa",
   "metadata": {},
   "source": [
    "<b>the accuracy of the decision tree on the training set is perfect(=1) </b>"
   ]
  },
  {
   "cell_type": "markdown",
   "id": "745076c8",
   "metadata": {},
   "source": [
    "<b>When this happens,we say that the decision tree has <font color = \"red\">overfit</font> the training data(in a sense that our model is now memorizing\n",
    "   rather then predicting wich is not what we built it for</b>"
   ]
  },
  {
   "cell_type": "markdown",
   "id": "2560c1c3",
   "metadata": {},
   "source": [
    "<b>Some ways for dealing with this is to fix a maximum depth that the decision tree cannot exceed or to set minimum \n",
    "sample number:the decision tree algorithm will stop filtering samples below that number in a given node</b>"
   ]
  },
  {
   "cell_type": "markdown",
   "id": "adfae9c1",
   "metadata": {},
   "source": [
    "<b>Here,we are pruning our tree with <font color='red'>cost complexity pruning</font>.Prunning our tree with this method is all about finding the right value of the pruning parameter <i>alpha </i>(intuitively,it controls how much pruning happens). </b>"
   ]
  },
  {
   "cell_type": "code",
   "execution_count": 1582,
   "id": "dd9e739b",
   "metadata": {
    "scrolled": false
   },
   "outputs": [
    {
     "name": "stdout",
     "output_type": "stream",
     "text": [
      "{'ccp_alphas': array([0.        , 0.00391581, 0.00403818, 0.00417343, 0.00417343,\n",
      "       0.0045013 , 0.00587372, 0.00640769, 0.00660793, 0.00660793,\n",
      "       0.00751217, 0.00783162, 0.00788885, 0.00804081, 0.00807636,\n",
      "       0.00907147, 0.01468429, 0.01606509, 0.02143703, 0.03041037,\n",
      "       0.04156129, 0.04273495, 0.11915173]), 'impurities': array([0.        , 0.00783162, 0.01590798, 0.02425484, 0.0326017 ,\n",
      "       0.04160429, 0.04747801, 0.06670108, 0.07991693, 0.08652486,\n",
      "       0.09403704, 0.10186866, 0.13342406, 0.14146487, 0.15761759,\n",
      "       0.17576053, 0.19044482, 0.23864008, 0.26007712, 0.29048749,\n",
      "       0.33204878, 0.37478372, 0.49393545])}\n",
      "[0.         0.00391581 0.00403818 0.00417343 0.00417343 0.0045013\n",
      " 0.00587372 0.00640769 0.00660793 0.00660793 0.00751217 0.00783162\n",
      " 0.00788885 0.00804081 0.00807636 0.00907147 0.01468429 0.01606509\n",
      " 0.02143703 0.03041037 0.04156129 0.04273495]\n"
     ]
    }
   ],
   "source": [
    "#determine the values of alpha\n",
    "path = decision_tree.cost_complexity_pruning_path(x_train,y_train)\n",
    "print(path)\n",
    "#extracting the values of alpha (in an increasing order)\n",
    "ccp_alphas = path.ccp_alphas\n",
    "#omitting the maximum value of alpha because it would prune all leaves and we will end up with a only a root instead of a tree\n",
    "ccp_alphas = ccp_alphas[:-1]\n",
    "print(ccp_alphas)"
   ]
  },
  {
   "cell_type": "markdown",
   "id": "800bc472",
   "metadata": {},
   "source": [
    "<b>creating an array that we will put decision trees into</b>"
   ]
  },
  {
   "cell_type": "code",
   "execution_count": 1583,
   "id": "62c3c089",
   "metadata": {},
   "outputs": [],
   "source": [
    "decision_tree_array=[]"
   ]
  },
  {
   "cell_type": "markdown",
   "id": "8b4eb2cf",
   "metadata": {},
   "source": [
    "<b>creating a decision tree per each value of alpha and storing it in the array</b>"
   ]
  },
  {
   "cell_type": "code",
   "execution_count": 1584,
   "id": "9d7b5aa7",
   "metadata": {},
   "outputs": [],
   "source": [
    "for ccp_alpha in ccp_alphas:\n",
    "    decision_tree=DecisionTreeClassifier(random_state = 0,ccp_alpha = ccp_alpha)\n",
    "    decision_tree.fit(x_train,y_train)\n",
    "    decision_tree_array.append(decision_tree)"
   ]
  },
  {
   "cell_type": "code",
   "execution_count": 1585,
   "id": "44f25d3d",
   "metadata": {
    "scrolled": true
   },
   "outputs": [
    {
     "name": "stdout",
     "output_type": "stream",
     "text": [
      "[DecisionTreeClassifier(random_state=0), DecisionTreeClassifier(ccp_alpha=0.003915810083210964, random_state=0), DecisionTreeClassifier(ccp_alpha=0.004038179148311307, random_state=0), DecisionTreeClassifier(ccp_alpha=0.00417342916763274, random_state=0), DecisionTreeClassifier(ccp_alpha=0.00417342916763274, random_state=0), DecisionTreeClassifier(ccp_alpha=0.004501298994691058, random_state=0), DecisionTreeClassifier(ccp_alpha=0.005873715124816446, random_state=0), DecisionTreeClassifier(ccp_alpha=0.006407689227072487, random_state=0), DecisionTreeClassifier(ccp_alpha=0.006607929515418502, random_state=0), DecisionTreeClassifier(ccp_alpha=0.006607929515418502, random_state=0), DecisionTreeClassifier(ccp_alpha=0.007512172501738929, random_state=0), DecisionTreeClassifier(ccp_alpha=0.007831620166421928, random_state=0), DecisionTreeClassifier(ccp_alpha=0.00788885123686886, random_state=0), DecisionTreeClassifier(ccp_alpha=0.00804080686297241, random_state=0), DecisionTreeClassifier(ccp_alpha=0.008076358296622614, random_state=0), DecisionTreeClassifier(ccp_alpha=0.009071472769419742, random_state=0), DecisionTreeClassifier(ccp_alpha=0.014684287812041117, random_state=0), DecisionTreeClassifier(ccp_alpha=0.01606508808960448, random_state=0), DecisionTreeClassifier(ccp_alpha=0.021437034786571472, random_state=0), DecisionTreeClassifier(ccp_alpha=0.030410373592845527, random_state=0), DecisionTreeClassifier(ccp_alpha=0.041561285827215855, random_state=0), DecisionTreeClassifier(ccp_alpha=0.0427349473482066, random_state=0)]\n"
     ]
    }
   ],
   "source": [
    "print(decision_tree_array)"
   ]
  },
  {
   "cell_type": "code",
   "execution_count": 1586,
   "id": "a50fb2b5",
   "metadata": {},
   "outputs": [],
   "source": [
    "#plt.style.use(\"fivethirtyeight\")"
   ]
  },
  {
   "cell_type": "markdown",
   "id": "b0beea34",
   "metadata": {},
   "source": [
    "<b>Each decision tree of the array has a unique alpha value.<br></b>\n",
    "<b>We are plotting for each alpha value the accuracy of the decison tree that corresponds to that value on each of the training and testing set.</b>"
   ]
  },
  {
   "cell_type": "code",
   "execution_count": 1587,
   "id": "167a1dfd",
   "metadata": {
    "scrolled": false
   },
   "outputs": [
    {
     "data": {
      "image/png": "[encoded data removed]",
      "text/plain": [
       "<Figure size 1080x720 with 1 Axes>"
      ]
     },
     "metadata": {},
     "output_type": "display_data"
    }
   ],
   "source": [
    "train_scores = [decision_tree.score(x_train,y_train) for decision_tree in decision_tree_array]\n",
    "test_scores = [decision_tree.score(x_test,y_test) for decision_tree in decision_tree_array]\n",
    "\n",
    "fig,ax = plt.subplots(nrows = 1,ncols = 1,figsize=(15,10))\n",
    "\n",
    "ax.set_xlabel(\"alpha\")\n",
    "ax.set_ylabel(\"accuracy\")\n",
    "ax.set_title(\"accuracy VS alpha for training and testing sets\")\n",
    "ax.plot(ccp_alphas,train_scores,label =\"train\",marker = 'o')\n",
    "ax.plot(ccp_alphas,test_scores,label =\"test\",marker = 'o')\n",
    "ax.legend(fontsize = 20)\n",
    "plt.show()"
   ]
  },
  {
   "cell_type": "markdown",
   "id": "ff2d1bd9",
   "metadata": {},
   "source": [
    "<b>Alpha is optimal in predicting the test dataset when it's approximately egal to 0.043</b>"
   ]
  },
  {
   "cell_type": "markdown",
   "id": "d19bc563",
   "metadata": {},
   "source": [
    "<b>We also remark that,when the accuracy of the decision tree on the training set is almost 1,the accuracy on the testing set is very low.</b>"
   ]
  },
  {
   "cell_type": "markdown",
   "id": "5eacf133",
   "metadata": {},
   "source": [
    "<b>We know that the value of alpha above is best to predict the particulary testing set but we don't know if it will be the best to predict other test sets.</b>"
   ]
  },
  {
   "cell_type": "code",
   "execution_count": 1588,
   "id": "b29bcd0f",
   "metadata": {
    "scrolled": false
   },
   "outputs": [
    {
     "name": "stdout",
     "output_type": "stream",
     "text": [
      "   tree  accuracy\n",
      "0     0  0.565217\n",
      "1     1  0.695652\n",
      "2     2  0.608696\n",
      "3     3  0.695652\n",
      "4     4  0.565217\n",
      "5     5  0.739130\n",
      "6     6  0.652174\n",
      "7     7  0.636364\n",
      "8     8  0.772727\n",
      "9     9  0.590909\n"
     ]
    },
    {
     "data": {
      "text/plain": [
       "<AxesSubplot:xlabel='tree'>"
      ]
     },
     "execution_count": 1588,
     "metadata": {},
     "output_type": "execute_result"
    },
    {
     "data": {
      "image/png": "[encoded data removed]",
      "text/plain": [
       "<Figure size 432x288 with 1 Axes>"
      ]
     },
     "metadata": {},
     "output_type": "display_data"
    }
   ],
   "source": [
    "#creating a decison tree with the value of alpha found above\n",
    "decision_tree=DecisionTreeClassifier(random_state=42,ccp_alpha=0.043)\n",
    "\n",
    "'''here,we are doing a 10-cross validation:for each fold,\n",
    "we are testing how accurate is the decision tree (with that particular alpha\n",
    "value).\n",
    "'''\n",
    "scores = cross_val_score(decision_tree,x_train,y_train,cv = 10)\n",
    "#each different training and testing set leads to a different tree\n",
    "df = pd.DataFrame(data ={'tree':range(10),'accuracy':scores})\n",
    "print(df)\n",
    "df.plot(x = 'tree',y = 'accuracy',marker = 'o',linestyle='--')\n"
   ]
  },
  {
   "cell_type": "markdown",
   "id": "09086f54",
   "metadata": {},
   "source": [
    "<b>We conclude that using the same alpha value on different training and testing sets leads to a different accuracy.</b>"
   ]
  },
  {
   "cell_type": "markdown",
   "id": "685324a0",
   "metadata": {},
   "source": [
    "<b>Using cross validation,we measure how well each alpha value do on average(in a sense we measure the mean accuracy)</b>"
   ]
  },
  {
   "cell_type": "code",
   "execution_count": 1589,
   "id": "85316811",
   "metadata": {
    "scrolled": false
   },
   "outputs": [
    {
     "name": "stdout",
     "output_type": "stream",
     "text": [
      "       alpha  mean_accuracy       std\n",
      "0   0.000000       0.730830  0.081258\n",
      "1   0.003916       0.735375  0.074275\n",
      "2   0.004038       0.735375  0.074275\n",
      "3   0.004173       0.735375  0.074275\n",
      "4   0.004173       0.735375  0.074275\n",
      "5   0.004501       0.739723  0.070451\n",
      "6   0.005874       0.739723  0.070451\n",
      "7   0.006408       0.739723  0.070451\n",
      "8   0.006608       0.731028  0.067231\n",
      "9   0.006608       0.731028  0.067231\n",
      "10  0.007512       0.735573  0.078639\n",
      "11  0.007832       0.726877  0.067338\n",
      "12  0.007889       0.726877  0.067338\n",
      "13  0.008041       0.731225  0.060637\n",
      "14  0.008076       0.735573  0.059478\n",
      "15  0.009071       0.748617  0.071844\n",
      "16  0.014684       0.757510  0.090892\n",
      "17  0.016065       0.775099  0.077529\n",
      "18  0.021437       0.766403  0.076876\n",
      "19  0.030410       0.753162  0.079517\n",
      "20  0.041561       0.660870  0.070652\n",
      "21  0.042735       0.652174  0.068478\n"
     ]
    },
    {
     "data": {
      "text/plain": [
       "<AxesSubplot:xlabel='alpha'>"
      ]
     },
     "execution_count": 1589,
     "metadata": {},
     "output_type": "execute_result"
    },
    {
     "data": {
      "image/png": "[encoded data removed]",
      "text/plain": [
       "<Figure size 432x288 with 1 Axes>"
      ]
     },
     "metadata": {},
     "output_type": "display_data"
    }
   ],
   "source": [
    "#here we are creating an array to store the optimal value of alpha for each fold during cross validation\n",
    "alpha_values=[]\n",
    "\n",
    "for ccp_alpha in ccp_alphas:\n",
    "    decision_tree = DecisionTreeClassifier(random_state = 0,ccp_alpha =ccp_alpha)\n",
    "    scores = cross_val_score(decision_tree,x_train,y_train,cv = 10)\n",
    "    #for each value of alpha we are st\n",
    "    alpha_values.append([ccp_alpha,np.mean(scores),np.std(scores)])\n",
    "    \n",
    "alpha_results = pd.DataFrame(alpha_values,columns=['alpha','mean_accuracy','std'])\n",
    "print(alpha_results)\n",
    "alpha_results.plot(x ='alpha',y='mean_accuracy',yerr ='std',marker ='o',linestyle='--')"
   ]
  },
  {
   "cell_type": "markdown",
   "id": "872de543",
   "metadata": {},
   "source": [
    "<b>Now, we extract the optimal value of alpha</b>"
   ]
  },
  {
   "cell_type": "code",
   "execution_count": 1590,
   "id": "48c2e39f",
   "metadata": {
    "scrolled": false
   },
   "outputs": [
    {
     "data": {
      "text/html": [
       "<div>\n",
       "<style scoped>\n",
       "    .dataframe tbody tr th:only-of-type {\n",
       "        vertical-align: middle;\n",
       "    }\n",
       "\n",
       "    .dataframe tbody tr th {\n",
       "        vertical-align: top;\n",
       "    }\n",
       "\n",
       "    .dataframe thead th {\n",
       "        text-align: right;\n",
       "    }\n",
       "</style>\n",
       "<table border=\"1\" class=\"dataframe\">\n",
       "  <thead>\n",
       "    <tr style=\"text-align: right;\">\n",
       "      <th></th>\n",
       "      <th>alpha</th>\n",
       "      <th>mean_accuracy</th>\n",
       "      <th>std</th>\n",
       "    </tr>\n",
       "  </thead>\n",
       "  <tbody>\n",
       "    <tr>\n",
       "      <th>17</th>\n",
       "      <td>0.016065</td>\n",
       "      <td>0.775099</td>\n",
       "      <td>0.077529</td>\n",
       "    </tr>\n",
       "  </tbody>\n",
       "</table>\n",
       "</div>"
      ],
      "text/plain": [
       "       alpha  mean_accuracy       std\n",
       "17  0.016065       0.775099  0.077529"
      ]
     },
     "execution_count": 1590,
     "metadata": {},
     "output_type": "execute_result"
    }
   ],
   "source": [
    "alpha_results[(alpha_results['alpha']>0.016)\n",
    "             &\n",
    "             (alpha_results['alpha']<0.018)]\n"
   ]
  },
  {
   "cell_type": "code",
   "execution_count": 1591,
   "id": "5a0af925",
   "metadata": {
    "scrolled": true
   },
   "outputs": [
    {
     "data": {
      "text/plain": [
       "17    0.016065\n",
       "Name: alpha, dtype: float64"
      ]
     },
     "execution_count": 1591,
     "metadata": {},
     "output_type": "execute_result"
    }
   ],
   "source": [
    "ideal_ccp_value = alpha_results[(alpha_results['alpha']>0.016)\n",
    "             &\n",
    "             (alpha_results['alpha']<0.018)]['alpha']\n",
    "ideal_ccp_value\n"
   ]
  },
  {
   "cell_type": "code",
   "execution_count": 1592,
   "id": "f781e665",
   "metadata": {},
   "outputs": [
    {
     "data": {
      "text/plain": [
       "0.01606508808960448"
      ]
     },
     "execution_count": 1592,
     "metadata": {},
     "output_type": "execute_result"
    }
   ],
   "source": [
    "ideal_ccp_value = float(ideal_ccp_value)\n",
    "ideal_ccp_value"
   ]
  },
  {
   "cell_type": "markdown",
   "id": "83df94c9",
   "metadata": {},
   "source": [
    "#### Creating our final decision tree with the optimal alpha value found"
   ]
  },
  {
   "cell_type": "code",
   "execution_count": 1593,
   "id": "b4bbe3a9",
   "metadata": {},
   "outputs": [],
   "source": [
    "decision_tree_prunned = DecisionTreeClassifier(random_state = 11,ccp_alpha = ideal_ccp_value)\n",
    "decision_tree_prunned = decision_tree_prunned.fit(x_train,y_train)"
   ]
  },
  {
   "cell_type": "markdown",
   "id": "e6aba69d",
   "metadata": {},
   "source": [
    "#### Plotting our final decision tree"
   ]
  },
  {
   "cell_type": "code",
   "execution_count": 1594,
   "id": "d7708455",
   "metadata": {
    "scrolled": false
   },
   "outputs": [
    {
     "data": {
      "text/plain": [
       "[Text(626.4, 787.32, 'X[23] <= 0.5\\ngini = 0.494\\nsamples = 227\\nvalue = [101, 126]\\nclass = +'),\n",
       " Text(313.2, 612.3600000000001, 'X[7] <= 1.95\\ngini = 0.352\\nsamples = 127\\nvalue = [29, 98]\\nclass = +'),\n",
       " Text(156.6, 437.40000000000003, 'gini = 0.276\\nsamples = 115\\nvalue = [19, 96]\\nclass = +'),\n",
       " Text(469.79999999999995, 437.40000000000003, 'gini = 0.278\\nsamples = 12\\nvalue = [10, 2]\\nclass = -'),\n",
       " Text(939.5999999999999, 612.3600000000001, 'X[6] <= 0.5\\ngini = 0.403\\nsamples = 100\\nvalue = [72, 28]\\nclass = -'),\n",
       " Text(783.0, 437.40000000000003, 'X[11] <= 0.5\\ngini = 0.5\\nsamples = 47\\nvalue = [23, 24]\\nclass = +'),\n",
       " Text(626.4, 262.44000000000005, 'X[5] <= 115.5\\ngini = 0.4\\nsamples = 29\\nvalue = [8, 21]\\nclass = +'),\n",
       " Text(469.79999999999995, 87.48000000000002, 'gini = 0.0\\nsamples = 4\\nvalue = [4, 0]\\nclass = -'),\n",
       " Text(783.0, 87.48000000000002, 'gini = 0.269\\nsamples = 25\\nvalue = [4, 21]\\nclass = +'),\n",
       " Text(939.5999999999999, 262.44000000000005, 'gini = 0.278\\nsamples = 18\\nvalue = [15, 3]\\nclass = -'),\n",
       " Text(1096.2, 437.40000000000003, 'gini = 0.14\\nsamples = 53\\nvalue = [49, 4]\\nclass = -')]"
      ]
     },
     "execution_count": 1594,
     "metadata": {},
     "output_type": "execute_result"
    },
    {
     "data": {
      "image/png": "[encoded data removed]",
      "text/plain": [
       "<Figure size 1440x1080 with 1 Axes>"
      ]
     },
     "metadata": {},
     "output_type": "display_data"
    }
   ],
   "source": [
    "plt.figure(figsize =(20,15))\n",
    "plot_tree(decision_tree_prunned,filled = True,rounded = False,class_names =['-','+'])"
   ]
  },
  {
   "cell_type": "code",
   "execution_count": 1595,
   "id": "3b701292",
   "metadata": {
    "scrolled": false
   },
   "outputs": [
    {
     "data": {
      "text/plain": [
       "<sklearn.metrics._plot.confusion_matrix.ConfusionMatrixDisplay at 0x22f5f915e50>"
      ]
     },
     "execution_count": 1595,
     "metadata": {},
     "output_type": "execute_result"
    },
    {
     "data": {
      "image/png": "[encoded data removed]",
      "text/plain": [
       "<Figure size 432x288 with 2 Axes>"
      ]
     },
     "metadata": {},
     "output_type": "display_data"
    }
   ],
   "source": [
    "plot_confusion_matrix(decision_tree_prunned,x_test,y_test,display_labels = [\"+\",\"-\"])"
   ]
  },
  {
   "cell_type": "code",
   "execution_count": 1596,
   "id": "7254e834",
   "metadata": {
    "scrolled": false
   },
   "outputs": [
    {
     "name": "stdout",
     "output_type": "stream",
     "text": [
      "              precision    recall  f1-score   support\n",
      "\n",
      "           0       0.72      0.76      0.74        37\n",
      "           1       0.76      0.72      0.74        39\n",
      "\n",
      "    accuracy                           0.74        76\n",
      "   macro avg       0.74      0.74      0.74        76\n",
      "weighted avg       0.74      0.74      0.74        76\n",
      "\n"
     ]
    }
   ],
   "source": [
    "pre = decision_tree_prunned.predict(x_test)\n",
    "scr = metrics.classification_report(y_test.to_numpy(),pre)\n",
    "print(scr)"
   ]
  },
  {
   "cell_type": "markdown",
   "id": "895119bd",
   "metadata": {},
   "source": [
    "<b> comparing to the first decision treen,we remark  this is more accurate</b>"
   ]
  },
  {
   "cell_type": "code",
   "execution_count": 1597,
   "id": "f2f02a4f",
   "metadata": {
    "scrolled": true
   },
   "outputs": [
    {
     "data": {
      "text/html": [
       "<div>\n",
       "<style scoped>\n",
       "    .dataframe tbody tr th:only-of-type {\n",
       "        vertical-align: middle;\n",
       "    }\n",
       "\n",
       "    .dataframe tbody tr th {\n",
       "        vertical-align: top;\n",
       "    }\n",
       "\n",
       "    .dataframe thead th {\n",
       "        text-align: right;\n",
       "    }\n",
       "</style>\n",
       "<table border=\"1\" class=\"dataframe\">\n",
       "  <thead>\n",
       "    <tr style=\"text-align: right;\">\n",
       "      <th></th>\n",
       "      <th>age</th>\n",
       "      <th>sex</th>\n",
       "      <th>cp</th>\n",
       "      <th>trestbps</th>\n",
       "      <th>chol</th>\n",
       "      <th>fbs</th>\n",
       "      <th>restecg</th>\n",
       "      <th>thalach</th>\n",
       "      <th>exang</th>\n",
       "      <th>oldpeak</th>\n",
       "      <th>slope</th>\n",
       "      <th>ca</th>\n",
       "      <th>thal</th>\n",
       "    </tr>\n",
       "  </thead>\n",
       "  <tbody>\n",
       "    <tr>\n",
       "      <th>0</th>\n",
       "      <td>63.0</td>\n",
       "      <td>1</td>\n",
       "      <td>3</td>\n",
       "      <td>145.0</td>\n",
       "      <td>233.0</td>\n",
       "      <td>1</td>\n",
       "      <td>0</td>\n",
       "      <td>150.0</td>\n",
       "      <td>0</td>\n",
       "      <td>2.3</td>\n",
       "      <td>0</td>\n",
       "      <td>0</td>\n",
       "      <td>1</td>\n",
       "    </tr>\n",
       "    <tr>\n",
       "      <th>1</th>\n",
       "      <td>37.0</td>\n",
       "      <td>1</td>\n",
       "      <td>2</td>\n",
       "      <td>130.0</td>\n",
       "      <td>250.0</td>\n",
       "      <td>0</td>\n",
       "      <td>1</td>\n",
       "      <td>187.0</td>\n",
       "      <td>0</td>\n",
       "      <td>3.5</td>\n",
       "      <td>0</td>\n",
       "      <td>0</td>\n",
       "      <td>2</td>\n",
       "    </tr>\n",
       "    <tr>\n",
       "      <th>2</th>\n",
       "      <td>41.0</td>\n",
       "      <td>0</td>\n",
       "      <td>1</td>\n",
       "      <td>130.0</td>\n",
       "      <td>204.0</td>\n",
       "      <td>0</td>\n",
       "      <td>0</td>\n",
       "      <td>172.0</td>\n",
       "      <td>0</td>\n",
       "      <td>1.4</td>\n",
       "      <td>2</td>\n",
       "      <td>0</td>\n",
       "      <td>2</td>\n",
       "    </tr>\n",
       "    <tr>\n",
       "      <th>3</th>\n",
       "      <td>56.0</td>\n",
       "      <td>1</td>\n",
       "      <td>1</td>\n",
       "      <td>120.0</td>\n",
       "      <td>236.0</td>\n",
       "      <td>0</td>\n",
       "      <td>1</td>\n",
       "      <td>178.0</td>\n",
       "      <td>0</td>\n",
       "      <td>0.8</td>\n",
       "      <td>2</td>\n",
       "      <td>0</td>\n",
       "      <td>2</td>\n",
       "    </tr>\n",
       "    <tr>\n",
       "      <th>4</th>\n",
       "      <td>57.0</td>\n",
       "      <td>0</td>\n",
       "      <td>0</td>\n",
       "      <td>120.0</td>\n",
       "      <td>354.0</td>\n",
       "      <td>0</td>\n",
       "      <td>1</td>\n",
       "      <td>163.0</td>\n",
       "      <td>1</td>\n",
       "      <td>0.6</td>\n",
       "      <td>2</td>\n",
       "      <td>0</td>\n",
       "      <td>2</td>\n",
       "    </tr>\n",
       "    <tr>\n",
       "      <th>...</th>\n",
       "      <td>...</td>\n",
       "      <td>...</td>\n",
       "      <td>...</td>\n",
       "      <td>...</td>\n",
       "      <td>...</td>\n",
       "      <td>...</td>\n",
       "      <td>...</td>\n",
       "      <td>...</td>\n",
       "      <td>...</td>\n",
       "      <td>...</td>\n",
       "      <td>...</td>\n",
       "      <td>...</td>\n",
       "      <td>...</td>\n",
       "    </tr>\n",
       "    <tr>\n",
       "      <th>298</th>\n",
       "      <td>57.0</td>\n",
       "      <td>0</td>\n",
       "      <td>0</td>\n",
       "      <td>140.0</td>\n",
       "      <td>241.0</td>\n",
       "      <td>0</td>\n",
       "      <td>1</td>\n",
       "      <td>123.0</td>\n",
       "      <td>1</td>\n",
       "      <td>0.2</td>\n",
       "      <td>1</td>\n",
       "      <td>0</td>\n",
       "      <td>3</td>\n",
       "    </tr>\n",
       "    <tr>\n",
       "      <th>299</th>\n",
       "      <td>45.0</td>\n",
       "      <td>1</td>\n",
       "      <td>3</td>\n",
       "      <td>110.0</td>\n",
       "      <td>264.0</td>\n",
       "      <td>0</td>\n",
       "      <td>1</td>\n",
       "      <td>132.0</td>\n",
       "      <td>0</td>\n",
       "      <td>1.2</td>\n",
       "      <td>1</td>\n",
       "      <td>0</td>\n",
       "      <td>3</td>\n",
       "    </tr>\n",
       "    <tr>\n",
       "      <th>300</th>\n",
       "      <td>68.0</td>\n",
       "      <td>1</td>\n",
       "      <td>0</td>\n",
       "      <td>144.0</td>\n",
       "      <td>193.0</td>\n",
       "      <td>1</td>\n",
       "      <td>1</td>\n",
       "      <td>141.0</td>\n",
       "      <td>0</td>\n",
       "      <td>3.4</td>\n",
       "      <td>1</td>\n",
       "      <td>2</td>\n",
       "      <td>3</td>\n",
       "    </tr>\n",
       "    <tr>\n",
       "      <th>301</th>\n",
       "      <td>57.0</td>\n",
       "      <td>1</td>\n",
       "      <td>0</td>\n",
       "      <td>130.0</td>\n",
       "      <td>131.0</td>\n",
       "      <td>0</td>\n",
       "      <td>1</td>\n",
       "      <td>115.0</td>\n",
       "      <td>1</td>\n",
       "      <td>1.2</td>\n",
       "      <td>1</td>\n",
       "      <td>1</td>\n",
       "      <td>3</td>\n",
       "    </tr>\n",
       "    <tr>\n",
       "      <th>302</th>\n",
       "      <td>57.0</td>\n",
       "      <td>0</td>\n",
       "      <td>1</td>\n",
       "      <td>130.0</td>\n",
       "      <td>236.0</td>\n",
       "      <td>0</td>\n",
       "      <td>0</td>\n",
       "      <td>174.0</td>\n",
       "      <td>0</td>\n",
       "      <td>0.0</td>\n",
       "      <td>1</td>\n",
       "      <td>1</td>\n",
       "      <td>2</td>\n",
       "    </tr>\n",
       "  </tbody>\n",
       "</table>\n",
       "<p>303 rows × 13 columns</p>\n",
       "</div>"
      ],
      "text/plain": [
       "      age  sex  cp  trestbps   chol  fbs  restecg  thalach  exang  oldpeak  \\\n",
       "0    63.0    1   3     145.0  233.0    1        0    150.0      0      2.3   \n",
       "1    37.0    1   2     130.0  250.0    0        1    187.0      0      3.5   \n",
       "2    41.0    0   1     130.0  204.0    0        0    172.0      0      1.4   \n",
       "3    56.0    1   1     120.0  236.0    0        1    178.0      0      0.8   \n",
       "4    57.0    0   0     120.0  354.0    0        1    163.0      1      0.6   \n",
       "..    ...  ...  ..       ...    ...  ...      ...      ...    ...      ...   \n",
       "298  57.0    0   0     140.0  241.0    0        1    123.0      1      0.2   \n",
       "299  45.0    1   3     110.0  264.0    0        1    132.0      0      1.2   \n",
       "300  68.0    1   0     144.0  193.0    1        1    141.0      0      3.4   \n",
       "301  57.0    1   0     130.0  131.0    0        1    115.0      1      1.2   \n",
       "302  57.0    0   1     130.0  236.0    0        0    174.0      0      0.0   \n",
       "\n",
       "     slope  ca  thal  \n",
       "0        0   0     1  \n",
       "1        0   0     2  \n",
       "2        2   0     2  \n",
       "3        2   0     2  \n",
       "4        2   0     2  \n",
       "..     ...  ..   ...  \n",
       "298      1   0     3  \n",
       "299      1   0     3  \n",
       "300      1   2     3  \n",
       "301      1   1     3  \n",
       "302      1   1     2  \n",
       "\n",
       "[303 rows x 13 columns]"
      ]
     },
     "execution_count": 1597,
     "metadata": {},
     "output_type": "execute_result"
    }
   ],
   "source": [
    "data_dt"
   ]
  },
  {
   "cell_type": "markdown",
   "id": "1b57044a",
   "metadata": {},
   "source": [
    "#### In hope of finding a more accurate model,we propose to use sklearn random forest classifier to predict the target"
   ]
  },
  {
   "cell_type": "code",
   "execution_count": 1598,
   "id": "73f78c05",
   "metadata": {},
   "outputs": [],
   "source": [
    "x_train,x_test,y_train,y_test = train_test_split(data_dt_encoded,target,random_state = 14)"
   ]
  },
  {
   "cell_type": "code",
   "execution_count": 1599,
   "id": "d70b60ea",
   "metadata": {},
   "outputs": [],
   "source": [
    "#setting the n_estimators(wich corresponds on the number of tree in the forest) to 200\n",
    "#(I manually checked different values of n and 200 is relatively optimal)\n",
    "random_forest = RandomForestClassifier(n_estimators = 200,random_state = 13)\n",
    "random_forest.fit(x_train,y_train)\n",
    "\n",
    "pre = random_forest.predict(x_test)"
   ]
  },
  {
   "cell_type": "code",
   "execution_count": 1600,
   "id": "dde060d1",
   "metadata": {},
   "outputs": [
    {
     "data": {
      "text/plain": [
       "<sklearn.metrics._plot.confusion_matrix.ConfusionMatrixDisplay at 0x22f65374520>"
      ]
     },
     "execution_count": 1600,
     "metadata": {},
     "output_type": "execute_result"
    },
    {
     "data": {
      "image/png": "[encoded data removed]",
      "text/plain": [
       "<Figure size 432x288 with 2 Axes>"
      ]
     },
     "metadata": {},
     "output_type": "display_data"
    }
   ],
   "source": [
    "plot_confusion_matrix(random_forest,x_test,y_test,display_labels = [\"+\",\"-\"])"
   ]
  },
  {
   "cell_type": "code",
   "execution_count": 1601,
   "id": "757b6bb5",
   "metadata": {
    "scrolled": false
   },
   "outputs": [
    {
     "name": "stdout",
     "output_type": "stream",
     "text": [
      "              precision    recall  f1-score   support\n",
      "\n",
      "           0       0.76      0.83      0.79        35\n",
      "           1       0.84      0.78      0.81        41\n",
      "\n",
      "    accuracy                           0.80        76\n",
      "   macro avg       0.80      0.80      0.80        76\n",
      "weighted avg       0.81      0.80      0.80        76\n",
      "\n"
     ]
    }
   ],
   "source": [
    "scr = metrics.classification_report(y_test.to_numpy(),pre)\n",
    "print(scr)"
   ]
  },
  {
   "cell_type": "code",
   "execution_count": 1602,
   "id": "c618ea59",
   "metadata": {},
   "outputs": [],
   "source": [
    "#### we conclude that random forest did a better job at predicting the target than the decison tree(which is obvious)"
   ]
  },
  {
   "cell_type": "code",
   "execution_count": 1603,
   "id": "8c9292ff",
   "metadata": {},
   "outputs": [],
   "source": [
    "### Now,we propose to use logistic regression to classify the target"
   ]
  },
  {
   "cell_type": "code",
   "execution_count": 1604,
   "id": "a3b12d1b",
   "metadata": {},
   "outputs": [
    {
     "data": {
      "text/html": [
       "<div>\n",
       "<style scoped>\n",
       "    .dataframe tbody tr th:only-of-type {\n",
       "        vertical-align: middle;\n",
       "    }\n",
       "\n",
       "    .dataframe tbody tr th {\n",
       "        vertical-align: top;\n",
       "    }\n",
       "\n",
       "    .dataframe thead th {\n",
       "        text-align: right;\n",
       "    }\n",
       "</style>\n",
       "<table border=\"1\" class=\"dataframe\">\n",
       "  <thead>\n",
       "    <tr style=\"text-align: right;\">\n",
       "      <th></th>\n",
       "      <th>age</th>\n",
       "      <th>sex</th>\n",
       "      <th>cp</th>\n",
       "      <th>trestbps</th>\n",
       "      <th>chol</th>\n",
       "      <th>fbs</th>\n",
       "      <th>restecg</th>\n",
       "      <th>thalach</th>\n",
       "      <th>exang</th>\n",
       "      <th>oldpeak</th>\n",
       "      <th>slope</th>\n",
       "      <th>ca</th>\n",
       "      <th>thal</th>\n",
       "      <th>target</th>\n",
       "    </tr>\n",
       "  </thead>\n",
       "  <tbody>\n",
       "    <tr>\n",
       "      <th>0</th>\n",
       "      <td>63</td>\n",
       "      <td>1</td>\n",
       "      <td>3</td>\n",
       "      <td>145</td>\n",
       "      <td>233</td>\n",
       "      <td>1</td>\n",
       "      <td>0</td>\n",
       "      <td>150</td>\n",
       "      <td>0</td>\n",
       "      <td>2.3</td>\n",
       "      <td>0</td>\n",
       "      <td>0</td>\n",
       "      <td>1</td>\n",
       "      <td>1</td>\n",
       "    </tr>\n",
       "    <tr>\n",
       "      <th>1</th>\n",
       "      <td>37</td>\n",
       "      <td>1</td>\n",
       "      <td>2</td>\n",
       "      <td>130</td>\n",
       "      <td>250</td>\n",
       "      <td>0</td>\n",
       "      <td>1</td>\n",
       "      <td>187</td>\n",
       "      <td>0</td>\n",
       "      <td>3.5</td>\n",
       "      <td>0</td>\n",
       "      <td>0</td>\n",
       "      <td>2</td>\n",
       "      <td>1</td>\n",
       "    </tr>\n",
       "    <tr>\n",
       "      <th>2</th>\n",
       "      <td>41</td>\n",
       "      <td>0</td>\n",
       "      <td>1</td>\n",
       "      <td>130</td>\n",
       "      <td>204</td>\n",
       "      <td>0</td>\n",
       "      <td>0</td>\n",
       "      <td>172</td>\n",
       "      <td>0</td>\n",
       "      <td>1.4</td>\n",
       "      <td>2</td>\n",
       "      <td>0</td>\n",
       "      <td>2</td>\n",
       "      <td>1</td>\n",
       "    </tr>\n",
       "    <tr>\n",
       "      <th>3</th>\n",
       "      <td>56</td>\n",
       "      <td>1</td>\n",
       "      <td>1</td>\n",
       "      <td>120</td>\n",
       "      <td>236</td>\n",
       "      <td>0</td>\n",
       "      <td>1</td>\n",
       "      <td>178</td>\n",
       "      <td>0</td>\n",
       "      <td>0.8</td>\n",
       "      <td>2</td>\n",
       "      <td>0</td>\n",
       "      <td>2</td>\n",
       "      <td>1</td>\n",
       "    </tr>\n",
       "    <tr>\n",
       "      <th>4</th>\n",
       "      <td>57</td>\n",
       "      <td>0</td>\n",
       "      <td>0</td>\n",
       "      <td>120</td>\n",
       "      <td>354</td>\n",
       "      <td>0</td>\n",
       "      <td>1</td>\n",
       "      <td>163</td>\n",
       "      <td>1</td>\n",
       "      <td>0.6</td>\n",
       "      <td>2</td>\n",
       "      <td>0</td>\n",
       "      <td>2</td>\n",
       "      <td>1</td>\n",
       "    </tr>\n",
       "    <tr>\n",
       "      <th>...</th>\n",
       "      <td>...</td>\n",
       "      <td>...</td>\n",
       "      <td>...</td>\n",
       "      <td>...</td>\n",
       "      <td>...</td>\n",
       "      <td>...</td>\n",
       "      <td>...</td>\n",
       "      <td>...</td>\n",
       "      <td>...</td>\n",
       "      <td>...</td>\n",
       "      <td>...</td>\n",
       "      <td>...</td>\n",
       "      <td>...</td>\n",
       "      <td>...</td>\n",
       "    </tr>\n",
       "    <tr>\n",
       "      <th>298</th>\n",
       "      <td>57</td>\n",
       "      <td>0</td>\n",
       "      <td>0</td>\n",
       "      <td>140</td>\n",
       "      <td>241</td>\n",
       "      <td>0</td>\n",
       "      <td>1</td>\n",
       "      <td>123</td>\n",
       "      <td>1</td>\n",
       "      <td>0.2</td>\n",
       "      <td>1</td>\n",
       "      <td>0</td>\n",
       "      <td>3</td>\n",
       "      <td>0</td>\n",
       "    </tr>\n",
       "    <tr>\n",
       "      <th>299</th>\n",
       "      <td>45</td>\n",
       "      <td>1</td>\n",
       "      <td>3</td>\n",
       "      <td>110</td>\n",
       "      <td>264</td>\n",
       "      <td>0</td>\n",
       "      <td>1</td>\n",
       "      <td>132</td>\n",
       "      <td>0</td>\n",
       "      <td>1.2</td>\n",
       "      <td>1</td>\n",
       "      <td>0</td>\n",
       "      <td>3</td>\n",
       "      <td>0</td>\n",
       "    </tr>\n",
       "    <tr>\n",
       "      <th>300</th>\n",
       "      <td>68</td>\n",
       "      <td>1</td>\n",
       "      <td>0</td>\n",
       "      <td>144</td>\n",
       "      <td>193</td>\n",
       "      <td>1</td>\n",
       "      <td>1</td>\n",
       "      <td>141</td>\n",
       "      <td>0</td>\n",
       "      <td>3.4</td>\n",
       "      <td>1</td>\n",
       "      <td>2</td>\n",
       "      <td>3</td>\n",
       "      <td>0</td>\n",
       "    </tr>\n",
       "    <tr>\n",
       "      <th>301</th>\n",
       "      <td>57</td>\n",
       "      <td>1</td>\n",
       "      <td>0</td>\n",
       "      <td>130</td>\n",
       "      <td>131</td>\n",
       "      <td>0</td>\n",
       "      <td>1</td>\n",
       "      <td>115</td>\n",
       "      <td>1</td>\n",
       "      <td>1.2</td>\n",
       "      <td>1</td>\n",
       "      <td>1</td>\n",
       "      <td>3</td>\n",
       "      <td>0</td>\n",
       "    </tr>\n",
       "    <tr>\n",
       "      <th>302</th>\n",
       "      <td>57</td>\n",
       "      <td>0</td>\n",
       "      <td>1</td>\n",
       "      <td>130</td>\n",
       "      <td>236</td>\n",
       "      <td>0</td>\n",
       "      <td>0</td>\n",
       "      <td>174</td>\n",
       "      <td>0</td>\n",
       "      <td>0.0</td>\n",
       "      <td>1</td>\n",
       "      <td>1</td>\n",
       "      <td>2</td>\n",
       "      <td>0</td>\n",
       "    </tr>\n",
       "  </tbody>\n",
       "</table>\n",
       "<p>303 rows × 14 columns</p>\n",
       "</div>"
      ],
      "text/plain": [
       "     age  sex  cp  trestbps  chol  fbs  restecg  thalach  exang  oldpeak  \\\n",
       "0     63    1   3       145   233    1        0      150      0      2.3   \n",
       "1     37    1   2       130   250    0        1      187      0      3.5   \n",
       "2     41    0   1       130   204    0        0      172      0      1.4   \n",
       "3     56    1   1       120   236    0        1      178      0      0.8   \n",
       "4     57    0   0       120   354    0        1      163      1      0.6   \n",
       "..   ...  ...  ..       ...   ...  ...      ...      ...    ...      ...   \n",
       "298   57    0   0       140   241    0        1      123      1      0.2   \n",
       "299   45    1   3       110   264    0        1      132      0      1.2   \n",
       "300   68    1   0       144   193    1        1      141      0      3.4   \n",
       "301   57    1   0       130   131    0        1      115      1      1.2   \n",
       "302   57    0   1       130   236    0        0      174      0      0.0   \n",
       "\n",
       "     slope  ca  thal  target  \n",
       "0        0   0     1       1  \n",
       "1        0   0     2       1  \n",
       "2        2   0     2       1  \n",
       "3        2   0     2       1  \n",
       "4        2   0     2       1  \n",
       "..     ...  ..   ...     ...  \n",
       "298      1   0     3       0  \n",
       "299      1   0     3       0  \n",
       "300      1   2     3       0  \n",
       "301      1   1     3       0  \n",
       "302      1   1     2       0  \n",
       "\n",
       "[303 rows x 14 columns]"
      ]
     },
     "execution_count": 1604,
     "metadata": {},
     "output_type": "execute_result"
    }
   ],
   "source": [
    "data_lr = data.copy()\n",
    "data_lr"
   ]
  },
  {
   "cell_type": "code",
   "execution_count": 1605,
   "id": "1a1e7277",
   "metadata": {},
   "outputs": [],
   "source": [
    "x_train,x_test,y_train,y_test = train_test_split(data_lr,target,test_size = 0.25,random_state = 11)"
   ]
  },
  {
   "cell_type": "code",
   "execution_count": 1606,
   "id": "b8a5a9a2",
   "metadata": {},
   "outputs": [],
   "source": [
    "scaler = StandardScaler()\n",
    "x_train = scaler.fit_transform(x_train)\n",
    "x_test = scaler.fit_transform(x_test)"
   ]
  },
  {
   "cell_type": "code",
   "execution_count": 1607,
   "id": "48be0dbd",
   "metadata": {},
   "outputs": [],
   "source": [
    "\n",
    "model_lr = LogisticRegression()\n",
    "model_lr.fit(x_train,y_train)\n",
    "\n",
    "pre = model_lr.predict(x_test)  "
   ]
  },
  {
   "cell_type": "code",
   "execution_count": 1608,
   "id": "b8bdb35e",
   "metadata": {},
   "outputs": [
    {
     "data": {
      "text/html": [
       "<div>\n",
       "<style scoped>\n",
       "    .dataframe tbody tr th:only-of-type {\n",
       "        vertical-align: middle;\n",
       "    }\n",
       "\n",
       "    .dataframe tbody tr th {\n",
       "        vertical-align: top;\n",
       "    }\n",
       "\n",
       "    .dataframe thead th {\n",
       "        text-align: right;\n",
       "    }\n",
       "</style>\n",
       "<table border=\"1\" class=\"dataframe\">\n",
       "  <thead>\n",
       "    <tr style=\"text-align: right;\">\n",
       "      <th></th>\n",
       "      <th>predicted yes</th>\n",
       "      <th>predicted No</th>\n",
       "    </tr>\n",
       "  </thead>\n",
       "  <tbody>\n",
       "    <tr>\n",
       "      <th>actual Yes</th>\n",
       "      <td>31</td>\n",
       "      <td>0</td>\n",
       "    </tr>\n",
       "    <tr>\n",
       "      <th>actual No</th>\n",
       "      <td>0</td>\n",
       "      <td>45</td>\n",
       "    </tr>\n",
       "  </tbody>\n",
       "</table>\n",
       "</div>"
      ],
      "text/plain": [
       "            predicted yes  predicted No \n",
       "actual Yes             31              0\n",
       "actual No               0             45"
      ]
     },
     "execution_count": 1608,
     "metadata": {},
     "output_type": "execute_result"
    }
   ],
   "source": [
    "confusion_matrix  = metrics.confusion_matrix(y_test.to_numpy(),pre)\n",
    "pd.DataFrame(confusion_matrix,columns = [\"predicted yes\",\"predicted No \"], index = [\"actual Yes\",\"actual No\"])\n",
    "   "
   ]
  },
  {
   "cell_type": "code",
   "execution_count": 1609,
   "id": "3a6127e3",
   "metadata": {
    "scrolled": true
   },
   "outputs": [
    {
     "name": "stdout",
     "output_type": "stream",
     "text": [
      "              precision    recall  f1-score   support\n",
      "\n",
      "           0       1.00      1.00      1.00        31\n",
      "           1       1.00      1.00      1.00        45\n",
      "\n",
      "    accuracy                           1.00        76\n",
      "   macro avg       1.00      1.00      1.00        76\n",
      "weighted avg       1.00      1.00      1.00        76\n",
      "\n"
     ]
    }
   ],
   "source": [
    "scr = metrics.classification_report(y_test.to_numpy(),pre)\n",
    "print(scr)"
   ]
  },
  {
   "cell_type": "markdown",
   "id": "7e96f35f",
   "metadata": {},
   "source": [
    "### we conclude that logistic regression is better than decison tree and random forest at predicting the target and is optimal."
   ]
  }
 ],
 "metadata": {
  "kernelspec": {
   "display_name": "Python 3 (ipykernel)",
   "language": "python",
   "name": "python3"
  },
  "language_info": {
   "codemirror_mode": {
    "name": "ipython",
    "version": 3
   },
   "file_extension": ".py",
   "mimetype": "text/x-python",
   "name": "python",
   "nbconvert_exporter": "python",
   "pygments_lexer": "ipython3",
   "version": "3.8.11"
  }
 },
 "nbformat": 4,
 "nbformat_minor": 5
}
